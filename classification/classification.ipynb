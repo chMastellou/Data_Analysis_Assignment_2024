{
 "cells": [
  {
   "cell_type": "markdown",
   "id": "9388fe2b5c057093",
   "metadata": {},
   "source": [
    "### Βήμα 3: Classification δεδομένων"
   ]
  },
  {
   "cell_type": "markdown",
   "id": "12d3eebee5ad642e",
   "metadata": {},
   "source": [
    "#### Βιβλιοθήκες"
   ]
  },
  {
   "cell_type": "code",
   "id": "initial_id",
   "metadata": {
    "ExecuteTime": {
     "end_time": "2024-09-13T20:32:49.299431Z",
     "start_time": "2024-09-13T20:32:49.285418Z"
    }
   },
   "source": [
    "from operator import index\n",
    "\n",
    "import numpy as np\n",
    "import pandas as pd\n",
    "import seaborn as sns\n",
    "from keras.src.saving.legacy.saved_model.load import metrics\n",
    "from matplotlib import pyplot as plt\n",
    "from sklearn.model_selection import train_test_split\n",
    "from sklearn.preprocessing import StandardScaler, LabelEncoder, OrdinalEncoder\n",
    "from sklearn.naive_bayes import GaussianNB\n",
    "from sklearn import metrics\n",
    "from sklearn.metrics import accuracy_score, classification_report, confusion_matrix, roc_curve, RocCurveDisplay\n",
    "from sklearn.metrics import f1_score\n",
    "from xgboost import XGBClassifier\n",
    "from sklearn.metrics import roc_auc_score\n",
    "from sklearn.metrics import roc_curve\n",
    "import tensorflow as tf\n",
    "from tensorflow.keras.models import Sequential\n",
    "from tensorflow.keras.layers import Dense, Input"
   ],
   "outputs": [],
   "execution_count": 206
  },
  {
   "cell_type": "markdown",
   "id": "723aafbaaefe67d5",
   "metadata": {},
   "source": [
    "#### Φόρτωση δεδομένων"
   ]
  },
  {
   "cell_type": "code",
   "id": "8500396204bb900d",
   "metadata": {
    "ExecuteTime": {
     "end_time": "2024-09-13T20:32:49.379511Z",
     "start_time": "2024-09-13T20:32:49.318448Z"
    }
   },
   "source": [
    "bank_data = pd.read_csv('../data_preprocessing/clean_data.csv')\n",
    "# Get rid of unwanted extra column\n",
    "bank_data.drop('Unnamed: 0', axis=1, inplace=True)"
   ],
   "outputs": [],
   "execution_count": 207
  },
  {
   "cell_type": "markdown",
   "id": "6275a5274dffb80",
   "metadata": {},
   "source": [
    "### 1ος Ταξινομητής: Bayesian"
   ]
  },
  {
   "cell_type": "markdown",
   "id": "ae6d2fd69fc9d064",
   "metadata": {},
   "source": [
    "#### Encoding κατηγορικών χαρακτηριστικών"
   ]
  },
  {
   "metadata": {
    "ExecuteTime": {
     "end_time": "2024-09-13T20:32:49.457286Z",
     "start_time": "2024-09-13T20:32:49.428264Z"
    }
   },
   "cell_type": "code",
   "source": "bank_data, bank_data_label = pd.get_dummies(bank_data.drop('y', axis=1)), bank_data.y",
   "id": "669b8374ee48d3ac",
   "outputs": [],
   "execution_count": 208
  },
  {
   "metadata": {},
   "cell_type": "markdown",
   "source": "#### Διαχωρισμός εξαρτημένων(y) και ανεξάρτηων μεταβλητών",
   "id": "96e7a960383c4fee"
  },
  {
   "metadata": {
    "ExecuteTime": {
     "end_time": "2024-09-13T20:32:49.520801Z",
     "start_time": "2024-09-13T20:32:49.505786Z"
    }
   },
   "cell_type": "code",
   "source": [
    "X = bank_data\n",
    "y = bank_data_label"
   ],
   "id": "edc5d2872b5a062b",
   "outputs": [],
   "execution_count": 209
  },
  {
   "metadata": {},
   "cell_type": "markdown",
   "source": "#### Split",
   "id": "f0248114e56f0719"
  },
  {
   "metadata": {
    "ExecuteTime": {
     "end_time": "2024-09-13T20:32:49.600821Z",
     "start_time": "2024-09-13T20:32:49.569793Z"
    }
   },
   "cell_type": "code",
   "source": "X_train, X_test, y_train, y_test = train_test_split(X, y, test_size=0.2, random_state=True, stratify=y)",
   "id": "c6a67d4923355001",
   "outputs": [],
   "execution_count": 210
  },
  {
   "metadata": {},
   "cell_type": "markdown",
   "source": "#### Κανονικοποίηση",
   "id": "ea128bc8be328c11"
  },
  {
   "metadata": {
    "ExecuteTime": {
     "end_time": "2024-09-13T20:32:49.728937Z",
     "start_time": "2024-09-13T20:32:49.666882Z"
    }
   },
   "cell_type": "code",
   "source": [
    "scaler = StandardScaler()\n",
    "X_train = scaler.fit_transform(X_train)\n",
    "X_test = scaler.transform(X_test)"
   ],
   "id": "eb2549c1a630d350",
   "outputs": [],
   "execution_count": 211
  },
  {
   "cell_type": "markdown",
   "id": "cd0b17cafbd1f91f",
   "metadata": {},
   "source": [
    "#### Εκπαίδευση του Bayesian ταξινομητή"
   ]
  },
  {
   "cell_type": "code",
   "id": "1fb3ecd2e5a8befd",
   "metadata": {
    "ExecuteTime": {
     "end_time": "2024-09-13T20:32:49.824024Z",
     "start_time": "2024-09-13T20:32:49.778984Z"
    }
   },
   "source": [
    "classifier = GaussianNB()\n",
    "classifier.fit(X_train, y_train)"
   ],
   "outputs": [
    {
     "data": {
      "text/plain": [
       "GaussianNB()"
      ],
      "text/html": [
       "<style>#sk-container-id-13 {color: black;}#sk-container-id-13 pre{padding: 0;}#sk-container-id-13 div.sk-toggleable {background-color: white;}#sk-container-id-13 label.sk-toggleable__label {cursor: pointer;display: block;width: 100%;margin-bottom: 0;padding: 0.3em;box-sizing: border-box;text-align: center;}#sk-container-id-13 label.sk-toggleable__label-arrow:before {content: \"▸\";float: left;margin-right: 0.25em;color: #696969;}#sk-container-id-13 label.sk-toggleable__label-arrow:hover:before {color: black;}#sk-container-id-13 div.sk-estimator:hover label.sk-toggleable__label-arrow:before {color: black;}#sk-container-id-13 div.sk-toggleable__content {max-height: 0;max-width: 0;overflow: hidden;text-align: left;background-color: #f0f8ff;}#sk-container-id-13 div.sk-toggleable__content pre {margin: 0.2em;color: black;border-radius: 0.25em;background-color: #f0f8ff;}#sk-container-id-13 input.sk-toggleable__control:checked~div.sk-toggleable__content {max-height: 200px;max-width: 100%;overflow: auto;}#sk-container-id-13 input.sk-toggleable__control:checked~label.sk-toggleable__label-arrow:before {content: \"▾\";}#sk-container-id-13 div.sk-estimator input.sk-toggleable__control:checked~label.sk-toggleable__label {background-color: #d4ebff;}#sk-container-id-13 div.sk-label input.sk-toggleable__control:checked~label.sk-toggleable__label {background-color: #d4ebff;}#sk-container-id-13 input.sk-hidden--visually {border: 0;clip: rect(1px 1px 1px 1px);clip: rect(1px, 1px, 1px, 1px);height: 1px;margin: -1px;overflow: hidden;padding: 0;position: absolute;width: 1px;}#sk-container-id-13 div.sk-estimator {font-family: monospace;background-color: #f0f8ff;border: 1px dotted black;border-radius: 0.25em;box-sizing: border-box;margin-bottom: 0.5em;}#sk-container-id-13 div.sk-estimator:hover {background-color: #d4ebff;}#sk-container-id-13 div.sk-parallel-item::after {content: \"\";width: 100%;border-bottom: 1px solid gray;flex-grow: 1;}#sk-container-id-13 div.sk-label:hover label.sk-toggleable__label {background-color: #d4ebff;}#sk-container-id-13 div.sk-serial::before {content: \"\";position: absolute;border-left: 1px solid gray;box-sizing: border-box;top: 0;bottom: 0;left: 50%;z-index: 0;}#sk-container-id-13 div.sk-serial {display: flex;flex-direction: column;align-items: center;background-color: white;padding-right: 0.2em;padding-left: 0.2em;position: relative;}#sk-container-id-13 div.sk-item {position: relative;z-index: 1;}#sk-container-id-13 div.sk-parallel {display: flex;align-items: stretch;justify-content: center;background-color: white;position: relative;}#sk-container-id-13 div.sk-item::before, #sk-container-id-13 div.sk-parallel-item::before {content: \"\";position: absolute;border-left: 1px solid gray;box-sizing: border-box;top: 0;bottom: 0;left: 50%;z-index: -1;}#sk-container-id-13 div.sk-parallel-item {display: flex;flex-direction: column;z-index: 1;position: relative;background-color: white;}#sk-container-id-13 div.sk-parallel-item:first-child::after {align-self: flex-end;width: 50%;}#sk-container-id-13 div.sk-parallel-item:last-child::after {align-self: flex-start;width: 50%;}#sk-container-id-13 div.sk-parallel-item:only-child::after {width: 0;}#sk-container-id-13 div.sk-dashed-wrapped {border: 1px dashed gray;margin: 0 0.4em 0.5em 0.4em;box-sizing: border-box;padding-bottom: 0.4em;background-color: white;}#sk-container-id-13 div.sk-label label {font-family: monospace;font-weight: bold;display: inline-block;line-height: 1.2em;}#sk-container-id-13 div.sk-label-container {text-align: center;}#sk-container-id-13 div.sk-container {/* jupyter's `normalize.less` sets `[hidden] { display: none; }` but bootstrap.min.css set `[hidden] { display: none !important; }` so we also need the `!important` here to be able to override the default hidden behavior on the sphinx rendered scikit-learn.org. See: https://github.com/scikit-learn/scikit-learn/issues/21755 */display: inline-block !important;position: relative;}#sk-container-id-13 div.sk-text-repr-fallback {display: none;}</style><div id=\"sk-container-id-13\" class=\"sk-top-container\"><div class=\"sk-text-repr-fallback\"><pre>GaussianNB()</pre><b>In a Jupyter environment, please rerun this cell to show the HTML representation or trust the notebook. <br />On GitHub, the HTML representation is unable to render, please try loading this page with nbviewer.org.</b></div><div class=\"sk-container\" hidden><div class=\"sk-item\"><div class=\"sk-estimator sk-toggleable\"><input class=\"sk-toggleable__control sk-hidden--visually\" id=\"sk-estimator-id-13\" type=\"checkbox\" checked><label for=\"sk-estimator-id-13\" class=\"sk-toggleable__label sk-toggleable__label-arrow\">GaussianNB</label><div class=\"sk-toggleable__content\"><pre>GaussianNB()</pre></div></div></div></div></div>"
      ]
     },
     "execution_count": 212,
     "metadata": {},
     "output_type": "execute_result"
    }
   ],
   "execution_count": 212
  },
  {
   "cell_type": "markdown",
   "id": "6345be67c4e2bbae",
   "metadata": {},
   "source": [
    "### Αξιολόγηση ταξινομητή"
   ]
  },
  {
   "cell_type": "markdown",
   "id": "6cbaa166684e2064",
   "metadata": {},
   "source": [
    "#### Accuracy Score"
   ]
  },
  {
   "metadata": {
    "ExecuteTime": {
     "end_time": "2024-09-13T20:32:49.888082Z",
     "start_time": "2024-09-13T20:32:49.873068Z"
    }
   },
   "cell_type": "code",
   "source": "y_prediction = classifier.predict(X_test)",
   "id": "1b7963ff0d730450",
   "outputs": [],
   "execution_count": 213
  },
  {
   "cell_type": "code",
   "id": "7496323fd7f65185",
   "metadata": {
    "ExecuteTime": {
     "end_time": "2024-09-13T20:32:49.952140Z",
     "start_time": "2024-09-13T20:32:49.937126Z"
    }
   },
   "source": [
    "accuracy_score(y_test, y_prediction)"
   ],
   "outputs": [
    {
     "data": {
      "text/plain": [
       "0.8803982415309025"
      ]
     },
     "execution_count": 214,
     "metadata": {},
     "output_type": "execute_result"
    }
   ],
   "execution_count": 214
  },
  {
   "cell_type": "markdown",
   "id": "d7eee76cfd3e3671",
   "metadata": {},
   "source": [
    "#### Classification Report"
   ]
  },
  {
   "cell_type": "code",
   "id": "157d49788d8a27af",
   "metadata": {
    "ExecuteTime": {
     "end_time": "2024-09-13T20:32:50.064242Z",
     "start_time": "2024-09-13T20:32:50.043223Z"
    }
   },
   "source": [
    "print(f'Classification Report: \\n{classification_report(y_test, y_prediction)}')"
   ],
   "outputs": [
    {
     "name": "stdout",
     "output_type": "stream",
     "text": [
      "Classification Report: \n",
      "              precision    recall  f1-score   support\n",
      "\n",
      "       False       0.94      0.93      0.93      7057\n",
      "        True       0.34      0.39      0.37       677\n",
      "\n",
      "    accuracy                           0.88      7734\n",
      "   macro avg       0.64      0.66      0.65      7734\n",
      "weighted avg       0.89      0.88      0.88      7734\n",
      "\n"
     ]
    }
   ],
   "execution_count": 215
  },
  {
   "cell_type": "markdown",
   "id": "9d4699b4fd978996",
   "metadata": {},
   "source": [
    "#### Confusion Matrix"
   ]
  },
  {
   "cell_type": "code",
   "id": "994c44bf9d8c9e0d",
   "metadata": {
    "ExecuteTime": {
     "end_time": "2024-09-13T20:32:50.303459Z",
     "start_time": "2024-09-13T20:32:50.136308Z"
    }
   },
   "source": [
    "cf_matrix = confusion_matrix(y_test, y_prediction)\n",
    "sns.heatmap(cf_matrix, annot=True, fmt='d', cmap='Blues', cbar=True)"
   ],
   "outputs": [
    {
     "data": {
      "text/plain": [
       "<Axes: >"
      ]
     },
     "execution_count": 216,
     "metadata": {},
     "output_type": "execute_result"
    },
    {
     "data": {
      "text/plain": [
       "<Figure size 640x480 with 2 Axes>"
      ],
      "image/png": "[encoded data removed]"
     },
     "metadata": {},
     "output_type": "display_data"
    }
   ],
   "execution_count": 216
  },
  {
   "cell_type": "markdown",
   "id": "5e7a7a415ded7841",
   "metadata": {},
   "source": []
  },
  {
   "cell_type": "markdown",
   "id": "9b6de26bf65191d8",
   "metadata": {},
   "source": [
    "#### AUC/ROC curve"
   ]
  },
  {
   "cell_type": "code",
   "id": "fc899cac45be2fd2",
   "metadata": {
    "ExecuteTime": {
     "end_time": "2024-09-13T20:32:50.574705Z",
     "start_time": "2024-09-13T20:32:50.353504Z"
    }
   },
   "source": [
    "# Plot AUC/ROC curve\n",
    "y_pred_proba = classifier.predict_proba(X_test)[:,1]\n",
    "fpr, tpr, thresholds = metrics.roc_curve(y_test,  y_pred_proba)\n",
    "\n",
    "fig, ax = plt.subplots(figsize=(6,6))\n",
    "ax.plot(fpr, tpr, label='Naive Bayes Classification', color = 'firebrick')\n",
    "ax.set_title('ROC Curve')\n",
    "ax.set_xlabel('False Positive Rate')\n",
    "ax.set_ylabel('True Positive Rate')\n",
    "plt.box(False)\n",
    "ax.legend();"
   ],
   "outputs": [
    {
     "data": {
      "text/plain": [
       "<Figure size 600x600 with 1 Axes>"
      ],
      "image/png": "[encoded data removed]"
     },
     "metadata": {},
     "output_type": "display_data"
    }
   ],
   "execution_count": 217
  },
  {
   "cell_type": "markdown",
   "id": "f9152207f51b31af",
   "metadata": {},
   "source": [
    "### 2ος Ταξινομητής: XGBoost"
   ]
  },
  {
   "cell_type": "markdown",
   "id": "eb04166f638c0763",
   "metadata": {},
   "source": [
    "#### Διαχωρισμός ανεξάρτητων και εξαρτημένων μεταβλητών, split"
   ]
  },
  {
   "cell_type": "code",
   "id": "6e7ce6a518380c2",
   "metadata": {
    "ExecuteTime": {
     "end_time": "2024-09-13T20:32:50.654292Z",
     "start_time": "2024-09-13T20:32:50.624261Z"
    }
   },
   "source": [
    "X_train_full_xgb = X_train\n",
    "X_test_xgb = X_test\n",
    "y_train_full_xgb = y_train\n",
    "y_test_xgb = y_test\n",
    "\n",
    "# Making validation sets\n",
    "X_train_xgb, X_val_xgb, y_train_xgb, y_val_xgb = train_test_split(X_train_full_xgb, y_train_full_xgb, test_size=0.2, random_state=42, stratify=y_train_full_xgb) "
   ],
   "outputs": [],
   "execution_count": 218
  },
  {
   "cell_type": "markdown",
   "id": "73f42c2b46bdb58d",
   "metadata": {},
   "source": [
    "#### Εκπαίδευση του ταξινομητή"
   ]
  },
  {
   "cell_type": "code",
   "id": "d87ed15ca1334b07",
   "metadata": {
    "ExecuteTime": {
     "end_time": "2024-09-13T20:32:50.814437Z",
     "start_time": "2024-09-13T20:32:50.703336Z"
    }
   },
   "source": [
    "xgboost_classifier = XGBClassifier(n_estimators=25,n_jobs=-1, early_stopping_rounds=10)\n",
    "xgboost_classifier.fit(X_train_xgb, y_train_xgb, eval_set=[(X_val_xgb, y_val_xgb)], verbose=False)"
   ],
   "outputs": [
    {
     "data": {
      "text/plain": [
       "XGBClassifier(base_score=None, booster=None, callbacks=None,\n",
       "              colsample_bylevel=None, colsample_bynode=None,\n",
       "              colsample_bytree=None, device=None, early_stopping_rounds=10,\n",
       "              enable_categorical=False, eval_metric=None, feature_types=None,\n",
       "              gamma=None, grow_policy=None, importance_type=None,\n",
       "              interaction_constraints=None, learning_rate=None, max_bin=None,\n",
       "              max_cat_threshold=None, max_cat_to_onehot=None,\n",
       "              max_delta_step=None, max_depth=None, max_leaves=None,\n",
       "              min_child_weight=None, missing=nan, monotone_constraints=None,\n",
       "              multi_strategy=None, n_estimators=25, n_jobs=-1,\n",
       "              num_parallel_tree=None, random_state=None, ...)"
      ],
      "text/html": [
       "<style>#sk-container-id-14 {color: black;}#sk-container-id-14 pre{padding: 0;}#sk-container-id-14 div.sk-toggleable {background-color: white;}#sk-container-id-14 label.sk-toggleable__label {cursor: pointer;display: block;width: 100%;margin-bottom: 0;padding: 0.3em;box-sizing: border-box;text-align: center;}#sk-container-id-14 label.sk-toggleable__label-arrow:before {content: \"▸\";float: left;margin-right: 0.25em;color: #696969;}#sk-container-id-14 label.sk-toggleable__label-arrow:hover:before {color: black;}#sk-container-id-14 div.sk-estimator:hover label.sk-toggleable__label-arrow:before {color: black;}#sk-container-id-14 div.sk-toggleable__content {max-height: 0;max-width: 0;overflow: hidden;text-align: left;background-color: #f0f8ff;}#sk-container-id-14 div.sk-toggleable__content pre {margin: 0.2em;color: black;border-radius: 0.25em;background-color: #f0f8ff;}#sk-container-id-14 input.sk-toggleable__control:checked~div.sk-toggleable__content {max-height: 200px;max-width: 100%;overflow: auto;}#sk-container-id-14 input.sk-toggleable__control:checked~label.sk-toggleable__label-arrow:before {content: \"▾\";}#sk-container-id-14 div.sk-estimator input.sk-toggleable__control:checked~label.sk-toggleable__label {background-color: #d4ebff;}#sk-container-id-14 div.sk-label input.sk-toggleable__control:checked~label.sk-toggleable__label {background-color: #d4ebff;}#sk-container-id-14 input.sk-hidden--visually {border: 0;clip: rect(1px 1px 1px 1px);clip: rect(1px, 1px, 1px, 1px);height: 1px;margin: -1px;overflow: hidden;padding: 0;position: absolute;width: 1px;}#sk-container-id-14 div.sk-estimator {font-family: monospace;background-color: #f0f8ff;border: 1px dotted black;border-radius: 0.25em;box-sizing: border-box;margin-bottom: 0.5em;}#sk-container-id-14 div.sk-estimator:hover {background-color: #d4ebff;}#sk-container-id-14 div.sk-parallel-item::after {content: \"\";width: 100%;border-bottom: 1px solid gray;flex-grow: 1;}#sk-container-id-14 div.sk-label:hover label.sk-toggleable__label {background-color: #d4ebff;}#sk-container-id-14 div.sk-serial::before {content: \"\";position: absolute;border-left: 1px solid gray;box-sizing: border-box;top: 0;bottom: 0;left: 50%;z-index: 0;}#sk-container-id-14 div.sk-serial {display: flex;flex-direction: column;align-items: center;background-color: white;padding-right: 0.2em;padding-left: 0.2em;position: relative;}#sk-container-id-14 div.sk-item {position: relative;z-index: 1;}#sk-container-id-14 div.sk-parallel {display: flex;align-items: stretch;justify-content: center;background-color: white;position: relative;}#sk-container-id-14 div.sk-item::before, #sk-container-id-14 div.sk-parallel-item::before {content: \"\";position: absolute;border-left: 1px solid gray;box-sizing: border-box;top: 0;bottom: 0;left: 50%;z-index: -1;}#sk-container-id-14 div.sk-parallel-item {display: flex;flex-direction: column;z-index: 1;position: relative;background-color: white;}#sk-container-id-14 div.sk-parallel-item:first-child::after {align-self: flex-end;width: 50%;}#sk-container-id-14 div.sk-parallel-item:last-child::after {align-self: flex-start;width: 50%;}#sk-container-id-14 div.sk-parallel-item:only-child::after {width: 0;}#sk-container-id-14 div.sk-dashed-wrapped {border: 1px dashed gray;margin: 0 0.4em 0.5em 0.4em;box-sizing: border-box;padding-bottom: 0.4em;background-color: white;}#sk-container-id-14 div.sk-label label {font-family: monospace;font-weight: bold;display: inline-block;line-height: 1.2em;}#sk-container-id-14 div.sk-label-container {text-align: center;}#sk-container-id-14 div.sk-container {/* jupyter's `normalize.less` sets `[hidden] { display: none; }` but bootstrap.min.css set `[hidden] { display: none !important; }` so we also need the `!important` here to be able to override the default hidden behavior on the sphinx rendered scikit-learn.org. See: https://github.com/scikit-learn/scikit-learn/issues/21755 */display: inline-block !important;position: relative;}#sk-container-id-14 div.sk-text-repr-fallback {display: none;}</style><div id=\"sk-container-id-14\" class=\"sk-top-container\"><div class=\"sk-text-repr-fallback\"><pre>XGBClassifier(base_score=None, booster=None, callbacks=None,\n",
       "              colsample_bylevel=None, colsample_bynode=None,\n",
       "              colsample_bytree=None, device=None, early_stopping_rounds=10,\n",
       "              enable_categorical=False, eval_metric=None, feature_types=None,\n",
       "              gamma=None, grow_policy=None, importance_type=None,\n",
       "              interaction_constraints=None, learning_rate=None, max_bin=None,\n",
       "              max_cat_threshold=None, max_cat_to_onehot=None,\n",
       "              max_delta_step=None, max_depth=None, max_leaves=None,\n",
       "              min_child_weight=None, missing=nan, monotone_constraints=None,\n",
       "              multi_strategy=None, n_estimators=25, n_jobs=-1,\n",
       "              num_parallel_tree=None, random_state=None, ...)</pre><b>In a Jupyter environment, please rerun this cell to show the HTML representation or trust the notebook. <br />On GitHub, the HTML representation is unable to render, please try loading this page with nbviewer.org.</b></div><div class=\"sk-container\" hidden><div class=\"sk-item\"><div class=\"sk-estimator sk-toggleable\"><input class=\"sk-toggleable__control sk-hidden--visually\" id=\"sk-estimator-id-14\" type=\"checkbox\" checked><label for=\"sk-estimator-id-14\" class=\"sk-toggleable__label sk-toggleable__label-arrow\">XGBClassifier</label><div class=\"sk-toggleable__content\"><pre>XGBClassifier(base_score=None, booster=None, callbacks=None,\n",
       "              colsample_bylevel=None, colsample_bynode=None,\n",
       "              colsample_bytree=None, device=None, early_stopping_rounds=10,\n",
       "              enable_categorical=False, eval_metric=None, feature_types=None,\n",
       "              gamma=None, grow_policy=None, importance_type=None,\n",
       "              interaction_constraints=None, learning_rate=None, max_bin=None,\n",
       "              max_cat_threshold=None, max_cat_to_onehot=None,\n",
       "              max_delta_step=None, max_depth=None, max_leaves=None,\n",
       "              min_child_weight=None, missing=nan, monotone_constraints=None,\n",
       "              multi_strategy=None, n_estimators=25, n_jobs=-1,\n",
       "              num_parallel_tree=None, random_state=None, ...)</pre></div></div></div></div></div>"
      ]
     },
     "execution_count": 219,
     "metadata": {},
     "output_type": "execute_result"
    }
   ],
   "execution_count": 219
  },
  {
   "cell_type": "markdown",
   "id": "9603128a3836672",
   "metadata": {},
   "source": [
    "### Αξιολόγηση του ταξινομητή"
   ]
  },
  {
   "cell_type": "code",
   "id": "1aabff0254e27b34",
   "metadata": {
    "ExecuteTime": {
     "end_time": "2024-09-13T20:32:50.894509Z",
     "start_time": "2024-09-13T20:32:50.880497Z"
    }
   },
   "source": [
    "xgboost_classifier.score(X_test_xgb, y_test_xgb)"
   ],
   "outputs": [
    {
     "data": {
      "text/plain": [
       "0.9226790793897078"
      ]
     },
     "execution_count": 220,
     "metadata": {},
     "output_type": "execute_result"
    }
   ],
   "execution_count": 220
  },
  {
   "cell_type": "markdown",
   "id": "46bb5d3a9b348f0f",
   "metadata": {},
   "source": [
    "#### Confusion matrix"
   ]
  },
  {
   "cell_type": "code",
   "id": "aa66aaa6a380b405",
   "metadata": {
    "ExecuteTime": {
     "end_time": "2024-09-13T20:32:51.162753Z",
     "start_time": "2024-09-13T20:32:50.960570Z"
    }
   },
   "source": [
    "cf_matrix = confusion_matrix(y_test_xgb, xgboost_classifier.predict(X_test_xgb))\n",
    "sns.heatmap(cf_matrix, annot=True, fmt='d', cmap='Blues', cbar=True)"
   ],
   "outputs": [
    {
     "data": {
      "text/plain": [
       "<Axes: >"
      ]
     },
     "execution_count": 221,
     "metadata": {},
     "output_type": "execute_result"
    },
    {
     "data": {
      "text/plain": [
       "<Figure size 640x480 with 2 Axes>"
      ],
      "image/png": "[encoded data removed]"
     },
     "metadata": {},
     "output_type": "display_data"
    }
   ],
   "execution_count": 221
  },
  {
   "cell_type": "markdown",
   "id": "f56f40e8f4628dd3",
   "metadata": {},
   "source": [
    "#### Classification report"
   ]
  },
  {
   "cell_type": "code",
   "id": "157b068c88a5dd82",
   "metadata": {
    "ExecuteTime": {
     "end_time": "2024-09-13T20:32:51.241329Z",
     "start_time": "2024-09-13T20:32:51.212800Z"
    }
   },
   "source": [
    "print(classification_report(y_test_xgb, xgboost_classifier.predict(X_test_xgb)))"
   ],
   "outputs": [
    {
     "name": "stdout",
     "output_type": "stream",
     "text": [
      "              precision    recall  f1-score   support\n",
      "\n",
      "       False       0.94      0.98      0.96      7057\n",
      "        True       0.61      0.33      0.43       677\n",
      "\n",
      "    accuracy                           0.92      7734\n",
      "   macro avg       0.77      0.66      0.69      7734\n",
      "weighted avg       0.91      0.92      0.91      7734\n",
      "\n"
     ]
    }
   ],
   "execution_count": 222
  },
  {
   "cell_type": "markdown",
   "id": "a8ffebf6a29b3567",
   "metadata": {},
   "source": [
    "#### AUC/ROC curve"
   ]
  },
  {
   "cell_type": "code",
   "id": "835e96a7b60f0652",
   "metadata": {
    "ExecuteTime": {
     "end_time": "2024-09-13T20:32:51.544605Z",
     "start_time": "2024-09-13T20:32:51.306389Z"
    }
   },
   "source": [
    "# Plot AUC/ROC curve\n",
    "y_pred_proba_xgb = xgboost_classifier.predict_proba(X_test_xgb)[:,1]\n",
    "fpr, tpr, thresholds = metrics.roc_curve(y_test_xgb,  y_pred_proba_xgb)\n",
    "\n",
    "fig, ax = plt.subplots(figsize=(6,6))\n",
    "ax.plot(fpr, tpr, label='XGBoost Classification', color = 'firebrick')\n",
    "ax.set_title('ROC Curve')\n",
    "ax.set_xlabel('False Positive Rate')\n",
    "ax.set_ylabel('True Positive Rate')\n",
    "plt.box(False)\n",
    "ax.legend();"
   ],
   "outputs": [
    {
     "data": {
      "text/plain": [
       "<Figure size 600x600 with 1 Axes>"
      ],
      "image/png": "[encoded data removed]"
     },
     "metadata": {},
     "output_type": "display_data"
    }
   ],
   "execution_count": 223
  },
  {
   "metadata": {},
   "cell_type": "markdown",
   "source": "#### Feature Importance",
   "id": "c2226d912c764f73"
  },
  {
   "metadata": {
    "ExecuteTime": {
     "end_time": "2024-09-13T20:32:51.607662Z",
     "start_time": "2024-09-13T20:32:51.593649Z"
    }
   },
   "cell_type": "code",
   "source": [
    "feature_importances = xgboost_classifier.feature_importances_\n",
    "importance_df = pd.DataFrame({\n",
    "    'Feature': X.columns,\n",
    "    'Importance': feature_importances\n",
    "}).sort_values(by='Importance', ascending=False)\n",
    "print(importance_df)"
   ],
   "id": "b1546b210e3f157c",
   "outputs": [
    {
     "name": "stdout",
     "output_type": "stream",
     "text": [
      "                Feature  Importance\n",
      "3               housing    0.127789\n",
      "26            month_apr    0.068465\n",
      "33            month_mar    0.066416\n",
      "34            month_may    0.058788\n",
      "5              duration    0.057690\n",
      "7                 pdays    0.047211\n",
      "4                  loan    0.045301\n",
      "37            month_sep    0.042788\n",
      "36            month_oct    0.041886\n",
      "35            month_nov    0.033486\n",
      "23    education_primary    0.026408\n",
      "28            month_dec    0.024566\n",
      "19       job_unemployed    0.023058\n",
      "27            month_aug    0.021746\n",
      "17          job_student    0.020848\n",
      "31            month_jul    0.020705\n",
      "30            month_jan    0.020254\n",
      "32            month_jun    0.018540\n",
      "0                   age    0.016948\n",
      "25   education_tertiary    0.016136\n",
      "6              campaign    0.015081\n",
      "21      marital_married    0.014461\n",
      "10      job_blue-collar    0.014217\n",
      "29            month_feb    0.014148\n",
      "2               balance    0.013571\n",
      "15    job_self-employed    0.013365\n",
      "1               default    0.012020\n",
      "14          job_retired    0.011869\n",
      "8              previous    0.010491\n",
      "9            job_admin.    0.010418\n",
      "22       marital_single    0.010240\n",
      "11     job_entrepreneur    0.009727\n",
      "18       job_technician    0.009145\n",
      "20     marital_divorced    0.008751\n",
      "12        job_housemaid    0.008699\n",
      "13       job_management    0.008531\n",
      "16         job_services    0.008269\n",
      "24  education_secondary    0.007969\n"
     ]
    }
   ],
   "execution_count": 224
  },
  {
   "metadata": {},
   "cell_type": "markdown",
   "source": "---",
   "id": "6fdebc8486d98017"
  },
  {
   "metadata": {},
   "cell_type": "markdown",
   "source": "## Νευρωνικά δίκτυα με tensorflow/keras",
   "id": "979187e7f73e41d3"
  },
  {
   "metadata": {},
   "cell_type": "markdown",
   "source": "### Model1 - Standard Training",
   "id": "fe20880eb0ed04d4"
  },
  {
   "metadata": {},
   "cell_type": "markdown",
   "source": "#### Θα χρησιμποιηθούν τα sets όπως μετασχηματίστηκαν για τον Bayesian ταξινομητή",
   "id": "92bf2395df905ac3"
  },
  {
   "metadata": {
    "ExecuteTime": {
     "end_time": "2024-09-13T20:32:51.701284Z",
     "start_time": "2024-09-13T20:32:51.687270Z"
    }
   },
   "cell_type": "code",
   "source": [
    "X_train_nw = X_train\n",
    "X_test_nw = X_test\n",
    "y_train_nw = y_train\n",
    "y_test_nw = y_test"
   ],
   "id": "b46b5e750e4c35de",
   "outputs": [],
   "execution_count": 225
  },
  {
   "metadata": {},
   "cell_type": "markdown",
   "source": "#### Model1 Initialization & Compilation",
   "id": "9afb730f4f299049"
  },
  {
   "metadata": {
    "ExecuteTime": {
     "end_time": "2024-09-13T20:32:51.780356Z",
     "start_time": "2024-09-13T20:32:51.749328Z"
    }
   },
   "cell_type": "code",
   "source": [
    "model1 = Sequential([\n",
    "    Input(shape=(X_train_nw.shape[1],)),\n",
    "    Dense(64, activation='relu'),\n",
    "    Dense(32, activation='relu'),\n",
    "    Dense(1, activation='sigmoid')\n",
    "])"
   ],
   "id": "40d57adf7ac61816",
   "outputs": [],
   "execution_count": 226
  },
  {
   "metadata": {
    "ExecuteTime": {
     "end_time": "2024-09-13T20:32:51.843407Z",
     "start_time": "2024-09-13T20:32:51.828393Z"
    }
   },
   "cell_type": "code",
   "source": "model1.compile(optimizer='adam', loss='binary_crossentropy', metrics=['accuracy'])",
   "id": "f995e670de810962",
   "outputs": [],
   "execution_count": 227
  },
  {
   "metadata": {
    "ExecuteTime": {
     "end_time": "2024-09-13T20:32:51.906269Z",
     "start_time": "2024-09-13T20:32:51.892257Z"
    }
   },
   "cell_type": "code",
   "source": "model1.summary()",
   "id": "92aaf17fc6be99c0",
   "outputs": [
    {
     "name": "stdout",
     "output_type": "stream",
     "text": [
      "Model: \"sequential_12\"\n",
      "_________________________________________________________________\n",
      " Layer (type)                Output Shape              Param #   \n",
      "=================================================================\n",
      " dense_36 (Dense)            (None, 64)                2496      \n",
      "                                                                 \n",
      " dense_37 (Dense)            (None, 32)                2080      \n",
      "                                                                 \n",
      " dense_38 (Dense)            (None, 1)                 33        \n",
      "                                                                 \n",
      "=================================================================\n",
      "Total params: 4609 (18.00 KB)\n",
      "Trainable params: 4609 (18.00 KB)\n",
      "Non-trainable params: 0 (0.00 Byte)\n",
      "_________________________________________________________________\n"
     ]
    }
   ],
   "execution_count": 228
  },
  {
   "metadata": {},
   "cell_type": "markdown",
   "source": "#### Model1 Training",
   "id": "2b420de74d9ccced"
  },
  {
   "metadata": {
    "ExecuteTime": {
     "end_time": "2024-09-13T20:33:30.227069Z",
     "start_time": "2024-09-13T20:32:52.273537Z"
    }
   },
   "cell_type": "code",
   "source": "history = model1.fit(X_train_nw, y_train_nw, epochs=50, batch_size=32, validation_split=0.2)",
   "id": "fa0ab879ea7a012e",
   "outputs": [
    {
     "name": "stdout",
     "output_type": "stream",
     "text": [
      "Epoch 1/50\n",
      "774/774 [==============================] - 1s 1ms/step - loss: 0.2248 - accuracy: 0.9151 - val_loss: 0.2058 - val_accuracy: 0.9211\n",
      "Epoch 2/50\n",
      "774/774 [==============================] - 1s 932us/step - loss: 0.1976 - accuracy: 0.9208 - val_loss: 0.2024 - val_accuracy: 0.9227\n",
      "Epoch 3/50\n",
      "774/774 [==============================] - 1s 956us/step - loss: 0.1910 - accuracy: 0.9230 - val_loss: 0.1976 - val_accuracy: 0.9226\n",
      "Epoch 4/50\n",
      "774/774 [==============================] - 1s 981us/step - loss: 0.1865 - accuracy: 0.9245 - val_loss: 0.1996 - val_accuracy: 0.9234\n",
      "Epoch 5/50\n",
      "774/774 [==============================] - 1s 928us/step - loss: 0.1837 - accuracy: 0.9260 - val_loss: 0.2018 - val_accuracy: 0.9242\n",
      "Epoch 6/50\n",
      "774/774 [==============================] - 1s 972us/step - loss: 0.1803 - accuracy: 0.9280 - val_loss: 0.2005 - val_accuracy: 0.9232\n",
      "Epoch 7/50\n",
      "774/774 [==============================] - 1s 992us/step - loss: 0.1785 - accuracy: 0.9281 - val_loss: 0.2006 - val_accuracy: 0.9229\n",
      "Epoch 8/50\n",
      "774/774 [==============================] - 1s 965us/step - loss: 0.1753 - accuracy: 0.9292 - val_loss: 0.2036 - val_accuracy: 0.9248\n",
      "Epoch 9/50\n",
      "774/774 [==============================] - 1s 984us/step - loss: 0.1737 - accuracy: 0.9294 - val_loss: 0.1990 - val_accuracy: 0.9268\n",
      "Epoch 10/50\n",
      "774/774 [==============================] - 1s 968us/step - loss: 0.1708 - accuracy: 0.9305 - val_loss: 0.2036 - val_accuracy: 0.9250\n",
      "Epoch 11/50\n",
      "774/774 [==============================] - 1s 944us/step - loss: 0.1692 - accuracy: 0.9307 - val_loss: 0.1996 - val_accuracy: 0.9247\n",
      "Epoch 12/50\n",
      "774/774 [==============================] - 1s 1ms/step - loss: 0.1665 - accuracy: 0.9312 - val_loss: 0.2042 - val_accuracy: 0.9229\n",
      "Epoch 13/50\n",
      "774/774 [==============================] - 1s 995us/step - loss: 0.1642 - accuracy: 0.9326 - val_loss: 0.2004 - val_accuracy: 0.9242\n",
      "Epoch 14/50\n",
      "774/774 [==============================] - 1s 922us/step - loss: 0.1630 - accuracy: 0.9330 - val_loss: 0.2063 - val_accuracy: 0.9224\n",
      "Epoch 15/50\n",
      "774/774 [==============================] - 1s 928us/step - loss: 0.1616 - accuracy: 0.9337 - val_loss: 0.2015 - val_accuracy: 0.9247\n",
      "Epoch 16/50\n",
      "774/774 [==============================] - 1s 913us/step - loss: 0.1584 - accuracy: 0.9352 - val_loss: 0.2071 - val_accuracy: 0.9239\n",
      "Epoch 17/50\n",
      "774/774 [==============================] - 1s 939us/step - loss: 0.1566 - accuracy: 0.9359 - val_loss: 0.2042 - val_accuracy: 0.9257\n",
      "Epoch 18/50\n",
      "774/774 [==============================] - 1s 919us/step - loss: 0.1555 - accuracy: 0.9361 - val_loss: 0.2114 - val_accuracy: 0.9242\n",
      "Epoch 19/50\n",
      "774/774 [==============================] - 1s 925us/step - loss: 0.1541 - accuracy: 0.9378 - val_loss: 0.2109 - val_accuracy: 0.9244\n",
      "Epoch 20/50\n",
      "774/774 [==============================] - 1s 914us/step - loss: 0.1522 - accuracy: 0.9374 - val_loss: 0.2125 - val_accuracy: 0.9206\n",
      "Epoch 21/50\n",
      "774/774 [==============================] - 1s 936us/step - loss: 0.1507 - accuracy: 0.9375 - val_loss: 0.2145 - val_accuracy: 0.9185\n",
      "Epoch 22/50\n",
      "774/774 [==============================] - 1s 932us/step - loss: 0.1493 - accuracy: 0.9393 - val_loss: 0.2137 - val_accuracy: 0.9221\n",
      "Epoch 23/50\n",
      "774/774 [==============================] - 1s 962us/step - loss: 0.1470 - accuracy: 0.9402 - val_loss: 0.2130 - val_accuracy: 0.9192\n",
      "Epoch 24/50\n",
      "774/774 [==============================] - 1s 954us/step - loss: 0.1454 - accuracy: 0.9410 - val_loss: 0.2170 - val_accuracy: 0.9239\n",
      "Epoch 25/50\n",
      "774/774 [==============================] - 1s 990us/step - loss: 0.1447 - accuracy: 0.9406 - val_loss: 0.2153 - val_accuracy: 0.9219\n",
      "Epoch 26/50\n",
      "774/774 [==============================] - 1s 916us/step - loss: 0.1430 - accuracy: 0.9424 - val_loss: 0.2202 - val_accuracy: 0.9226\n",
      "Epoch 27/50\n",
      "774/774 [==============================] - 1s 926us/step - loss: 0.1413 - accuracy: 0.9432 - val_loss: 0.2203 - val_accuracy: 0.9193\n",
      "Epoch 28/50\n",
      "774/774 [==============================] - 1s 960us/step - loss: 0.1403 - accuracy: 0.9429 - val_loss: 0.2239 - val_accuracy: 0.9205\n",
      "Epoch 29/50\n",
      "774/774 [==============================] - 1s 948us/step - loss: 0.1383 - accuracy: 0.9443 - val_loss: 0.2244 - val_accuracy: 0.9156\n",
      "Epoch 30/50\n",
      "774/774 [==============================] - 1s 951us/step - loss: 0.1377 - accuracy: 0.9432 - val_loss: 0.2254 - val_accuracy: 0.9193\n",
      "Epoch 31/50\n",
      "774/774 [==============================] - 1s 952us/step - loss: 0.1350 - accuracy: 0.9455 - val_loss: 0.2327 - val_accuracy: 0.9176\n",
      "Epoch 32/50\n",
      "774/774 [==============================] - 1s 936us/step - loss: 0.1340 - accuracy: 0.9458 - val_loss: 0.2324 - val_accuracy: 0.9164\n",
      "Epoch 33/50\n",
      "774/774 [==============================] - 1s 1ms/step - loss: 0.1331 - accuracy: 0.9469 - val_loss: 0.2338 - val_accuracy: 0.9195\n",
      "Epoch 34/50\n",
      "774/774 [==============================] - 1s 1ms/step - loss: 0.1321 - accuracy: 0.9468 - val_loss: 0.2344 - val_accuracy: 0.9176\n",
      "Epoch 35/50\n",
      "774/774 [==============================] - 1s 942us/step - loss: 0.1314 - accuracy: 0.9478 - val_loss: 0.2391 - val_accuracy: 0.9172\n",
      "Epoch 36/50\n",
      "774/774 [==============================] - 1s 963us/step - loss: 0.1297 - accuracy: 0.9486 - val_loss: 0.2385 - val_accuracy: 0.9142\n",
      "Epoch 37/50\n",
      "774/774 [==============================] - 1s 932us/step - loss: 0.1281 - accuracy: 0.9479 - val_loss: 0.2396 - val_accuracy: 0.9172\n",
      "Epoch 38/50\n",
      "774/774 [==============================] - 1s 946us/step - loss: 0.1281 - accuracy: 0.9479 - val_loss: 0.2463 - val_accuracy: 0.9139\n",
      "Epoch 39/50\n",
      "774/774 [==============================] - 1s 974us/step - loss: 0.1267 - accuracy: 0.9479 - val_loss: 0.2472 - val_accuracy: 0.9168\n",
      "Epoch 40/50\n",
      "774/774 [==============================] - 1s 1ms/step - loss: 0.1255 - accuracy: 0.9497 - val_loss: 0.2475 - val_accuracy: 0.9148\n",
      "Epoch 41/50\n",
      "774/774 [==============================] - 1s 1ms/step - loss: 0.1238 - accuracy: 0.9504 - val_loss: 0.2515 - val_accuracy: 0.9145\n",
      "Epoch 42/50\n",
      "774/774 [==============================] - 1s 997us/step - loss: 0.1225 - accuracy: 0.9506 - val_loss: 0.2550 - val_accuracy: 0.9145\n",
      "Epoch 43/50\n",
      "774/774 [==============================] - 1s 980us/step - loss: 0.1217 - accuracy: 0.9515 - val_loss: 0.2617 - val_accuracy: 0.9151\n",
      "Epoch 44/50\n",
      "774/774 [==============================] - 1s 992us/step - loss: 0.1209 - accuracy: 0.9521 - val_loss: 0.2629 - val_accuracy: 0.9143\n",
      "Epoch 45/50\n",
      "774/774 [==============================] - 1s 972us/step - loss: 0.1197 - accuracy: 0.9519 - val_loss: 0.2639 - val_accuracy: 0.9109\n",
      "Epoch 46/50\n",
      "774/774 [==============================] - 1s 964us/step - loss: 0.1192 - accuracy: 0.9516 - val_loss: 0.2692 - val_accuracy: 0.9134\n",
      "Epoch 47/50\n",
      "774/774 [==============================] - 1s 992us/step - loss: 0.1185 - accuracy: 0.9517 - val_loss: 0.2633 - val_accuracy: 0.9161\n",
      "Epoch 48/50\n",
      "774/774 [==============================] - 1s 912us/step - loss: 0.1174 - accuracy: 0.9535 - val_loss: 0.2696 - val_accuracy: 0.9151\n",
      "Epoch 49/50\n",
      "774/774 [==============================] - 1s 941us/step - loss: 0.1156 - accuracy: 0.9531 - val_loss: 0.2751 - val_accuracy: 0.9124\n",
      "Epoch 50/50\n",
      "774/774 [==============================] - 1s 921us/step - loss: 0.1157 - accuracy: 0.9541 - val_loss: 0.2691 - val_accuracy: 0.9096\n"
     ]
    }
   ],
   "execution_count": 229
  },
  {
   "metadata": {},
   "cell_type": "markdown",
   "source": "#### Model1 Standard Accuracy",
   "id": "415607651c5b6dc2"
  },
  {
   "metadata": {
    "ExecuteTime": {
     "end_time": "2024-09-13T20:35:29.227061Z",
     "start_time": "2024-09-13T20:35:28.992827Z"
    }
   },
   "cell_type": "code",
   "source": [
    "loss, accuracy = model1.evaluate(X_test_nw, y_test_nw)\n",
    "print(f'Model1 Accuracy: {accuracy}')"
   ],
   "id": "c303e42168754a44",
   "outputs": [
    {
     "name": "stdout",
     "output_type": "stream",
     "text": [
      "242/242 [==============================] - 0s 681us/step - loss: 0.2769 - accuracy: 0.9055\n",
      "Standard Model Accuracy: 0.905482292175293\n"
     ]
    }
   ],
   "execution_count": 251
  },
  {
   "metadata": {},
   "cell_type": "markdown",
   "source": "#### Model1 Accuracy on Test Set",
   "id": "db58ba5083911d06"
  },
  {
   "metadata": {
    "ExecuteTime": {
     "end_time": "2024-09-13T20:35:27.391748Z",
     "start_time": "2024-09-13T20:35:27.142524Z"
    }
   },
   "cell_type": "code",
   "source": [
    "predictions = model1.predict(X_test_nw)\n",
    "predicted_y = np.argmax(predictions, axis=1)\n",
    "accuracy = np.mean(predicted_y == y_test_nw)\n",
    "print(f'Model1 Accuracy on test set: {accuracy}')"
   ],
   "id": "3241c8c1a0e200ac",
   "outputs": [
    {
     "name": "stdout",
     "output_type": "stream",
     "text": [
      "242/242 [==============================] - 0s 586us/step\n",
      "Accuracy on test set: 0.9124644427204551\n"
     ]
    }
   ],
   "execution_count": 250
  },
  {
   "metadata": {},
   "cell_type": "markdown",
   "source": "#### Model1 Classification Report",
   "id": "c3c09cd754f2d6a3"
  },
  {
   "metadata": {
    "ExecuteTime": {
     "end_time": "2024-09-13T20:33:30.924088Z",
     "start_time": "2024-09-13T20:33:30.894060Z"
    }
   },
   "cell_type": "code",
   "source": "print(classification_report(y_test_nw, predicted_y, zero_division=1))",
   "id": "b53b70e29ccda991",
   "outputs": [
    {
     "name": "stdout",
     "output_type": "stream",
     "text": [
      "              precision    recall  f1-score   support\n",
      "\n",
      "       False       0.91      1.00      0.95      7057\n",
      "        True       1.00      0.00      0.00       677\n",
      "\n",
      "    accuracy                           0.91      7734\n",
      "   macro avg       0.96      0.50      0.48      7734\n",
      "weighted avg       0.92      0.91      0.87      7734\n",
      "\n"
     ]
    }
   ],
   "execution_count": 232
  },
  {
   "metadata": {},
   "cell_type": "markdown",
   "source": "#### Model1 Learning Rate",
   "id": "d2510d04004ab0cc"
  },
  {
   "metadata": {
    "ExecuteTime": {
     "end_time": "2024-09-13T20:33:31.400035Z",
     "start_time": "2024-09-13T20:33:31.209863Z"
    }
   },
   "cell_type": "code",
   "source": [
    "acc = history.history['accuracy']\n",
    "val_acc = history.history['val_accuracy']\n",
    "epochs = range(1, len(acc) + 1)\n",
    "\n",
    "plt.plot(epochs, acc, 'bo', label='Training acc')\n",
    "plt.plot(epochs, val_acc, 'b', label='Validation acc')\n",
    "plt.title('Training and validation accuracy (Model1)')\n",
    "plt.xlabel('Epochs')\n",
    "plt.ylabel('Accuracy')\n",
    "plt.legend()\n",
    "\n",
    "plt.show()"
   ],
   "id": "da7314ce52562496",
   "outputs": [
    {
     "data": {
      "text/plain": [
       "<Figure size 640x480 with 1 Axes>"
      ],
      "image/png": "[encoded data removed]"
     },
     "metadata": {},
     "output_type": "display_data"
    }
   ],
   "execution_count": 234
  },
  {
   "metadata": {},
   "cell_type": "markdown",
   "source": "### Model2 - Transfer Learning",
   "id": "a6585b5c46020688"
  },
  {
   "metadata": {
    "ExecuteTime": {
     "end_time": "2024-09-13T20:33:31.462784Z",
     "start_time": "2024-09-13T20:33:31.448079Z"
    }
   },
   "cell_type": "code",
   "source": "X_pretrain_nw, X_finetune_nw, y_pretrain_nw, y_finetune_nw = train_test_split(X_train_nw, y_train_nw, test_size=0.5, random_state=42)",
   "id": "50fb81c271855983",
   "outputs": [],
   "execution_count": 235
  },
  {
   "metadata": {},
   "cell_type": "markdown",
   "source": "#### Model2 Initialization & Compilation",
   "id": "8e65f6dae9f643ac"
  },
  {
   "metadata": {
    "ExecuteTime": {
     "end_time": "2024-09-13T20:33:31.541857Z",
     "start_time": "2024-09-13T20:33:31.511830Z"
    }
   },
   "cell_type": "code",
   "source": [
    "pretrain_model2 = Sequential([\n",
    "    Input(shape=(X_pretrain_nw.shape[1],)),\n",
    "    Dense(64, activation='relu'),\n",
    "    Dense(32, activation='relu'),\n",
    "    Dense(1, activation='sigmoid')\n",
    "])"
   ],
   "id": "1a6906670a756bc",
   "outputs": [],
   "execution_count": 236
  },
  {
   "metadata": {
    "ExecuteTime": {
     "end_time": "2024-09-13T20:33:31.605045Z",
     "start_time": "2024-09-13T20:33:31.590901Z"
    }
   },
   "cell_type": "code",
   "source": "pretrain_model2.compile(optimizer='adam', loss='binary_crossentropy', metrics=['accuracy'])",
   "id": "891e8398a4221a14",
   "outputs": [],
   "execution_count": 237
  },
  {
   "metadata": {
    "ExecuteTime": {
     "end_time": "2024-09-13T20:33:51.456015Z",
     "start_time": "2024-09-13T20:33:31.655092Z"
    }
   },
   "cell_type": "code",
   "source": "pretrain_history = pretrain_model2.fit(X_pretrain_nw, y_pretrain_nw, epochs=50, batch_size=32, validation_split=0.2)",
   "id": "c6d5e9edd7ea29c6",
   "outputs": [
    {
     "name": "stdout",
     "output_type": "stream",
     "text": [
      "Epoch 1/50\n",
      "387/387 [==============================] - 1s 1ms/step - loss: 0.2522 - accuracy: 0.9101 - val_loss: 0.1990 - val_accuracy: 0.9228\n",
      "Epoch 2/50\n",
      "387/387 [==============================] - 0s 1ms/step - loss: 0.2007 - accuracy: 0.9193 - val_loss: 0.1943 - val_accuracy: 0.9247\n",
      "Epoch 3/50\n",
      "387/387 [==============================] - 0s 978us/step - loss: 0.1928 - accuracy: 0.9228 - val_loss: 0.1901 - val_accuracy: 0.9247\n",
      "Epoch 4/50\n",
      "387/387 [==============================] - 0s 933us/step - loss: 0.1878 - accuracy: 0.9259 - val_loss: 0.1895 - val_accuracy: 0.9247\n",
      "Epoch 5/50\n",
      "387/387 [==============================] - 0s 978us/step - loss: 0.1836 - accuracy: 0.9256 - val_loss: 0.1903 - val_accuracy: 0.9260\n",
      "Epoch 6/50\n",
      "387/387 [==============================] - 0s 952us/step - loss: 0.1799 - accuracy: 0.9276 - val_loss: 0.1881 - val_accuracy: 0.9260\n",
      "Epoch 7/50\n",
      "387/387 [==============================] - 0s 994us/step - loss: 0.1763 - accuracy: 0.9294 - val_loss: 0.1892 - val_accuracy: 0.9234\n",
      "Epoch 8/50\n",
      "387/387 [==============================] - 0s 962us/step - loss: 0.1738 - accuracy: 0.9302 - val_loss: 0.1900 - val_accuracy: 0.9260\n",
      "Epoch 9/50\n",
      "387/387 [==============================] - 0s 943us/step - loss: 0.1699 - accuracy: 0.9306 - val_loss: 0.1896 - val_accuracy: 0.9260\n",
      "Epoch 10/50\n",
      "387/387 [==============================] - 0s 930us/step - loss: 0.1680 - accuracy: 0.9324 - val_loss: 0.1964 - val_accuracy: 0.9244\n",
      "Epoch 11/50\n",
      "387/387 [==============================] - 0s 936us/step - loss: 0.1647 - accuracy: 0.9336 - val_loss: 0.1921 - val_accuracy: 0.9266\n",
      "Epoch 12/50\n",
      "387/387 [==============================] - 0s 944us/step - loss: 0.1620 - accuracy: 0.9344 - val_loss: 0.1933 - val_accuracy: 0.9273\n",
      "Epoch 13/50\n",
      "387/387 [==============================] - 0s 931us/step - loss: 0.1597 - accuracy: 0.9369 - val_loss: 0.1928 - val_accuracy: 0.9266\n",
      "Epoch 14/50\n",
      "387/387 [==============================] - 0s 996us/step - loss: 0.1564 - accuracy: 0.9384 - val_loss: 0.1965 - val_accuracy: 0.9244\n",
      "Epoch 15/50\n",
      "387/387 [==============================] - 0s 1ms/step - loss: 0.1546 - accuracy: 0.9378 - val_loss: 0.1957 - val_accuracy: 0.9208\n",
      "Epoch 16/50\n",
      "387/387 [==============================] - 0s 1ms/step - loss: 0.1515 - accuracy: 0.9392 - val_loss: 0.1983 - val_accuracy: 0.9260\n",
      "Epoch 17/50\n",
      "387/387 [==============================] - 0s 1ms/step - loss: 0.1487 - accuracy: 0.9395 - val_loss: 0.1991 - val_accuracy: 0.9289\n",
      "Epoch 18/50\n",
      "387/387 [==============================] - 0s 1ms/step - loss: 0.1464 - accuracy: 0.9418 - val_loss: 0.1997 - val_accuracy: 0.9234\n",
      "Epoch 19/50\n",
      "387/387 [==============================] - 0s 925us/step - loss: 0.1444 - accuracy: 0.9438 - val_loss: 0.2046 - val_accuracy: 0.9215\n",
      "Epoch 20/50\n",
      "387/387 [==============================] - 0s 918us/step - loss: 0.1420 - accuracy: 0.9449 - val_loss: 0.2014 - val_accuracy: 0.9247\n",
      "Epoch 21/50\n",
      "387/387 [==============================] - 0s 991us/step - loss: 0.1396 - accuracy: 0.9442 - val_loss: 0.2075 - val_accuracy: 0.9231\n",
      "Epoch 22/50\n",
      "387/387 [==============================] - 0s 1ms/step - loss: 0.1372 - accuracy: 0.9471 - val_loss: 0.2052 - val_accuracy: 0.9257\n",
      "Epoch 23/50\n",
      "387/387 [==============================] - 0s 965us/step - loss: 0.1345 - accuracy: 0.9475 - val_loss: 0.2103 - val_accuracy: 0.9211\n",
      "Epoch 24/50\n",
      "387/387 [==============================] - 0s 1ms/step - loss: 0.1321 - accuracy: 0.9490 - val_loss: 0.2139 - val_accuracy: 0.9234\n",
      "Epoch 25/50\n",
      "387/387 [==============================] - 0s 1ms/step - loss: 0.1297 - accuracy: 0.9505 - val_loss: 0.2149 - val_accuracy: 0.9260\n",
      "Epoch 26/50\n",
      "387/387 [==============================] - 0s 978us/step - loss: 0.1291 - accuracy: 0.9491 - val_loss: 0.2215 - val_accuracy: 0.9192\n",
      "Epoch 27/50\n",
      "387/387 [==============================] - 0s 954us/step - loss: 0.1251 - accuracy: 0.9509 - val_loss: 0.2245 - val_accuracy: 0.9224\n",
      "Epoch 28/50\n",
      "387/387 [==============================] - 0s 995us/step - loss: 0.1240 - accuracy: 0.9513 - val_loss: 0.2202 - val_accuracy: 0.9234\n",
      "Epoch 29/50\n",
      "387/387 [==============================] - 0s 1ms/step - loss: 0.1217 - accuracy: 0.9526 - val_loss: 0.2270 - val_accuracy: 0.9192\n",
      "Epoch 30/50\n",
      "387/387 [==============================] - 0s 962us/step - loss: 0.1191 - accuracy: 0.9533 - val_loss: 0.2327 - val_accuracy: 0.9166\n",
      "Epoch 31/50\n",
      "387/387 [==============================] - 0s 970us/step - loss: 0.1185 - accuracy: 0.9540 - val_loss: 0.2392 - val_accuracy: 0.9105\n",
      "Epoch 32/50\n",
      "387/387 [==============================] - 0s 948us/step - loss: 0.1162 - accuracy: 0.9547 - val_loss: 0.2339 - val_accuracy: 0.9169\n",
      "Epoch 33/50\n",
      "387/387 [==============================] - 0s 918us/step - loss: 0.1139 - accuracy: 0.9563 - val_loss: 0.2491 - val_accuracy: 0.9069\n",
      "Epoch 34/50\n",
      "387/387 [==============================] - 0s 915us/step - loss: 0.1123 - accuracy: 0.9580 - val_loss: 0.2421 - val_accuracy: 0.9195\n",
      "Epoch 35/50\n",
      "387/387 [==============================] - 0s 1ms/step - loss: 0.1103 - accuracy: 0.9565 - val_loss: 0.2489 - val_accuracy: 0.9137\n",
      "Epoch 36/50\n",
      "387/387 [==============================] - 0s 924us/step - loss: 0.1085 - accuracy: 0.9576 - val_loss: 0.2517 - val_accuracy: 0.9098\n",
      "Epoch 37/50\n",
      "387/387 [==============================] - 0s 956us/step - loss: 0.1054 - accuracy: 0.9598 - val_loss: 0.2594 - val_accuracy: 0.9144\n",
      "Epoch 38/50\n",
      "387/387 [==============================] - 0s 940us/step - loss: 0.1053 - accuracy: 0.9593 - val_loss: 0.2634 - val_accuracy: 0.9211\n",
      "Epoch 39/50\n",
      "387/387 [==============================] - 0s 933us/step - loss: 0.1023 - accuracy: 0.9604 - val_loss: 0.2647 - val_accuracy: 0.9111\n",
      "Epoch 40/50\n",
      "387/387 [==============================] - 0s 923us/step - loss: 0.1009 - accuracy: 0.9618 - val_loss: 0.2670 - val_accuracy: 0.9137\n",
      "Epoch 41/50\n",
      "387/387 [==============================] - 0s 949us/step - loss: 0.0991 - accuracy: 0.9607 - val_loss: 0.2647 - val_accuracy: 0.9160\n",
      "Epoch 42/50\n",
      "387/387 [==============================] - 0s 1ms/step - loss: 0.0983 - accuracy: 0.9625 - val_loss: 0.2626 - val_accuracy: 0.9147\n",
      "Epoch 43/50\n",
      "387/387 [==============================] - 0s 1ms/step - loss: 0.0970 - accuracy: 0.9631 - val_loss: 0.2698 - val_accuracy: 0.9150\n",
      "Epoch 44/50\n",
      "387/387 [==============================] - 0s 1ms/step - loss: 0.0948 - accuracy: 0.9634 - val_loss: 0.2837 - val_accuracy: 0.9160\n",
      "Epoch 45/50\n",
      "387/387 [==============================] - 0s 1ms/step - loss: 0.0932 - accuracy: 0.9638 - val_loss: 0.2820 - val_accuracy: 0.9192\n",
      "Epoch 46/50\n",
      "387/387 [==============================] - 0s 960us/step - loss: 0.0913 - accuracy: 0.9653 - val_loss: 0.2880 - val_accuracy: 0.9140\n",
      "Epoch 47/50\n",
      "387/387 [==============================] - 0s 926us/step - loss: 0.0901 - accuracy: 0.9644 - val_loss: 0.3014 - val_accuracy: 0.9118\n",
      "Epoch 48/50\n",
      "387/387 [==============================] - 0s 941us/step - loss: 0.0896 - accuracy: 0.9671 - val_loss: 0.2950 - val_accuracy: 0.9153\n",
      "Epoch 49/50\n",
      "387/387 [==============================] - 0s 928us/step - loss: 0.0872 - accuracy: 0.9667 - val_loss: 0.3102 - val_accuracy: 0.9101\n",
      "Epoch 50/50\n",
      "387/387 [==============================] - 0s 937us/step - loss: 0.0861 - accuracy: 0.9676 - val_loss: 0.3070 - val_accuracy: 0.9079\n"
     ]
    }
   ],
   "execution_count": 238
  },
  {
   "metadata": {},
   "cell_type": "markdown",
   "source": "#### Pretraining Weights",
   "id": "befbefe934d2fdb"
  },
  {
   "metadata": {
    "ExecuteTime": {
     "end_time": "2024-09-13T20:33:51.519467Z",
     "start_time": "2024-09-13T20:33:51.505058Z"
    }
   },
   "cell_type": "code",
   "source": "pretrained_model2_weights = pretrain_model2.get_weights()",
   "id": "764a27f0e720ed01",
   "outputs": [],
   "execution_count": 239
  },
  {
   "metadata": {},
   "cell_type": "markdown",
   "source": "#### Finetune Model2",
   "id": "63024a96187a2aeb"
  },
  {
   "metadata": {
    "ExecuteTime": {
     "end_time": "2024-09-13T20:33:51.598530Z",
     "start_time": "2024-09-13T20:33:51.567507Z"
    }
   },
   "cell_type": "code",
   "source": [
    "finetune_model2 = Sequential([\n",
    "    Input(shape=(X_pretrain_nw.shape[1],)),\n",
    "    Dense(64, activation='relu'),\n",
    "    Dense(32, activation='relu'),\n",
    "    Dense(1, activation='sigmoid')\n",
    "])"
   ],
   "id": "2d060713f7839cd1",
   "outputs": [],
   "execution_count": 240
  },
  {
   "metadata": {
    "ExecuteTime": {
     "end_time": "2024-09-13T20:33:51.662582Z",
     "start_time": "2024-09-13T20:33:51.647570Z"
    }
   },
   "cell_type": "code",
   "source": "finetune_model2.set_weights(pretrained_model2_weights)",
   "id": "3a49fec7feda5dd1",
   "outputs": [],
   "execution_count": 241
  },
  {
   "metadata": {},
   "cell_type": "markdown",
   "source": "#### Compilation",
   "id": "42eaecbdca64af53"
  },
  {
   "metadata": {
    "ExecuteTime": {
     "end_time": "2024-09-13T20:33:51.726635Z",
     "start_time": "2024-09-13T20:33:51.711626Z"
    }
   },
   "cell_type": "code",
   "source": "finetune_model2.compile(optimizer='adam', loss='binary_crossentropy', metrics=['accuracy'])",
   "id": "6b7cc3b2715f3ec4",
   "outputs": [],
   "execution_count": 242
  },
  {
   "metadata": {},
   "cell_type": "markdown",
   "source": "#### Εκπαίδευση",
   "id": "6072d56ebf73e78"
  },
  {
   "metadata": {
    "ExecuteTime": {
     "end_time": "2024-09-13T20:34:11.131649Z",
     "start_time": "2024-09-13T20:33:51.775017Z"
    }
   },
   "cell_type": "code",
   "source": "finetune_history = finetune_model2.fit(X_finetune_nw, y_finetune_nw, epochs=50, batch_size=32, validation_split=0.2)",
   "id": "ee03ac74dee934a2",
   "outputs": [
    {
     "name": "stdout",
     "output_type": "stream",
     "text": [
      "Epoch 1/50\n",
      "387/387 [==============================] - 1s 1ms/step - loss: 0.2929 - accuracy: 0.9074 - val_loss: 0.2553 - val_accuracy: 0.9089\n",
      "Epoch 2/50\n",
      "387/387 [==============================] - 0s 933us/step - loss: 0.2236 - accuracy: 0.9185 - val_loss: 0.2370 - val_accuracy: 0.9182\n",
      "Epoch 3/50\n",
      "387/387 [==============================] - 0s 1ms/step - loss: 0.1979 - accuracy: 0.9257 - val_loss: 0.2324 - val_accuracy: 0.9118\n",
      "Epoch 4/50\n",
      "387/387 [==============================] - 0s 965us/step - loss: 0.1837 - accuracy: 0.9314 - val_loss: 0.2316 - val_accuracy: 0.9137\n",
      "Epoch 5/50\n",
      "387/387 [==============================] - 0s 928us/step - loss: 0.1724 - accuracy: 0.9355 - val_loss: 0.2302 - val_accuracy: 0.9150\n",
      "Epoch 6/50\n",
      "387/387 [==============================] - 0s 926us/step - loss: 0.1632 - accuracy: 0.9376 - val_loss: 0.2261 - val_accuracy: 0.9121\n",
      "Epoch 7/50\n",
      "387/387 [==============================] - 0s 942us/step - loss: 0.1568 - accuracy: 0.9388 - val_loss: 0.2316 - val_accuracy: 0.9121\n",
      "Epoch 8/50\n",
      "387/387 [==============================] - 0s 931us/step - loss: 0.1523 - accuracy: 0.9406 - val_loss: 0.2319 - val_accuracy: 0.9111\n",
      "Epoch 9/50\n",
      "387/387 [==============================] - 0s 927us/step - loss: 0.1458 - accuracy: 0.9430 - val_loss: 0.2317 - val_accuracy: 0.9131\n",
      "Epoch 10/50\n",
      "387/387 [==============================] - 0s 1ms/step - loss: 0.1436 - accuracy: 0.9439 - val_loss: 0.2355 - val_accuracy: 0.9169\n",
      "Epoch 11/50\n",
      "387/387 [==============================] - 0s 951us/step - loss: 0.1395 - accuracy: 0.9462 - val_loss: 0.2400 - val_accuracy: 0.9137\n",
      "Epoch 12/50\n",
      "387/387 [==============================] - 0s 931us/step - loss: 0.1360 - accuracy: 0.9468 - val_loss: 0.2415 - val_accuracy: 0.9121\n",
      "Epoch 13/50\n",
      "387/387 [==============================] - 0s 993us/step - loss: 0.1323 - accuracy: 0.9483 - val_loss: 0.2452 - val_accuracy: 0.9072\n",
      "Epoch 14/50\n",
      "387/387 [==============================] - 0s 1ms/step - loss: 0.1290 - accuracy: 0.9499 - val_loss: 0.2489 - val_accuracy: 0.9134\n",
      "Epoch 15/50\n",
      "387/387 [==============================] - 0s 1ms/step - loss: 0.1252 - accuracy: 0.9508 - val_loss: 0.2506 - val_accuracy: 0.9063\n",
      "Epoch 16/50\n",
      "387/387 [==============================] - 0s 938us/step - loss: 0.1224 - accuracy: 0.9519 - val_loss: 0.2540 - val_accuracy: 0.9121\n",
      "Epoch 17/50\n",
      "387/387 [==============================] - 0s 965us/step - loss: 0.1200 - accuracy: 0.9531 - val_loss: 0.2554 - val_accuracy: 0.9089\n",
      "Epoch 18/50\n",
      "387/387 [==============================] - 0s 954us/step - loss: 0.1159 - accuracy: 0.9560 - val_loss: 0.2543 - val_accuracy: 0.9137\n",
      "Epoch 19/50\n",
      "387/387 [==============================] - 0s 936us/step - loss: 0.1135 - accuracy: 0.9568 - val_loss: 0.2564 - val_accuracy: 0.9108\n",
      "Epoch 20/50\n",
      "387/387 [==============================] - 0s 933us/step - loss: 0.1111 - accuracy: 0.9579 - val_loss: 0.2598 - val_accuracy: 0.9150\n",
      "Epoch 21/50\n",
      "387/387 [==============================] - 0s 956us/step - loss: 0.1092 - accuracy: 0.9589 - val_loss: 0.2689 - val_accuracy: 0.9076\n",
      "Epoch 22/50\n",
      "387/387 [==============================] - 0s 988us/step - loss: 0.1066 - accuracy: 0.9586 - val_loss: 0.2712 - val_accuracy: 0.9072\n",
      "Epoch 23/50\n",
      "387/387 [==============================] - 0s 995us/step - loss: 0.1036 - accuracy: 0.9601 - val_loss: 0.2839 - val_accuracy: 0.9037\n",
      "Epoch 24/50\n",
      "387/387 [==============================] - 0s 940us/step - loss: 0.1014 - accuracy: 0.9607 - val_loss: 0.2800 - val_accuracy: 0.9092\n",
      "Epoch 25/50\n",
      "387/387 [==============================] - 0s 959us/step - loss: 0.0989 - accuracy: 0.9636 - val_loss: 0.2820 - val_accuracy: 0.9101\n",
      "Epoch 26/50\n",
      "387/387 [==============================] - 0s 1ms/step - loss: 0.0967 - accuracy: 0.9644 - val_loss: 0.2925 - val_accuracy: 0.9027\n",
      "Epoch 27/50\n",
      "387/387 [==============================] - 0s 969us/step - loss: 0.0936 - accuracy: 0.9648 - val_loss: 0.2956 - val_accuracy: 0.9037\n",
      "Epoch 28/50\n",
      "387/387 [==============================] - 0s 928us/step - loss: 0.0935 - accuracy: 0.9639 - val_loss: 0.3017 - val_accuracy: 0.9008\n",
      "Epoch 29/50\n",
      "387/387 [==============================] - 0s 946us/step - loss: 0.0917 - accuracy: 0.9670 - val_loss: 0.3055 - val_accuracy: 0.9066\n",
      "Epoch 30/50\n",
      "387/387 [==============================] - 0s 962us/step - loss: 0.0893 - accuracy: 0.9663 - val_loss: 0.3144 - val_accuracy: 0.9001\n",
      "Epoch 31/50\n",
      "387/387 [==============================] - 0s 931us/step - loss: 0.0855 - accuracy: 0.9691 - val_loss: 0.3188 - val_accuracy: 0.9008\n",
      "Epoch 32/50\n",
      "387/387 [==============================] - 0s 954us/step - loss: 0.0847 - accuracy: 0.9681 - val_loss: 0.3116 - val_accuracy: 0.9040\n",
      "Epoch 33/50\n",
      "387/387 [==============================] - 0s 954us/step - loss: 0.0819 - accuracy: 0.9701 - val_loss: 0.3162 - val_accuracy: 0.9124\n",
      "Epoch 34/50\n",
      "387/387 [==============================] - 0s 943us/step - loss: 0.0808 - accuracy: 0.9706 - val_loss: 0.3315 - val_accuracy: 0.8985\n",
      "Epoch 35/50\n",
      "387/387 [==============================] - 0s 944us/step - loss: 0.0802 - accuracy: 0.9714 - val_loss: 0.3300 - val_accuracy: 0.9024\n",
      "Epoch 36/50\n",
      "387/387 [==============================] - 0s 946us/step - loss: 0.0783 - accuracy: 0.9702 - val_loss: 0.3333 - val_accuracy: 0.9021\n",
      "Epoch 37/50\n",
      "387/387 [==============================] - 0s 947us/step - loss: 0.0768 - accuracy: 0.9725 - val_loss: 0.3462 - val_accuracy: 0.9017\n",
      "Epoch 38/50\n",
      "387/387 [==============================] - 0s 953us/step - loss: 0.0751 - accuracy: 0.9727 - val_loss: 0.3543 - val_accuracy: 0.9001\n",
      "Epoch 39/50\n",
      "387/387 [==============================] - 0s 941us/step - loss: 0.0735 - accuracy: 0.9737 - val_loss: 0.3552 - val_accuracy: 0.9089\n",
      "Epoch 40/50\n",
      "387/387 [==============================] - 0s 939us/step - loss: 0.0726 - accuracy: 0.9745 - val_loss: 0.3464 - val_accuracy: 0.9040\n",
      "Epoch 41/50\n",
      "387/387 [==============================] - 0s 941us/step - loss: 0.0714 - accuracy: 0.9743 - val_loss: 0.3724 - val_accuracy: 0.8998\n",
      "Epoch 42/50\n",
      "387/387 [==============================] - 0s 944us/step - loss: 0.0682 - accuracy: 0.9758 - val_loss: 0.3778 - val_accuracy: 0.8927\n",
      "Epoch 43/50\n",
      "387/387 [==============================] - 0s 946us/step - loss: 0.0692 - accuracy: 0.9741 - val_loss: 0.3728 - val_accuracy: 0.8985\n",
      "Epoch 44/50\n",
      "387/387 [==============================] - 0s 936us/step - loss: 0.0672 - accuracy: 0.9758 - val_loss: 0.3798 - val_accuracy: 0.9011\n",
      "Epoch 45/50\n",
      "387/387 [==============================] - 0s 946us/step - loss: 0.0657 - accuracy: 0.9755 - val_loss: 0.3892 - val_accuracy: 0.8895\n",
      "Epoch 46/50\n",
      "387/387 [==============================] - 0s 993us/step - loss: 0.0650 - accuracy: 0.9757 - val_loss: 0.3946 - val_accuracy: 0.8975\n",
      "Epoch 47/50\n",
      "387/387 [==============================] - 0s 1ms/step - loss: 0.0650 - accuracy: 0.9755 - val_loss: 0.3983 - val_accuracy: 0.8988\n",
      "Epoch 48/50\n",
      "387/387 [==============================] - 0s 944us/step - loss: 0.0612 - accuracy: 0.9788 - val_loss: 0.4010 - val_accuracy: 0.8998\n",
      "Epoch 49/50\n",
      "387/387 [==============================] - 0s 952us/step - loss: 0.0613 - accuracy: 0.9782 - val_loss: 0.4099 - val_accuracy: 0.9014\n",
      "Epoch 50/50\n",
      "387/387 [==============================] - 0s 929us/step - loss: 0.0600 - accuracy: 0.9791 - val_loss: 0.4011 - val_accuracy: 0.9014\n"
     ]
    }
   ],
   "execution_count": 243
  },
  {
   "metadata": {},
   "cell_type": "markdown",
   "source": "#### Model2 Accuracy",
   "id": "d1f66623c5d8f1e3"
  },
  {
   "metadata": {
    "ExecuteTime": {
     "end_time": "2024-09-13T20:35:11.687230Z",
     "start_time": "2024-09-13T20:35:11.449013Z"
    }
   },
   "cell_type": "code",
   "source": [
    "loss, accuracy = finetune_model2.evaluate(X_test_nw, y_test_nw)\n",
    "print(f'Model2 Accuracy: {accuracy}')"
   ],
   "id": "f5f8db7b753dbca3",
   "outputs": [
    {
     "name": "stdout",
     "output_type": "stream",
     "text": [
      "242/242 [==============================] - 0s 706us/step - loss: 0.4049 - accuracy: 0.9021\n",
      "Transfer Learning Model Accuracy: 0.9021205306053162\n"
     ]
    }
   ],
   "execution_count": 249
  },
  {
   "metadata": {},
   "cell_type": "markdown",
   "source": "#### Model2 Accuracy on Test Set",
   "id": "2e86a15d4ad352c7"
  },
  {
   "metadata": {
    "ExecuteTime": {
     "end_time": "2024-09-13T20:40:41.572419Z",
     "start_time": "2024-09-13T20:40:41.314184Z"
    }
   },
   "cell_type": "code",
   "source": [
    "predictions2 = finetune_model2.predict(X_test_nw)\n",
    "predicted_y2 = np.argmax(predictions2, axis=1)\n",
    "accuracy = np.mean(predicted_y2 == y_test_nw)\n",
    "print(f'Accuracy on test set: {accuracy}')"
   ],
   "id": "ca253e668bf1b40b",
   "outputs": [
    {
     "name": "stdout",
     "output_type": "stream",
     "text": [
      "242/242 [==============================] - 0s 581us/step\n",
      "Accuracy on test set: 0.9124644427204551\n"
     ]
    }
   ],
   "execution_count": 252
  },
  {
   "metadata": {},
   "cell_type": "markdown",
   "source": "#### Classification Report",
   "id": "a96be21e3a874084"
  },
  {
   "metadata": {
    "ExecuteTime": {
     "end_time": "2024-09-13T20:34:11.862561Z",
     "start_time": "2024-09-13T20:34:11.848548Z"
    }
   },
   "cell_type": "code",
   "source": "print(classification_report(y_test_nw, predicted_y2, zero_division=1))",
   "id": "92375c241558a8ce",
   "outputs": [
    {
     "name": "stdout",
     "output_type": "stream",
     "text": [
      "              precision    recall  f1-score   support\n",
      "\n",
      "       False       0.91      1.00      0.95      7057\n",
      "        True       1.00      0.00      0.00       677\n",
      "\n",
      "    accuracy                           0.91      7734\n",
      "   macro avg       0.96      0.50      0.48      7734\n",
      "weighted avg       0.92      0.91      0.87      7734\n",
      "\n"
     ]
    }
   ],
   "execution_count": 246
  },
  {
   "metadata": {},
   "cell_type": "markdown",
   "source": "#### Learning Rate",
   "id": "9d58e14a73e4e450"
  },
  {
   "metadata": {
    "ExecuteTime": {
     "end_time": "2024-09-13T20:34:12.333667Z",
     "start_time": "2024-09-13T20:34:12.146991Z"
    }
   },
   "cell_type": "code",
   "source": [
    "acc = finetune_history.history['accuracy']\n",
    "val_acc = finetune_history.history['val_accuracy']\n",
    "epochs = range(1, len(acc) + 1)\n",
    "\n",
    "plt.plot(epochs, acc, 'bo', label='Training acc')\n",
    "plt.plot(epochs, val_acc, 'b', label='Validation acc')\n",
    "plt.title('Training and validation accuracy (Model2)')\n",
    "plt.xlabel('Epochs')\n",
    "plt.ylabel('Accuracy')\n",
    "plt.legend()\n",
    "\n",
    "plt.show()"
   ],
   "id": "c6dee96a54359da7",
   "outputs": [
    {
     "data": {
      "text/plain": [
       "<Figure size 640x480 with 1 Axes>"
      ],
      "image/png": "[encoded data removed]"
     },
     "metadata": {},
     "output_type": "display_data"
    }
   ],
   "execution_count": 248
  }
 ],
 "metadata": {
  "kernelspec": {
   "display_name": "Python 3 (ipykernel)",
   "language": "python",
   "name": "python3"
  },
  "language_info": {
   "codemirror_mode": {
    "name": "ipython",
    "version": 3
   },
   "file_extension": ".py",
   "mimetype": "text/x-python",
   "name": "python",
   "nbconvert_exporter": "python",
   "pygments_lexer": "ipython3",
   "version": "3.12.3"
  }
 },
 "nbformat": 4,
 "nbformat_minor": 5
}
