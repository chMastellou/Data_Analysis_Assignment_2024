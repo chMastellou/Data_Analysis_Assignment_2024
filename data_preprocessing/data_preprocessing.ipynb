{
 "cells": [
  {
   "cell_type": "markdown",
   "metadata": {},
   "source": [
    "# Εργασία Αναλυτικής Δεδομένων 2024\n",
    "---\n",
    "### Βήμα 1: Προεπεξεργασία Δεδομένων"
   ]
  },
  {
   "cell_type": "code",
   "metadata": {
    "ExecuteTime": {
     "end_time": "2024-09-08T20:17:22.981410Z",
     "start_time": "2024-09-08T20:17:22.978410Z"
    }
   },
   "source": [
    "import numpy as np\n",
    "import pandas as pd\n",
    "import seaborn as sns\n",
    "from matplotlib import pyplot as plt\n",
    "from sklearn.preprocessing import RobustScaler\n",
    "from sklearn.naive_bayes import GaussianNB"
   ],
   "outputs": [],
   "execution_count": 364
  },
  {
   "metadata": {},
   "cell_type": "markdown",
   "source": "#### Ρυθμίσεις"
  },
  {
   "metadata": {
    "ExecuteTime": {
     "end_time": "2024-09-08T20:17:23.020717Z",
     "start_time": "2024-09-08T20:17:23.017717Z"
    }
   },
   "cell_type": "code",
   "source": "pd.options.mode.copy_on_write = True",
   "outputs": [],
   "execution_count": 365
  },
  {
   "cell_type": "markdown",
   "metadata": {},
   "source": [
    "---\n",
    "\n",
    "### Ανάγνωση Βάσης Δεδομένων\n",
    "#### Όνομα: Bank Marketing Data Set (https://archive.ics.uci.edu/dataset/222/bank+marketing)"
   ]
  },
  {
   "cell_type": "code",
   "metadata": {
    "ExecuteTime": {
     "end_time": "2024-09-08T20:17:23.102232Z",
     "start_time": "2024-09-08T20:17:23.054724Z"
    }
   },
   "source": "data = pd.read_csv('bank-full.csv', sep=';')",
   "outputs": [],
   "execution_count": 366
  },
  {
   "metadata": {},
   "cell_type": "markdown",
   "source": "#### Πρώτη γνωριμία με τα Δεδομένα"
  },
  {
   "cell_type": "code",
   "metadata": {
    "ExecuteTime": {
     "end_time": "2024-09-08T20:17:23.138239Z",
     "start_time": "2024-09-08T20:17:23.135738Z"
    }
   },
   "source": "# data",
   "outputs": [],
   "execution_count": 367
  },
  {
   "cell_type": "markdown",
   "metadata": {},
   "source": "#### Μέγεθος και Δομή Δεδομένων"
  },
  {
   "cell_type": "code",
   "metadata": {
    "ExecuteTime": {
     "end_time": "2024-09-08T20:17:23.175245Z",
     "start_time": "2024-09-08T20:17:23.171745Z"
    }
   },
   "source": [
    "data.shape"
   ],
   "outputs": [
    {
     "data": {
      "text/plain": [
       "(45211, 17)"
      ]
     },
     "execution_count": 368,
     "metadata": {},
     "output_type": "execute_result"
    }
   ],
   "execution_count": 368
  },
  {
   "cell_type": "code",
   "metadata": {
    "ExecuteTime": {
     "end_time": "2024-09-08T20:17:23.210751Z",
     "start_time": "2024-09-08T20:17:23.207250Z"
    }
   },
   "source": [
    "data.columns"
   ],
   "outputs": [
    {
     "data": {
      "text/plain": [
       "Index(['age', 'job', 'marital', 'education', 'default', 'balance', 'housing',\n",
       "       'loan', 'contact', 'day', 'month', 'duration', 'campaign', 'pdays',\n",
       "       'previous', 'poutcome', 'y'],\n",
       "      dtype='object')"
      ]
     },
     "execution_count": 369,
     "metadata": {},
     "output_type": "execute_result"
    }
   ],
   "execution_count": 369
  },
  {
   "cell_type": "code",
   "metadata": {
    "ExecuteTime": {
     "end_time": "2024-09-08T20:17:23.300783Z",
     "start_time": "2024-09-08T20:17:23.291781Z"
    }
   },
   "source": [
    "data.head()"
   ],
   "outputs": [
    {
     "data": {
      "text/plain": [
       "   age           job  marital  education default  balance housing loan  \\\n",
       "0   58    management  married   tertiary      no     2143     yes   no   \n",
       "1   44    technician   single  secondary      no       29     yes   no   \n",
       "2   33  entrepreneur  married  secondary      no        2     yes  yes   \n",
       "3   47   blue-collar  married    unknown      no     1506     yes   no   \n",
       "4   33       unknown   single    unknown      no        1      no   no   \n",
       "\n",
       "   contact  day month  duration  campaign  pdays  previous poutcome   y  \n",
       "0  unknown    5   may       261         1     -1         0  unknown  no  \n",
       "1  unknown    5   may       151         1     -1         0  unknown  no  \n",
       "2  unknown    5   may        76         1     -1         0  unknown  no  \n",
       "3  unknown    5   may        92         1     -1         0  unknown  no  \n",
       "4  unknown    5   may       198         1     -1         0  unknown  no  "
      ],
      "text/html": [
       "<div>\n",
       "<style scoped>\n",
       "    .dataframe tbody tr th:only-of-type {\n",
       "        vertical-align: middle;\n",
       "    }\n",
       "\n",
       "    .dataframe tbody tr th {\n",
       "        vertical-align: top;\n",
       "    }\n",
       "\n",
       "    .dataframe thead th {\n",
       "        text-align: right;\n",
       "    }\n",
       "</style>\n",
       "<table border=\"1\" class=\"dataframe\">\n",
       "  <thead>\n",
       "    <tr style=\"text-align: right;\">\n",
       "      <th></th>\n",
       "      <th>age</th>\n",
       "      <th>job</th>\n",
       "      <th>marital</th>\n",
       "      <th>education</th>\n",
       "      <th>default</th>\n",
       "      <th>balance</th>\n",
       "      <th>housing</th>\n",
       "      <th>loan</th>\n",
       "      <th>contact</th>\n",
       "      <th>day</th>\n",
       "      <th>month</th>\n",
       "      <th>duration</th>\n",
       "      <th>campaign</th>\n",
       "      <th>pdays</th>\n",
       "      <th>previous</th>\n",
       "      <th>poutcome</th>\n",
       "      <th>y</th>\n",
       "    </tr>\n",
       "  </thead>\n",
       "  <tbody>\n",
       "    <tr>\n",
       "      <th>0</th>\n",
       "      <td>58</td>\n",
       "      <td>management</td>\n",
       "      <td>married</td>\n",
       "      <td>tertiary</td>\n",
       "      <td>no</td>\n",
       "      <td>2143</td>\n",
       "      <td>yes</td>\n",
       "      <td>no</td>\n",
       "      <td>unknown</td>\n",
       "      <td>5</td>\n",
       "      <td>may</td>\n",
       "      <td>261</td>\n",
       "      <td>1</td>\n",
       "      <td>-1</td>\n",
       "      <td>0</td>\n",
       "      <td>unknown</td>\n",
       "      <td>no</td>\n",
       "    </tr>\n",
       "    <tr>\n",
       "      <th>1</th>\n",
       "      <td>44</td>\n",
       "      <td>technician</td>\n",
       "      <td>single</td>\n",
       "      <td>secondary</td>\n",
       "      <td>no</td>\n",
       "      <td>29</td>\n",
       "      <td>yes</td>\n",
       "      <td>no</td>\n",
       "      <td>unknown</td>\n",
       "      <td>5</td>\n",
       "      <td>may</td>\n",
       "      <td>151</td>\n",
       "      <td>1</td>\n",
       "      <td>-1</td>\n",
       "      <td>0</td>\n",
       "      <td>unknown</td>\n",
       "      <td>no</td>\n",
       "    </tr>\n",
       "    <tr>\n",
       "      <th>2</th>\n",
       "      <td>33</td>\n",
       "      <td>entrepreneur</td>\n",
       "      <td>married</td>\n",
       "      <td>secondary</td>\n",
       "      <td>no</td>\n",
       "      <td>2</td>\n",
       "      <td>yes</td>\n",
       "      <td>yes</td>\n",
       "      <td>unknown</td>\n",
       "      <td>5</td>\n",
       "      <td>may</td>\n",
       "      <td>76</td>\n",
       "      <td>1</td>\n",
       "      <td>-1</td>\n",
       "      <td>0</td>\n",
       "      <td>unknown</td>\n",
       "      <td>no</td>\n",
       "    </tr>\n",
       "    <tr>\n",
       "      <th>3</th>\n",
       "      <td>47</td>\n",
       "      <td>blue-collar</td>\n",
       "      <td>married</td>\n",
       "      <td>unknown</td>\n",
       "      <td>no</td>\n",
       "      <td>1506</td>\n",
       "      <td>yes</td>\n",
       "      <td>no</td>\n",
       "      <td>unknown</td>\n",
       "      <td>5</td>\n",
       "      <td>may</td>\n",
       "      <td>92</td>\n",
       "      <td>1</td>\n",
       "      <td>-1</td>\n",
       "      <td>0</td>\n",
       "      <td>unknown</td>\n",
       "      <td>no</td>\n",
       "    </tr>\n",
       "    <tr>\n",
       "      <th>4</th>\n",
       "      <td>33</td>\n",
       "      <td>unknown</td>\n",
       "      <td>single</td>\n",
       "      <td>unknown</td>\n",
       "      <td>no</td>\n",
       "      <td>1</td>\n",
       "      <td>no</td>\n",
       "      <td>no</td>\n",
       "      <td>unknown</td>\n",
       "      <td>5</td>\n",
       "      <td>may</td>\n",
       "      <td>198</td>\n",
       "      <td>1</td>\n",
       "      <td>-1</td>\n",
       "      <td>0</td>\n",
       "      <td>unknown</td>\n",
       "      <td>no</td>\n",
       "    </tr>\n",
       "  </tbody>\n",
       "</table>\n",
       "</div>"
      ]
     },
     "execution_count": 370,
     "metadata": {},
     "output_type": "execute_result"
    }
   ],
   "execution_count": 370
  },
  {
   "cell_type": "code",
   "metadata": {
    "ExecuteTime": {
     "end_time": "2024-09-08T20:17:23.393799Z",
     "start_time": "2024-09-08T20:17:23.385297Z"
    }
   },
   "source": [
    "data.tail()"
   ],
   "outputs": [
    {
     "data": {
      "text/plain": [
       "       age           job   marital  education default  balance housing loan  \\\n",
       "45206   51    technician   married   tertiary      no      825      no   no   \n",
       "45207   71       retired  divorced    primary      no     1729      no   no   \n",
       "45208   72       retired   married  secondary      no     5715      no   no   \n",
       "45209   57   blue-collar   married  secondary      no      668      no   no   \n",
       "45210   37  entrepreneur   married  secondary      no     2971      no   no   \n",
       "\n",
       "         contact  day month  duration  campaign  pdays  previous poutcome    y  \n",
       "45206   cellular   17   nov       977         3     -1         0  unknown  yes  \n",
       "45207   cellular   17   nov       456         2     -1         0  unknown  yes  \n",
       "45208   cellular   17   nov      1127         5    184         3  success  yes  \n",
       "45209  telephone   17   nov       508         4     -1         0  unknown   no  \n",
       "45210   cellular   17   nov       361         2    188        11    other   no  "
      ],
      "text/html": [
       "<div>\n",
       "<style scoped>\n",
       "    .dataframe tbody tr th:only-of-type {\n",
       "        vertical-align: middle;\n",
       "    }\n",
       "\n",
       "    .dataframe tbody tr th {\n",
       "        vertical-align: top;\n",
       "    }\n",
       "\n",
       "    .dataframe thead th {\n",
       "        text-align: right;\n",
       "    }\n",
       "</style>\n",
       "<table border=\"1\" class=\"dataframe\">\n",
       "  <thead>\n",
       "    <tr style=\"text-align: right;\">\n",
       "      <th></th>\n",
       "      <th>age</th>\n",
       "      <th>job</th>\n",
       "      <th>marital</th>\n",
       "      <th>education</th>\n",
       "      <th>default</th>\n",
       "      <th>balance</th>\n",
       "      <th>housing</th>\n",
       "      <th>loan</th>\n",
       "      <th>contact</th>\n",
       "      <th>day</th>\n",
       "      <th>month</th>\n",
       "      <th>duration</th>\n",
       "      <th>campaign</th>\n",
       "      <th>pdays</th>\n",
       "      <th>previous</th>\n",
       "      <th>poutcome</th>\n",
       "      <th>y</th>\n",
       "    </tr>\n",
       "  </thead>\n",
       "  <tbody>\n",
       "    <tr>\n",
       "      <th>45206</th>\n",
       "      <td>51</td>\n",
       "      <td>technician</td>\n",
       "      <td>married</td>\n",
       "      <td>tertiary</td>\n",
       "      <td>no</td>\n",
       "      <td>825</td>\n",
       "      <td>no</td>\n",
       "      <td>no</td>\n",
       "      <td>cellular</td>\n",
       "      <td>17</td>\n",
       "      <td>nov</td>\n",
       "      <td>977</td>\n",
       "      <td>3</td>\n",
       "      <td>-1</td>\n",
       "      <td>0</td>\n",
       "      <td>unknown</td>\n",
       "      <td>yes</td>\n",
       "    </tr>\n",
       "    <tr>\n",
       "      <th>45207</th>\n",
       "      <td>71</td>\n",
       "      <td>retired</td>\n",
       "      <td>divorced</td>\n",
       "      <td>primary</td>\n",
       "      <td>no</td>\n",
       "      <td>1729</td>\n",
       "      <td>no</td>\n",
       "      <td>no</td>\n",
       "      <td>cellular</td>\n",
       "      <td>17</td>\n",
       "      <td>nov</td>\n",
       "      <td>456</td>\n",
       "      <td>2</td>\n",
       "      <td>-1</td>\n",
       "      <td>0</td>\n",
       "      <td>unknown</td>\n",
       "      <td>yes</td>\n",
       "    </tr>\n",
       "    <tr>\n",
       "      <th>45208</th>\n",
       "      <td>72</td>\n",
       "      <td>retired</td>\n",
       "      <td>married</td>\n",
       "      <td>secondary</td>\n",
       "      <td>no</td>\n",
       "      <td>5715</td>\n",
       "      <td>no</td>\n",
       "      <td>no</td>\n",
       "      <td>cellular</td>\n",
       "      <td>17</td>\n",
       "      <td>nov</td>\n",
       "      <td>1127</td>\n",
       "      <td>5</td>\n",
       "      <td>184</td>\n",
       "      <td>3</td>\n",
       "      <td>success</td>\n",
       "      <td>yes</td>\n",
       "    </tr>\n",
       "    <tr>\n",
       "      <th>45209</th>\n",
       "      <td>57</td>\n",
       "      <td>blue-collar</td>\n",
       "      <td>married</td>\n",
       "      <td>secondary</td>\n",
       "      <td>no</td>\n",
       "      <td>668</td>\n",
       "      <td>no</td>\n",
       "      <td>no</td>\n",
       "      <td>telephone</td>\n",
       "      <td>17</td>\n",
       "      <td>nov</td>\n",
       "      <td>508</td>\n",
       "      <td>4</td>\n",
       "      <td>-1</td>\n",
       "      <td>0</td>\n",
       "      <td>unknown</td>\n",
       "      <td>no</td>\n",
       "    </tr>\n",
       "    <tr>\n",
       "      <th>45210</th>\n",
       "      <td>37</td>\n",
       "      <td>entrepreneur</td>\n",
       "      <td>married</td>\n",
       "      <td>secondary</td>\n",
       "      <td>no</td>\n",
       "      <td>2971</td>\n",
       "      <td>no</td>\n",
       "      <td>no</td>\n",
       "      <td>cellular</td>\n",
       "      <td>17</td>\n",
       "      <td>nov</td>\n",
       "      <td>361</td>\n",
       "      <td>2</td>\n",
       "      <td>188</td>\n",
       "      <td>11</td>\n",
       "      <td>other</td>\n",
       "      <td>no</td>\n",
       "    </tr>\n",
       "  </tbody>\n",
       "</table>\n",
       "</div>"
      ]
     },
     "execution_count": 371,
     "metadata": {},
     "output_type": "execute_result"
    }
   ],
   "execution_count": 371
  },
  {
   "cell_type": "markdown",
   "metadata": {},
   "source": "#### Διαγραφή Διπλότυπων"
  },
  {
   "cell_type": "code",
   "metadata": {
    "ExecuteTime": {
     "end_time": "2024-09-08T20:17:23.650854Z",
     "start_time": "2024-09-08T20:17:23.620849Z"
    }
   },
   "source": [
    "data_no_dupes = data.drop_duplicates()\n",
    "data_no_dupes.shape"
   ],
   "outputs": [
    {
     "data": {
      "text/plain": [
       "(45211, 17)"
      ]
     },
     "execution_count": 372,
     "metadata": {},
     "output_type": "execute_result"
    }
   ],
   "execution_count": 372
  },
  {
   "metadata": {},
   "cell_type": "markdown",
   "source": "---"
  },
  {
   "metadata": {},
   "cell_type": "markdown",
   "source": [
    "### Εύρεση και Αντιμετώπιση Ακραίων τιμών\n",
    "Η αναζήτηση ακραίων τιμών έχει νόημα μόνο στα αριθμητικά χαρακτηριστικά ('age', 'balance', 'day', 'duration', 'campaign'). Οι στήλες pdays και previous λόγω των τιμών και της σημασίας τους, θα έχουν διαφορετική μεταχείριση στη συνέχεια.\n",
    "Χρησιμοποιείται η μέθοδος IQR."
   ]
  },
  {
   "metadata": {},
   "cell_type": "markdown",
   "source": "#### Διαχωρισμός των αριθμητικών χαρακτηριστικών σε δύο ομάδες (age, balance, day, duration, campaign) και (pdays,previous)\n"
  },
  {
   "metadata": {
    "ExecuteTime": {
     "end_time": "2024-09-08T20:17:23.787377Z",
     "start_time": "2024-09-08T20:17:23.784377Z"
    }
   },
   "cell_type": "code",
   "source": "numeric_columns_part = data_no_dupes[[\"age\", \"balance\", \"day\", \"duration\", \"campaign\"]]",
   "outputs": [],
   "execution_count": 373
  },
  {
   "metadata": {
    "ExecuteTime": {
     "end_time": "2024-09-08T20:17:24.148597Z",
     "start_time": "2024-09-08T20:17:23.963565Z"
    }
   },
   "cell_type": "code",
   "source": [
    "fig, ax = plt.subplots(1,1)\n",
    "\n",
    "numeric_columns_part.plot.box(ax=ax, rot=90, showmeans=True)\n",
    "\n",
    "ax.set_ylim(0, 10000)\n",
    "ax.set_yscale('symlog')"
   ],
   "outputs": [
    {
     "data": {
      "text/plain": [
       "<Figure size 640x480 with 1 Axes>"
      ],
      "image/png": "[encoded data removed]"
     },
     "metadata": {},
     "output_type": "display_data"
    }
   ],
   "execution_count": 374
  },
  {
   "metadata": {},
   "cell_type": "markdown",
   "source": "#### Εκκαθάριση ακραίων τιμών\n"
  },
  {
   "metadata": {
    "ExecuteTime": {
     "end_time": "2024-09-08T20:17:24.174101Z",
     "start_time": "2024-09-08T20:17:24.170101Z"
    }
   },
   "cell_type": "code",
   "source": [
    "def clean_outliers(data, numeric_columns_part):\n",
    "\n",
    "        # Calculate Q1 (25th percentile) and Q3 (75th percentile)\n",
    "        Q1 = numeric_columns_part.quantile(0.25)\n",
    "        Q3 = numeric_columns_part.quantile(0.75)\n",
    "\n",
    "        # Calculate IQR (Inter-quantile Range)\n",
    "        IQR = Q3 - Q1\n",
    "\n",
    "        # Define the lower and upper bounds for outliers\n",
    "        lower_bound = Q1 - 1.5 * IQR\n",
    "        upper_bound = Q3 + 1.5 * IQR\n",
    "\n",
    "        # Remove rows where outliers exist for the current column\n",
    "        no_outliers_mask = ((numeric_columns_part >= lower_bound) & (numeric_columns_part <= upper_bound)).all(axis=1)\n",
    "        cleaned_df = data[no_outliers_mask]\n",
    "        \n",
    "        return cleaned_df"
   ],
   "outputs": [],
   "execution_count": 375
  },
  {
   "metadata": {
    "ExecuteTime": {
     "end_time": "2024-09-08T20:17:24.224610Z",
     "start_time": "2024-09-08T20:17:24.208608Z"
    }
   },
   "cell_type": "code",
   "source": [
    "data_no_outliers = clean_outliers(data_no_dupes, numeric_columns_part)\n",
    "numeric_columns_part = data_no_outliers[[\"age\", \"balance\", \"day\", \"duration\", \"campaign\"]]"
   ],
   "outputs": [],
   "execution_count": 376
  },
  {
   "metadata": {},
   "cell_type": "markdown",
   "source": "#### Έλεγχος αφαίρεσης ακραίων τιμών\n"
  },
  {
   "metadata": {
    "ExecuteTime": {
     "end_time": "2024-09-08T20:17:24.262617Z",
     "start_time": "2024-09-08T20:17:24.258617Z"
    }
   },
   "cell_type": "code",
   "source": "data_no_outliers.shape",
   "outputs": [
    {
     "data": {
      "text/plain": [
       "(34719, 17)"
      ]
     },
     "execution_count": 377,
     "metadata": {},
     "output_type": "execute_result"
    }
   ],
   "execution_count": 377
  },
  {
   "metadata": {
    "ExecuteTime": {
     "end_time": "2024-09-08T20:17:24.310126Z",
     "start_time": "2024-09-08T20:17:24.296622Z"
    }
   },
   "cell_type": "code",
   "source": "numeric_columns_part.describe()",
   "outputs": [
    {
     "data": {
      "text/plain": [
       "                age       balance           day      duration      campaign\n",
       "count  34719.000000  34719.000000  34719.000000  34719.000000  34719.000000\n",
       "mean      40.276275    633.803681     15.474092    207.006941      2.132262\n",
       "std        9.924791    839.361046      8.312784    139.454578      1.320066\n",
       "min       18.000000  -1944.000000      1.000000      0.000000      1.000000\n",
       "25%       32.000000     46.000000      8.000000    102.000000      1.000000\n",
       "50%       39.000000    344.000000     15.000000    171.000000      2.000000\n",
       "75%       48.000000    967.000000     21.000000    280.000000      3.000000\n",
       "max       70.000000   3462.000000     31.000000    643.000000      6.000000"
      ],
      "text/html": [
       "<div>\n",
       "<style scoped>\n",
       "    .dataframe tbody tr th:only-of-type {\n",
       "        vertical-align: middle;\n",
       "    }\n",
       "\n",
       "    .dataframe tbody tr th {\n",
       "        vertical-align: top;\n",
       "    }\n",
       "\n",
       "    .dataframe thead th {\n",
       "        text-align: right;\n",
       "    }\n",
       "</style>\n",
       "<table border=\"1\" class=\"dataframe\">\n",
       "  <thead>\n",
       "    <tr style=\"text-align: right;\">\n",
       "      <th></th>\n",
       "      <th>age</th>\n",
       "      <th>balance</th>\n",
       "      <th>day</th>\n",
       "      <th>duration</th>\n",
       "      <th>campaign</th>\n",
       "    </tr>\n",
       "  </thead>\n",
       "  <tbody>\n",
       "    <tr>\n",
       "      <th>count</th>\n",
       "      <td>34719.000000</td>\n",
       "      <td>34719.000000</td>\n",
       "      <td>34719.000000</td>\n",
       "      <td>34719.000000</td>\n",
       "      <td>34719.000000</td>\n",
       "    </tr>\n",
       "    <tr>\n",
       "      <th>mean</th>\n",
       "      <td>40.276275</td>\n",
       "      <td>633.803681</td>\n",
       "      <td>15.474092</td>\n",
       "      <td>207.006941</td>\n",
       "      <td>2.132262</td>\n",
       "    </tr>\n",
       "    <tr>\n",
       "      <th>std</th>\n",
       "      <td>9.924791</td>\n",
       "      <td>839.361046</td>\n",
       "      <td>8.312784</td>\n",
       "      <td>139.454578</td>\n",
       "      <td>1.320066</td>\n",
       "    </tr>\n",
       "    <tr>\n",
       "      <th>min</th>\n",
       "      <td>18.000000</td>\n",
       "      <td>-1944.000000</td>\n",
       "      <td>1.000000</td>\n",
       "      <td>0.000000</td>\n",
       "      <td>1.000000</td>\n",
       "    </tr>\n",
       "    <tr>\n",
       "      <th>25%</th>\n",
       "      <td>32.000000</td>\n",
       "      <td>46.000000</td>\n",
       "      <td>8.000000</td>\n",
       "      <td>102.000000</td>\n",
       "      <td>1.000000</td>\n",
       "    </tr>\n",
       "    <tr>\n",
       "      <th>50%</th>\n",
       "      <td>39.000000</td>\n",
       "      <td>344.000000</td>\n",
       "      <td>15.000000</td>\n",
       "      <td>171.000000</td>\n",
       "      <td>2.000000</td>\n",
       "    </tr>\n",
       "    <tr>\n",
       "      <th>75%</th>\n",
       "      <td>48.000000</td>\n",
       "      <td>967.000000</td>\n",
       "      <td>21.000000</td>\n",
       "      <td>280.000000</td>\n",
       "      <td>3.000000</td>\n",
       "    </tr>\n",
       "    <tr>\n",
       "      <th>max</th>\n",
       "      <td>70.000000</td>\n",
       "      <td>3462.000000</td>\n",
       "      <td>31.000000</td>\n",
       "      <td>643.000000</td>\n",
       "      <td>6.000000</td>\n",
       "    </tr>\n",
       "  </tbody>\n",
       "</table>\n",
       "</div>"
      ]
     },
     "execution_count": 378,
     "metadata": {},
     "output_type": "execute_result"
    }
   ],
   "execution_count": 378
  },
  {
   "metadata": {
    "ExecuteTime": {
     "end_time": "2024-09-08T20:17:24.534164Z",
     "start_time": "2024-09-08T20:17:24.366635Z"
    }
   },
   "cell_type": "code",
   "source": [
    "fig, ax = plt.subplots(1,1)\n",
    "\n",
    "numeric_columns_part.plot.box(ax=ax, rot=90, showmeans=True)\n",
    "\n",
    "ax.set_ylim(0, 10000)\n",
    "ax.set_yscale('symlog')"
   ],
   "outputs": [
    {
     "data": {
      "text/plain": [
       "<Figure size 640x480 with 1 Axes>"
      ],
      "image/png": "[encoded data removed]"
     },
     "metadata": {},
     "output_type": "display_data"
    }
   ],
   "execution_count": 379
  },
  {
   "metadata": {},
   "cell_type": "markdown",
   "source": ""
  },
  {
   "metadata": {},
   "cell_type": "markdown",
   "source": [
    "#### Αντιμετώπιση αριθμητικών χαρακτηριστικών (pdays, previous)\n",
    "#### Το χαρακτηριστικό `previous` εκφράζει εάν έχει γίνει προηγούμενη επικοινωνία με τον πελάτη πριν από αυτή την καμπάνια και πόσες φορές. Αφού καθαριστούν οι ακραίες τιμές, για τις ανάγκες της μελέτης μας θα μετατραπεί σε boolean data type, όπου `0` (δεν έχει υπάρξει προηγούμενη επικοινωνία) θα είναι `False` και τιμές `>0` (έχει υπάρξει προηγούμενη επικοινωνία) θα είναι `True`"
   ]
  },
  {
   "metadata": {
    "ExecuteTime": {
     "end_time": "2024-09-08T20:17:24.868223Z",
     "start_time": "2024-09-08T20:17:24.597176Z"
    }
   },
   "cell_type": "code",
   "source": [
    "fig, ax = plt.subplots(1,1)\n",
    "\n",
    "data_no_outliers.previous.plot.density(ax=ax)\n",
    "ax.set_xlabel('previous')\n",
    "ax.set_ylabel('Customers')"
   ],
   "outputs": [
    {
     "data": {
      "text/plain": [
       "Text(0, 0.5, 'Customers')"
      ]
     },
     "execution_count": 380,
     "metadata": {},
     "output_type": "execute_result"
    },
    {
     "data": {
      "text/plain": [
       "<Figure size 640x480 with 1 Axes>"
      ],
      "image/png": "[encoded data removed]"
     },
     "metadata": {},
     "output_type": "display_data"
    }
   ],
   "execution_count": 380
  },
  {
   "metadata": {
    "ExecuteTime": {
     "end_time": "2024-09-08T20:17:25.196280Z",
     "start_time": "2024-09-08T20:17:24.887726Z"
    }
   },
   "cell_type": "code",
   "source": [
    "out = data_no_outliers.previous.value_counts(sort=True, normalize=True)\n",
    "\n",
    "fig, ax = plt.subplots(1, 1, figsize=(6, 6))\n",
    "out.plot.pie(legend=True, ax=ax)\n",
    "plt.show()"
   ],
   "outputs": [
    {
     "data": {
      "text/plain": [
       "<Figure size 600x600 with 1 Axes>"
      ],
      "image/png": "[encoded data removed]"
     },
     "metadata": {},
     "output_type": "display_data"
    }
   ],
   "execution_count": 381
  },
  {
   "metadata": {},
   "cell_type": "markdown",
   "source": "#### Η τιμή 275 είναι ξεκάθαρα outlier και θα αφαιρεθεί η αντίστοιχη εγγραφή"
  },
  {
   "metadata": {
    "ExecuteTime": {
     "end_time": "2024-09-08T20:17:27.597699Z",
     "start_time": "2024-09-08T20:17:25.231286Z"
    }
   },
   "cell_type": "code",
   "source": [
    "sns.lmplot(x=\"pdays\", y=\"previous\", data=data_no_dupes )\n",
    "data_no_dupes.previous.max()"
   ],
   "outputs": [
    {
     "data": {
      "text/plain": [
       "np.int64(275)"
      ]
     },
     "execution_count": 382,
     "metadata": {},
     "output_type": "execute_result"
    },
    {
     "data": {
      "text/plain": [
       "<Figure size 500x500 with 1 Axes>"
      ],
      "image/png": "[encoded data removed]"
     },
     "metadata": {},
     "output_type": "display_data"
    }
   ],
   "execution_count": 382
  },
  {
   "metadata": {
    "ExecuteTime": {
     "end_time": "2024-09-08T20:17:27.639707Z",
     "start_time": "2024-09-08T20:17:27.631205Z"
    }
   },
   "cell_type": "code",
   "source": [
    "clean_data = data_no_outliers[data_no_outliers['previous'] != 275]\n",
    "clean_data.shape"
   ],
   "outputs": [
    {
     "data": {
      "text/plain": [
       "(34718, 17)"
      ]
     },
     "execution_count": 383,
     "metadata": {},
     "output_type": "execute_result"
    }
   ],
   "execution_count": 383
  },
  {
   "metadata": {
    "ExecuteTime": {
     "end_time": "2024-09-08T20:17:27.692716Z",
     "start_time": "2024-09-08T20:17:27.682715Z"
    }
   },
   "cell_type": "code",
   "source": [
    "clean_data = clean_data.reset_index(drop=True)\n",
    "clean_data.tail()"
   ],
   "outputs": [
    {
     "data": {
      "text/plain": [
       "       age           job  marital  education default  balance housing loan  \\\n",
       "34713   34        admin.   single  secondary      no      557      no   no   \n",
       "34714   23       student   single   tertiary      no      113      no   no   \n",
       "34715   25    technician   single  secondary      no      505      no  yes   \n",
       "34716   57   blue-collar  married  secondary      no      668      no   no   \n",
       "34717   37  entrepreneur  married  secondary      no     2971      no   no   \n",
       "\n",
       "         contact  day month  duration  campaign  pdays  previous poutcome    y  \n",
       "34713   cellular   17   nov       224         1     -1         0  unknown  yes  \n",
       "34714   cellular   17   nov       266         1     -1         0  unknown  yes  \n",
       "34715   cellular   17   nov       386         2     -1         0  unknown  yes  \n",
       "34716  telephone   17   nov       508         4     -1         0  unknown   no  \n",
       "34717   cellular   17   nov       361         2    188        11    other   no  "
      ],
      "text/html": [
       "<div>\n",
       "<style scoped>\n",
       "    .dataframe tbody tr th:only-of-type {\n",
       "        vertical-align: middle;\n",
       "    }\n",
       "\n",
       "    .dataframe tbody tr th {\n",
       "        vertical-align: top;\n",
       "    }\n",
       "\n",
       "    .dataframe thead th {\n",
       "        text-align: right;\n",
       "    }\n",
       "</style>\n",
       "<table border=\"1\" class=\"dataframe\">\n",
       "  <thead>\n",
       "    <tr style=\"text-align: right;\">\n",
       "      <th></th>\n",
       "      <th>age</th>\n",
       "      <th>job</th>\n",
       "      <th>marital</th>\n",
       "      <th>education</th>\n",
       "      <th>default</th>\n",
       "      <th>balance</th>\n",
       "      <th>housing</th>\n",
       "      <th>loan</th>\n",
       "      <th>contact</th>\n",
       "      <th>day</th>\n",
       "      <th>month</th>\n",
       "      <th>duration</th>\n",
       "      <th>campaign</th>\n",
       "      <th>pdays</th>\n",
       "      <th>previous</th>\n",
       "      <th>poutcome</th>\n",
       "      <th>y</th>\n",
       "    </tr>\n",
       "  </thead>\n",
       "  <tbody>\n",
       "    <tr>\n",
       "      <th>34713</th>\n",
       "      <td>34</td>\n",
       "      <td>admin.</td>\n",
       "      <td>single</td>\n",
       "      <td>secondary</td>\n",
       "      <td>no</td>\n",
       "      <td>557</td>\n",
       "      <td>no</td>\n",
       "      <td>no</td>\n",
       "      <td>cellular</td>\n",
       "      <td>17</td>\n",
       "      <td>nov</td>\n",
       "      <td>224</td>\n",
       "      <td>1</td>\n",
       "      <td>-1</td>\n",
       "      <td>0</td>\n",
       "      <td>unknown</td>\n",
       "      <td>yes</td>\n",
       "    </tr>\n",
       "    <tr>\n",
       "      <th>34714</th>\n",
       "      <td>23</td>\n",
       "      <td>student</td>\n",
       "      <td>single</td>\n",
       "      <td>tertiary</td>\n",
       "      <td>no</td>\n",
       "      <td>113</td>\n",
       "      <td>no</td>\n",
       "      <td>no</td>\n",
       "      <td>cellular</td>\n",
       "      <td>17</td>\n",
       "      <td>nov</td>\n",
       "      <td>266</td>\n",
       "      <td>1</td>\n",
       "      <td>-1</td>\n",
       "      <td>0</td>\n",
       "      <td>unknown</td>\n",
       "      <td>yes</td>\n",
       "    </tr>\n",
       "    <tr>\n",
       "      <th>34715</th>\n",
       "      <td>25</td>\n",
       "      <td>technician</td>\n",
       "      <td>single</td>\n",
       "      <td>secondary</td>\n",
       "      <td>no</td>\n",
       "      <td>505</td>\n",
       "      <td>no</td>\n",
       "      <td>yes</td>\n",
       "      <td>cellular</td>\n",
       "      <td>17</td>\n",
       "      <td>nov</td>\n",
       "      <td>386</td>\n",
       "      <td>2</td>\n",
       "      <td>-1</td>\n",
       "      <td>0</td>\n",
       "      <td>unknown</td>\n",
       "      <td>yes</td>\n",
       "    </tr>\n",
       "    <tr>\n",
       "      <th>34716</th>\n",
       "      <td>57</td>\n",
       "      <td>blue-collar</td>\n",
       "      <td>married</td>\n",
       "      <td>secondary</td>\n",
       "      <td>no</td>\n",
       "      <td>668</td>\n",
       "      <td>no</td>\n",
       "      <td>no</td>\n",
       "      <td>telephone</td>\n",
       "      <td>17</td>\n",
       "      <td>nov</td>\n",
       "      <td>508</td>\n",
       "      <td>4</td>\n",
       "      <td>-1</td>\n",
       "      <td>0</td>\n",
       "      <td>unknown</td>\n",
       "      <td>no</td>\n",
       "    </tr>\n",
       "    <tr>\n",
       "      <th>34717</th>\n",
       "      <td>37</td>\n",
       "      <td>entrepreneur</td>\n",
       "      <td>married</td>\n",
       "      <td>secondary</td>\n",
       "      <td>no</td>\n",
       "      <td>2971</td>\n",
       "      <td>no</td>\n",
       "      <td>no</td>\n",
       "      <td>cellular</td>\n",
       "      <td>17</td>\n",
       "      <td>nov</td>\n",
       "      <td>361</td>\n",
       "      <td>2</td>\n",
       "      <td>188</td>\n",
       "      <td>11</td>\n",
       "      <td>other</td>\n",
       "      <td>no</td>\n",
       "    </tr>\n",
       "  </tbody>\n",
       "</table>\n",
       "</div>"
      ]
     },
     "execution_count": 384,
     "metadata": {},
     "output_type": "execute_result"
    }
   ],
   "execution_count": 384
  },
  {
   "metadata": {},
   "cell_type": "markdown",
   "source": [
    "#### Μετατροπή σε boolean τιμή\n",
    "Αρχικά όλες οι τιμές από >1 θα γίνουν 1, έτσι ώστε η στήλη να περιέχει μόνο 1 και 0. Μετά θα μετασχηματιστεί σε boolean.\n"
   ]
  },
  {
   "metadata": {
    "ExecuteTime": {
     "end_time": "2024-09-08T20:17:27.762729Z",
     "start_time": "2024-09-08T20:17:27.756728Z"
    }
   },
   "cell_type": "code",
   "source": [
    "clean_data.loc[clean_data.previous > 1, 'previous'] = 1\n",
    "clean_data.previous.describe()"
   ],
   "outputs": [
    {
     "data": {
      "text/plain": [
       "count    34718.000000\n",
       "mean         0.187943\n",
       "std          0.390672\n",
       "min          0.000000\n",
       "25%          0.000000\n",
       "50%          0.000000\n",
       "75%          0.000000\n",
       "max          1.000000\n",
       "Name: previous, dtype: float64"
      ]
     },
     "execution_count": 385,
     "metadata": {},
     "output_type": "execute_result"
    }
   ],
   "execution_count": 385
  },
  {
   "metadata": {
    "ExecuteTime": {
     "end_time": "2024-09-08T20:17:27.879249Z",
     "start_time": "2024-09-08T20:17:27.873748Z"
    }
   },
   "cell_type": "code",
   "source": [
    "clean_data.previous = clean_data.previous.astype('bool')\n",
    "clean_data.previous.describe()"
   ],
   "outputs": [
    {
     "data": {
      "text/plain": [
       "count     34718\n",
       "unique        2\n",
       "top       False\n",
       "freq      28193\n",
       "Name: previous, dtype: object"
      ]
     },
     "execution_count": 386,
     "metadata": {},
     "output_type": "execute_result"
    }
   ],
   "execution_count": 386
  },
  {
   "metadata": {},
   "cell_type": "markdown",
   "source": "#### Το χαρακτηριστικό pdays εκφράζει πόσες μέρες έχουν περάσει από την προηγούμενη τηλεφωνική επικοινωνία με τον πελάτη με το `-1` να δηλώνει πως δεν έχει υπάρξει προηγούμενη επικοινωνία. Για να φανεί χρήσιμο αυτό το χαρακτηριστικό στο μοντέλο μας, θα γίνει μια διακριτοποίση σχετικά με το πόσος χρόνος έχει περάσει από την προηγούμενη επικοινωνία. Οπότε το pdays θα γίνει εν τέλει κατηγορικό."
  },
  {
   "metadata": {
    "ExecuteTime": {
     "end_time": "2024-09-08T20:17:28.077674Z",
     "start_time": "2024-09-08T20:17:28.071673Z"
    }
   },
   "cell_type": "code",
   "source": "clean_data.pdays.describe()",
   "outputs": [
    {
     "data": {
      "text/plain": [
       "count    34718.000000\n",
       "mean        42.431044\n",
       "std        103.560013\n",
       "min         -1.000000\n",
       "25%         -1.000000\n",
       "50%         -1.000000\n",
       "75%         -1.000000\n",
       "max        871.000000\n",
       "Name: pdays, dtype: float64"
      ]
     },
     "execution_count": 387,
     "metadata": {},
     "output_type": "execute_result"
    }
   ],
   "execution_count": 387
  },
  {
   "metadata": {},
   "cell_type": "markdown",
   "source": "#### Για να αντλήσουμε πληροφορία σχετικά με τα νέα categorical values, θα εξετάσουμε τα στατιστικά στοιχεία του pdays εξαιρώντας τις -1 περιπτώσεις."
  },
  {
   "metadata": {
    "ExecuteTime": {
     "end_time": "2024-09-08T20:17:28.320118Z",
     "start_time": "2024-09-08T20:17:28.313118Z"
    }
   },
   "cell_type": "code",
   "source": "clean_data.loc[clean_data.pdays > -1, 'pdays'].describe()",
   "outputs": [
    {
     "data": {
      "text/plain": [
       "count    6525.000000\n",
       "mean      230.086437\n",
       "std       117.044162\n",
       "min         1.000000\n",
       "25%       140.000000\n",
       "50%       206.000000\n",
       "75%       332.000000\n",
       "max       871.000000\n",
       "Name: pdays, dtype: float64"
      ]
     },
     "execution_count": 388,
     "metadata": {},
     "output_type": "execute_result"
    }
   ],
   "execution_count": 388
  },
  {
   "metadata": {},
   "cell_type": "markdown",
   "source": [
    "#### Οι νέες κατηγορικές τιμές θα διαμορφωθούν ως εξής: `never, u4m, u7m, u1y, o1y`\n",
    "|value|meaning|\n",
    "|-|-|\n",
    "|never|Ποτέ|\n",
    "|u4m|Λιγότερο από 4 μήνες|\n",
    "|u7m|Λιγότερο από 7 μήνες|\n",
    "|u1y|Λιγότερο από 1 χρόνο|\n",
    "|o1y|Πάνω από 1 χρόνο|\n"
   ]
  },
  {
   "metadata": {
    "ExecuteTime": {
     "end_time": "2024-09-08T20:17:28.510652Z",
     "start_time": "2024-09-08T20:17:28.507652Z"
    }
   },
   "cell_type": "code",
   "source": [
    "def pdays_to_categorical(days):\n",
    "    if days == -1:\n",
    "        return 'never'\n",
    "    elif days < 120:\n",
    "        return 'u4m'\n",
    "    elif days < 210:\n",
    "        return 'u7m'\n",
    "    elif days < 365:\n",
    "        return 'u1y'\n",
    "    elif days >= 365:\n",
    "        return 'o1y'"
   ],
   "outputs": [],
   "execution_count": 389
  },
  {
   "metadata": {
    "ExecuteTime": {
     "end_time": "2024-09-08T20:17:28.654294Z",
     "start_time": "2024-09-08T20:17:28.646293Z"
    }
   },
   "cell_type": "code",
   "source": "clean_data['pdays'] = clean_data['pdays'].apply(pdays_to_categorical)",
   "outputs": [],
   "execution_count": 390
  },
  {
   "metadata": {
    "ExecuteTime": {
     "end_time": "2024-09-08T20:17:28.853335Z",
     "start_time": "2024-09-08T20:17:28.769320Z"
    }
   },
   "cell_type": "code",
   "source": [
    "out = clean_data.pdays.value_counts(sort=True, normalize=True)\n",
    "\n",
    "fig, ax = plt.subplots(1, 1, figsize=(6, 6))\n",
    "out.plot.pie(legend=True, ax=ax)\n",
    "plt.show()"
   ],
   "outputs": [
    {
     "data": {
      "text/plain": [
       "<Figure size 600x600 with 1 Axes>"
      ],
      "image/png": "[encoded data removed]"
     },
     "metadata": {},
     "output_type": "display_data"
    }
   ],
   "execution_count": 391
  },
  {
   "metadata": {},
   "cell_type": "markdown",
   "source": "#### Διαμόρφωση boolean χαρακτηριστικών"
  },
  {
   "metadata": {
    "ExecuteTime": {
     "end_time": "2024-09-08T20:17:28.932556Z",
     "start_time": "2024-09-08T20:17:28.925555Z"
    }
   },
   "cell_type": "code",
   "source": [
    "boolean_columns = clean_data[['default', 'housing', 'loan', 'y']]\n",
    "boolean_columns.head()"
   ],
   "outputs": [
    {
     "data": {
      "text/plain": [
       "  default housing loan   y\n",
       "0      no     yes   no  no\n",
       "1      no     yes   no  no\n",
       "2      no     yes  yes  no\n",
       "3      no     yes   no  no\n",
       "4      no      no   no  no"
      ],
      "text/html": [
       "<div>\n",
       "<style scoped>\n",
       "    .dataframe tbody tr th:only-of-type {\n",
       "        vertical-align: middle;\n",
       "    }\n",
       "\n",
       "    .dataframe tbody tr th {\n",
       "        vertical-align: top;\n",
       "    }\n",
       "\n",
       "    .dataframe thead th {\n",
       "        text-align: right;\n",
       "    }\n",
       "</style>\n",
       "<table border=\"1\" class=\"dataframe\">\n",
       "  <thead>\n",
       "    <tr style=\"text-align: right;\">\n",
       "      <th></th>\n",
       "      <th>default</th>\n",
       "      <th>housing</th>\n",
       "      <th>loan</th>\n",
       "      <th>y</th>\n",
       "    </tr>\n",
       "  </thead>\n",
       "  <tbody>\n",
       "    <tr>\n",
       "      <th>0</th>\n",
       "      <td>no</td>\n",
       "      <td>yes</td>\n",
       "      <td>no</td>\n",
       "      <td>no</td>\n",
       "    </tr>\n",
       "    <tr>\n",
       "      <th>1</th>\n",
       "      <td>no</td>\n",
       "      <td>yes</td>\n",
       "      <td>no</td>\n",
       "      <td>no</td>\n",
       "    </tr>\n",
       "    <tr>\n",
       "      <th>2</th>\n",
       "      <td>no</td>\n",
       "      <td>yes</td>\n",
       "      <td>yes</td>\n",
       "      <td>no</td>\n",
       "    </tr>\n",
       "    <tr>\n",
       "      <th>3</th>\n",
       "      <td>no</td>\n",
       "      <td>yes</td>\n",
       "      <td>no</td>\n",
       "      <td>no</td>\n",
       "    </tr>\n",
       "    <tr>\n",
       "      <th>4</th>\n",
       "      <td>no</td>\n",
       "      <td>no</td>\n",
       "      <td>no</td>\n",
       "      <td>no</td>\n",
       "    </tr>\n",
       "  </tbody>\n",
       "</table>\n",
       "</div>"
      ]
     },
     "execution_count": 392,
     "metadata": {},
     "output_type": "execute_result"
    }
   ],
   "execution_count": 392
  },
  {
   "metadata": {
    "ExecuteTime": {
     "end_time": "2024-09-08T20:17:28.994067Z",
     "start_time": "2024-09-08T20:17:28.989568Z"
    }
   },
   "cell_type": "code",
   "source": "boolean_columns.dtypes",
   "outputs": [
    {
     "data": {
      "text/plain": [
       "default    object\n",
       "housing    object\n",
       "loan       object\n",
       "y          object\n",
       "dtype: object"
      ]
     },
     "execution_count": 393,
     "metadata": {},
     "output_type": "execute_result"
    }
   ],
   "execution_count": 393
  },
  {
   "metadata": {
    "ExecuteTime": {
     "end_time": "2024-09-08T20:17:29.190102Z",
     "start_time": "2024-09-08T20:17:29.185601Z"
    }
   },
   "cell_type": "code",
   "source": "boolean_columns.default.unique()",
   "outputs": [
    {
     "data": {
      "text/plain": [
       "array(['no', 'yes'], dtype=object)"
      ]
     },
     "execution_count": 394,
     "metadata": {},
     "output_type": "execute_result"
    }
   ],
   "execution_count": 394
  },
  {
   "metadata": {},
   "cell_type": "markdown",
   "source": "#### Τα χαρακτηριστικά boolean δεν είναι ακόμα τύπου boolean, οπότε πιο κάτω θα μετασχηματιστούν."
  },
  {
   "metadata": {
    "ExecuteTime": {
     "end_time": "2024-09-08T20:17:29.346129Z",
     "start_time": "2024-09-08T20:17:29.333626Z"
    }
   },
   "cell_type": "code",
   "source": [
    "clean_data['default'] = clean_data['default'].map({'yes': 1, 'no': 0})\n",
    "clean_data['housing'] = clean_data['housing'].map({'yes': 1, 'no': 0})\n",
    "clean_data['loan'] = clean_data['loan'].map({'yes': 1, 'no': 0})\n",
    "clean_data['y'] = clean_data['y'].map({'yes': 1, 'no': 0})\n",
    "clean_data.default = clean_data.default.astype('bool')\n",
    "clean_data.housing = clean_data.housing.astype('bool')\n",
    "clean_data.loan = clean_data.loan.astype('bool')\n",
    "clean_data.y = clean_data.y.astype('bool')"
   ],
   "outputs": [],
   "execution_count": 395
  },
  {
   "metadata": {
    "ExecuteTime": {
     "end_time": "2024-09-08T20:17:29.412202Z",
     "start_time": "2024-09-08T20:17:29.403139Z"
    }
   },
   "cell_type": "code",
   "source": "clean_data[['default', 'housing', 'loan', 'y']].describe()",
   "outputs": [
    {
     "data": {
      "text/plain": [
       "       default housing   loan      y\n",
       "count    34718   34718  34718  34718\n",
       "unique       2       2      2      2\n",
       "top      False    True  False  False\n",
       "freq     34042   19841  28792  31817"
      ],
      "text/html": [
       "<div>\n",
       "<style scoped>\n",
       "    .dataframe tbody tr th:only-of-type {\n",
       "        vertical-align: middle;\n",
       "    }\n",
       "\n",
       "    .dataframe tbody tr th {\n",
       "        vertical-align: top;\n",
       "    }\n",
       "\n",
       "    .dataframe thead th {\n",
       "        text-align: right;\n",
       "    }\n",
       "</style>\n",
       "<table border=\"1\" class=\"dataframe\">\n",
       "  <thead>\n",
       "    <tr style=\"text-align: right;\">\n",
       "      <th></th>\n",
       "      <th>default</th>\n",
       "      <th>housing</th>\n",
       "      <th>loan</th>\n",
       "      <th>y</th>\n",
       "    </tr>\n",
       "  </thead>\n",
       "  <tbody>\n",
       "    <tr>\n",
       "      <th>count</th>\n",
       "      <td>34718</td>\n",
       "      <td>34718</td>\n",
       "      <td>34718</td>\n",
       "      <td>34718</td>\n",
       "    </tr>\n",
       "    <tr>\n",
       "      <th>unique</th>\n",
       "      <td>2</td>\n",
       "      <td>2</td>\n",
       "      <td>2</td>\n",
       "      <td>2</td>\n",
       "    </tr>\n",
       "    <tr>\n",
       "      <th>top</th>\n",
       "      <td>False</td>\n",
       "      <td>True</td>\n",
       "      <td>False</td>\n",
       "      <td>False</td>\n",
       "    </tr>\n",
       "    <tr>\n",
       "      <th>freq</th>\n",
       "      <td>34042</td>\n",
       "      <td>19841</td>\n",
       "      <td>28792</td>\n",
       "      <td>31817</td>\n",
       "    </tr>\n",
       "  </tbody>\n",
       "</table>\n",
       "</div>"
      ]
     },
     "execution_count": 396,
     "metadata": {},
     "output_type": "execute_result"
    }
   ],
   "execution_count": 396
  },
  {
   "metadata": {},
   "cell_type": "markdown",
   "source": "#### Διαχείριση Κατηγορικών Χαρακτηριστικών"
  },
  {
   "metadata": {
    "ExecuteTime": {
     "end_time": "2024-09-08T20:17:29.468150Z",
     "start_time": "2024-09-08T20:17:29.461149Z"
    }
   },
   "cell_type": "code",
   "source": [
    "categorical_columns = clean_data[['job', 'education', 'contact','poutcome']]\n",
    "categorical_columns.head()"
   ],
   "outputs": [
    {
     "data": {
      "text/plain": [
       "            job  education  contact poutcome\n",
       "0    management   tertiary  unknown  unknown\n",
       "1    technician  secondary  unknown  unknown\n",
       "2  entrepreneur  secondary  unknown  unknown\n",
       "3   blue-collar    unknown  unknown  unknown\n",
       "4       unknown    unknown  unknown  unknown"
      ],
      "text/html": [
       "<div>\n",
       "<style scoped>\n",
       "    .dataframe tbody tr th:only-of-type {\n",
       "        vertical-align: middle;\n",
       "    }\n",
       "\n",
       "    .dataframe tbody tr th {\n",
       "        vertical-align: top;\n",
       "    }\n",
       "\n",
       "    .dataframe thead th {\n",
       "        text-align: right;\n",
       "    }\n",
       "</style>\n",
       "<table border=\"1\" class=\"dataframe\">\n",
       "  <thead>\n",
       "    <tr style=\"text-align: right;\">\n",
       "      <th></th>\n",
       "      <th>job</th>\n",
       "      <th>education</th>\n",
       "      <th>contact</th>\n",
       "      <th>poutcome</th>\n",
       "    </tr>\n",
       "  </thead>\n",
       "  <tbody>\n",
       "    <tr>\n",
       "      <th>0</th>\n",
       "      <td>management</td>\n",
       "      <td>tertiary</td>\n",
       "      <td>unknown</td>\n",
       "      <td>unknown</td>\n",
       "    </tr>\n",
       "    <tr>\n",
       "      <th>1</th>\n",
       "      <td>technician</td>\n",
       "      <td>secondary</td>\n",
       "      <td>unknown</td>\n",
       "      <td>unknown</td>\n",
       "    </tr>\n",
       "    <tr>\n",
       "      <th>2</th>\n",
       "      <td>entrepreneur</td>\n",
       "      <td>secondary</td>\n",
       "      <td>unknown</td>\n",
       "      <td>unknown</td>\n",
       "    </tr>\n",
       "    <tr>\n",
       "      <th>3</th>\n",
       "      <td>blue-collar</td>\n",
       "      <td>unknown</td>\n",
       "      <td>unknown</td>\n",
       "      <td>unknown</td>\n",
       "    </tr>\n",
       "    <tr>\n",
       "      <th>4</th>\n",
       "      <td>unknown</td>\n",
       "      <td>unknown</td>\n",
       "      <td>unknown</td>\n",
       "      <td>unknown</td>\n",
       "    </tr>\n",
       "  </tbody>\n",
       "</table>\n",
       "</div>"
      ]
     },
     "execution_count": 397,
     "metadata": {},
     "output_type": "execute_result"
    }
   ],
   "execution_count": 397
  },
  {
   "metadata": {
    "ExecuteTime": {
     "end_time": "2024-09-08T20:17:29.576669Z",
     "start_time": "2024-09-08T20:17:29.555666Z"
    }
   },
   "cell_type": "code",
   "source": "categorical_columns.describe()",
   "outputs": [
    {
     "data": {
      "text/plain": [
       "                job  education   contact poutcome\n",
       "count         34718      34718     34718    34718\n",
       "unique           12          4         3        4\n",
       "top     blue-collar  secondary  cellular  unknown\n",
       "freq           7705      18378     22524    28197"
      ],
      "text/html": [
       "<div>\n",
       "<style scoped>\n",
       "    .dataframe tbody tr th:only-of-type {\n",
       "        vertical-align: middle;\n",
       "    }\n",
       "\n",
       "    .dataframe tbody tr th {\n",
       "        vertical-align: top;\n",
       "    }\n",
       "\n",
       "    .dataframe thead th {\n",
       "        text-align: right;\n",
       "    }\n",
       "</style>\n",
       "<table border=\"1\" class=\"dataframe\">\n",
       "  <thead>\n",
       "    <tr style=\"text-align: right;\">\n",
       "      <th></th>\n",
       "      <th>job</th>\n",
       "      <th>education</th>\n",
       "      <th>contact</th>\n",
       "      <th>poutcome</th>\n",
       "    </tr>\n",
       "  </thead>\n",
       "  <tbody>\n",
       "    <tr>\n",
       "      <th>count</th>\n",
       "      <td>34718</td>\n",
       "      <td>34718</td>\n",
       "      <td>34718</td>\n",
       "      <td>34718</td>\n",
       "    </tr>\n",
       "    <tr>\n",
       "      <th>unique</th>\n",
       "      <td>12</td>\n",
       "      <td>4</td>\n",
       "      <td>3</td>\n",
       "      <td>4</td>\n",
       "    </tr>\n",
       "    <tr>\n",
       "      <th>top</th>\n",
       "      <td>blue-collar</td>\n",
       "      <td>secondary</td>\n",
       "      <td>cellular</td>\n",
       "      <td>unknown</td>\n",
       "    </tr>\n",
       "    <tr>\n",
       "      <th>freq</th>\n",
       "      <td>7705</td>\n",
       "      <td>18378</td>\n",
       "      <td>22524</td>\n",
       "      <td>28197</td>\n",
       "    </tr>\n",
       "  </tbody>\n",
       "</table>\n",
       "</div>"
      ]
     },
     "execution_count": 398,
     "metadata": {},
     "output_type": "execute_result"
    }
   ],
   "execution_count": 398
  },
  {
   "cell_type": "markdown",
   "metadata": {},
   "source": "#### Βάση των πληροφοριών που παρέχονται από την πηγή τα δεδομένα δεν περιέχουν τιμές NaN (null). Ωστόσο υπάρχουν τιμές σε κατηγορικά χαρακτηριστικά ('unknown' ή 'other') που δηλώνουν την έλλειψη πληροφορίας. Ποιο κάτω θα υπολογιστεί το πλήθος των τιμών αυτών για κάθε κατηγορικό χαρακτηριστικό και θα γίνει μία γραφική απεικόνιση, ώστε να προσδιοριστεί η κατάλληλη προσέγγιση στη συμπλήρωση τους"
  },
  {
   "metadata": {
    "ExecuteTime": {
     "end_time": "2024-09-08T20:17:29.781708Z",
     "start_time": "2024-09-08T20:17:29.763204Z"
    }
   },
   "cell_type": "code",
   "source": "data.isnull().sum()",
   "outputs": [
    {
     "data": {
      "text/plain": [
       "age          0\n",
       "job          0\n",
       "marital      0\n",
       "education    0\n",
       "default      0\n",
       "balance      0\n",
       "housing      0\n",
       "loan         0\n",
       "contact      0\n",
       "day          0\n",
       "month        0\n",
       "duration     0\n",
       "campaign     0\n",
       "pdays        0\n",
       "previous     0\n",
       "poutcome     0\n",
       "y            0\n",
       "dtype: int64"
      ]
     },
     "execution_count": 399,
     "metadata": {},
     "output_type": "execute_result"
    }
   ],
   "execution_count": 399
  },
  {
   "cell_type": "markdown",
   "metadata": {},
   "source": "#### Αριθμός τιμών \"unknown\""
  },
  {
   "metadata": {
    "ExecuteTime": {
     "end_time": "2024-09-08T20:17:29.978759Z",
     "start_time": "2024-09-08T20:17:29.956754Z"
    }
   },
   "cell_type": "code",
   "source": "categorical_columns[(categorical_columns=='unknown')].count()",
   "outputs": [
    {
     "data": {
      "text/plain": [
       "job            198\n",
       "education     1356\n",
       "contact      10283\n",
       "poutcome     28197\n",
       "dtype: int64"
      ]
     },
     "execution_count": 400,
     "metadata": {},
     "output_type": "execute_result"
    }
   ],
   "execution_count": 400
  },
  {
   "metadata": {},
   "cell_type": "markdown",
   "source": "#### Γραφική Αναπαράσταση Ελλιπών τιμών ανά Χαρακτηριστικό"
  },
  {
   "metadata": {
    "ExecuteTime": {
     "end_time": "2024-09-08T20:17:30.284311Z",
     "start_time": "2024-09-08T20:17:30.131785Z"
    }
   },
   "cell_type": "code",
   "source": [
    "fig, ax = plt.subplots(1,1)\n",
    "categorical_columns[(categorical_columns=='unknown')].count().plot.barh(ax=ax)\n",
    "\n",
    "ax.set_xscale('symlog')"
   ],
   "outputs": [
    {
     "data": {
      "text/plain": [
       "<Figure size 640x480 with 1 Axes>"
      ],
      "image/png": "[encoded data removed]"
     },
     "metadata": {},
     "output_type": "display_data"
    }
   ],
   "execution_count": 401
  },
  {
   "metadata": {},
   "cell_type": "markdown",
   "source": "#### Ποσοστό εμφάνισης τιμών \"unknown\" για κάθε κατηγορικό χαρακτηριστικό"
  },
  {
   "metadata": {
    "ExecuteTime": {
     "end_time": "2024-09-08T20:17:30.376827Z",
     "start_time": "2024-09-08T20:17:30.357324Z"
    }
   },
   "cell_type": "code",
   "source": "categorical_columns[(categorical_columns=='unknown')].count()*100/len(data_no_dupes)",
   "outputs": [
    {
     "data": {
      "text/plain": [
       "job           0.437947\n",
       "education     2.999270\n",
       "contact      22.744465\n",
       "poutcome     62.367565\n",
       "dtype: float64"
      ]
     },
     "execution_count": 402,
     "metadata": {},
     "output_type": "execute_result"
    }
   ],
   "execution_count": 402
  },
  {
   "cell_type": "markdown",
   "metadata": {},
   "source": "Η στήλη **poutcome** έχει υπερβολικά πολλές τιμές `unknown` (81.7%). Επειδή λείπει υπερβολικά μεγάλο ποσοστό πληροφορίας, αυτή η στήλη θα αφαιρεθεί."
  },
  {
   "cell_type": "code",
   "metadata": {
    "ExecuteTime": {
     "end_time": "2024-09-08T20:17:30.533855Z",
     "start_time": "2024-09-08T20:17:30.454341Z"
    }
   },
   "source": [
    "out = clean_data.poutcome.value_counts(sort=True, normalize=True)\n",
    "\n",
    "fig, ax = plt.subplots(1,1, figsize=(6,6))\n",
    "out.plot.pie(legend=True, ax=ax)\n",
    "plt.show()"
   ],
   "outputs": [
    {
     "data": {
      "text/plain": [
       "<Figure size 600x600 with 1 Axes>"
      ],
      "image/png": "[encoded data removed]"
     },
     "metadata": {},
     "output_type": "display_data"
    }
   ],
   "execution_count": 403
  },
  {
   "metadata": {
    "ExecuteTime": {
     "end_time": "2024-09-08T20:17:30.631372Z",
     "start_time": "2024-09-08T20:17:30.626871Z"
    }
   },
   "cell_type": "code",
   "source": [
    "clean_data = clean_data.drop(columns=['poutcome'], axis=1)\n",
    "clean_data.columns "
   ],
   "outputs": [
    {
     "data": {
      "text/plain": [
       "Index(['age', 'job', 'marital', 'education', 'default', 'balance', 'housing',\n",
       "       'loan', 'contact', 'day', 'month', 'duration', 'campaign', 'pdays',\n",
       "       'previous', 'y'],\n",
       "      dtype='object')"
      ]
     },
     "execution_count": 404,
     "metadata": {},
     "output_type": "execute_result"
    }
   ],
   "execution_count": 404
  },
  {
   "cell_type": "markdown",
   "metadata": {},
   "source": [
    "#### Συμπλήρωση ελλιπών τιμών (job, education)\n",
    "Στα χαρακτηριστικά **'job'** και **'education'** επειδή το ποσοστό των ελλιπών τιμών είναι μικρό (0.63% και 4.1% αντίστοιχα) και άρα δε θα είχε ισχυρή επιρροή στη μέση τιμή οι ελλιπείς τιμές θα συμπληρωθούν με τη μέση τιμή (most frequent value) του αντίστοιχου χαρακτηριστικού."
   ]
  },
  {
   "cell_type": "code",
   "metadata": {
    "ExecuteTime": {
     "end_time": "2024-09-08T20:17:30.703885Z",
     "start_time": "2024-09-08T20:17:30.693883Z"
    }
   },
   "source": [
    "# Calculate the mode of the 'job' column\n",
    "job_mode = clean_data['job'].mode()[0]\n",
    "\n",
    "# Replace 'unknown' values in the 'job' column with the mode\n",
    "# filled_categorical_columns = categorical_columns.copy()\n",
    "clean_data['job'] = clean_data['job'].replace('unknown',job_mode)\n",
    "\n",
    "# Check\n",
    "clean_data[clean_data['job']=='unknown']['job'].count()"
   ],
   "outputs": [
    {
     "data": {
      "text/plain": [
       "np.int64(0)"
      ]
     },
     "execution_count": 405,
     "metadata": {},
     "output_type": "execute_result"
    }
   ],
   "execution_count": 405
  },
  {
   "cell_type": "code",
   "metadata": {
    "ExecuteTime": {
     "end_time": "2024-09-08T20:17:30.799556Z",
     "start_time": "2024-09-08T20:17:30.789054Z"
    }
   },
   "source": [
    "# Calculate the mod of the 'education' column\n",
    "education_mode = clean_data['education'].mode()[0]\n",
    "\n",
    "# Replace 'unknown' values in the 'education' column with the mode\n",
    "clean_data['education'] = clean_data['education'].replace('unknown',education_mode)\n",
    "\n",
    "# Check\n",
    "clean_data[clean_data['education']=='unknown']['education'].count()"
   ],
   "outputs": [
    {
     "data": {
      "text/plain": [
       "np.int64(0)"
      ]
     },
     "execution_count": 406,
     "metadata": {},
     "output_type": "execute_result"
    }
   ],
   "execution_count": 406
  },
  {
   "cell_type": "markdown",
   "metadata": {},
   "source": [
    "#### contact\n",
    "Το χαρακτηριστικό **'contact'** έχει ένα σημαντικό ποσοστό (28.79%) ελλιπών τιμών τα οποία αν συμπληρωθούν με την ποιο συχνή τιμή μπορεί τελικά το χαρακτηριστικό να μην αντιπροσωπεύει την πραγματικότητα. Για αυτό το λόγο θα χρησιμοποιηθούν οι πληροφορίες που παρέχουν τα υπόλοιπα χαρακτηριστικά μέσω ενός Bayesian Ταξινομητή, που θα εκπαιδευτεί στις πλήρεις γραμμές της βάσης δεδομένων για να συμπληρώσει αυτές με τις ελλειπείς τιμές."
   ]
  },
  {
   "cell_type": "code",
   "metadata": {
    "ExecuteTime": {
     "end_time": "2024-09-08T20:17:30.852565Z",
     "start_time": "2024-09-08T20:17:30.846564Z"
    }
   },
   "source": "clean_data.contact.value_counts(sort=False)",
   "outputs": [
    {
     "data": {
      "text/plain": [
       "contact\n",
       "unknown      10283\n",
       "cellular     22524\n",
       "telephone     1911\n",
       "Name: count, dtype: int64"
      ]
     },
     "execution_count": 407,
     "metadata": {},
     "output_type": "execute_result"
    }
   ],
   "execution_count": 407
  },
  {
   "metadata": {
    "ExecuteTime": {
     "end_time": "2024-09-08T20:17:30.919076Z",
     "start_time": "2024-09-08T20:17:30.913576Z"
    }
   },
   "cell_type": "code",
   "source": [
    "# Replace 'unknown' with NaN for simplicity\n",
    "clean_data['contact'] = clean_data['contact'].replace('unknown',np.nan)"
   ],
   "outputs": [],
   "execution_count": 408
  },
  {
   "metadata": {
    "ExecuteTime": {
     "end_time": "2024-09-08T20:17:31.002092Z",
     "start_time": "2024-09-08T20:17:30.984588Z"
    }
   },
   "cell_type": "code",
   "source": [
    "df_copy = clean_data[['age','balance','contact']].dropna()\n",
    "df_copy['contact']=df_copy['contact'].map({'cellular':1, 'telephone':2})\n",
    "\n",
    "X = df_copy[['age','balance']].to_numpy()\n",
    "Y = df_copy['contact'].to_numpy()\n",
    "\n",
    "clf = GaussianNB()\n",
    "clf.fit(X,Y)\n",
    "\n",
    "nan_rows = clean_data[clean_data['contact'].isna()]\n",
    "X_nan = nan_rows[['age','balance']].to_numpy()\n",
    "\n",
    "# Find missing values\n",
    "predicted_values = clf.predict(X_nan)\n",
    "predicted_values = pd.DataFrame(predicted_values, columns=['contact'])\n",
    "\n",
    "predicted_values['contact'] = predicted_values['contact'].map({1: 'cellular', 2: 'telephone'})\n",
    "\n",
    "clean_data.loc[clean_data['contact'].isna(), 'contact'] = predicted_values"
   ],
   "outputs": [],
   "execution_count": 409
  },
  {
   "metadata": {},
   "cell_type": "markdown",
   "source": "#### Βασικά Στατιστικά Στοιχεία"
  },
  {
   "metadata": {
    "ExecuteTime": {
     "end_time": "2024-09-08T20:17:31.096065Z",
     "start_time": "2024-09-08T20:17:31.079562Z"
    }
   },
   "cell_type": "code",
   "source": [
    "numeric_columns = clean_data.select_dtypes(include='number')\n",
    "numeric_columns.describe().round(2)"
   ],
   "outputs": [
    {
     "data": {
      "text/plain": [
       "            age   balance       day  duration  campaign\n",
       "count  34718.00  34718.00  34718.00  34718.00  34718.00\n",
       "mean      40.28    633.81     15.47    207.00      2.13\n",
       "std        9.92    839.37      8.31    139.45      1.32\n",
       "min       18.00  -1944.00      1.00      0.00      1.00\n",
       "25%       32.00     46.00      8.00    102.00      1.00\n",
       "50%       39.00    344.00     15.00    171.00      2.00\n",
       "75%       48.00    967.00     21.00    280.00      3.00\n",
       "max       70.00   3462.00     31.00    643.00      6.00"
      ],
      "text/html": [
       "<div>\n",
       "<style scoped>\n",
       "    .dataframe tbody tr th:only-of-type {\n",
       "        vertical-align: middle;\n",
       "    }\n",
       "\n",
       "    .dataframe tbody tr th {\n",
       "        vertical-align: top;\n",
       "    }\n",
       "\n",
       "    .dataframe thead th {\n",
       "        text-align: right;\n",
       "    }\n",
       "</style>\n",
       "<table border=\"1\" class=\"dataframe\">\n",
       "  <thead>\n",
       "    <tr style=\"text-align: right;\">\n",
       "      <th></th>\n",
       "      <th>age</th>\n",
       "      <th>balance</th>\n",
       "      <th>day</th>\n",
       "      <th>duration</th>\n",
       "      <th>campaign</th>\n",
       "    </tr>\n",
       "  </thead>\n",
       "  <tbody>\n",
       "    <tr>\n",
       "      <th>count</th>\n",
       "      <td>34718.00</td>\n",
       "      <td>34718.00</td>\n",
       "      <td>34718.00</td>\n",
       "      <td>34718.00</td>\n",
       "      <td>34718.00</td>\n",
       "    </tr>\n",
       "    <tr>\n",
       "      <th>mean</th>\n",
       "      <td>40.28</td>\n",
       "      <td>633.81</td>\n",
       "      <td>15.47</td>\n",
       "      <td>207.00</td>\n",
       "      <td>2.13</td>\n",
       "    </tr>\n",
       "    <tr>\n",
       "      <th>std</th>\n",
       "      <td>9.92</td>\n",
       "      <td>839.37</td>\n",
       "      <td>8.31</td>\n",
       "      <td>139.45</td>\n",
       "      <td>1.32</td>\n",
       "    </tr>\n",
       "    <tr>\n",
       "      <th>min</th>\n",
       "      <td>18.00</td>\n",
       "      <td>-1944.00</td>\n",
       "      <td>1.00</td>\n",
       "      <td>0.00</td>\n",
       "      <td>1.00</td>\n",
       "    </tr>\n",
       "    <tr>\n",
       "      <th>25%</th>\n",
       "      <td>32.00</td>\n",
       "      <td>46.00</td>\n",
       "      <td>8.00</td>\n",
       "      <td>102.00</td>\n",
       "      <td>1.00</td>\n",
       "    </tr>\n",
       "    <tr>\n",
       "      <th>50%</th>\n",
       "      <td>39.00</td>\n",
       "      <td>344.00</td>\n",
       "      <td>15.00</td>\n",
       "      <td>171.00</td>\n",
       "      <td>2.00</td>\n",
       "    </tr>\n",
       "    <tr>\n",
       "      <th>75%</th>\n",
       "      <td>48.00</td>\n",
       "      <td>967.00</td>\n",
       "      <td>21.00</td>\n",
       "      <td>280.00</td>\n",
       "      <td>3.00</td>\n",
       "    </tr>\n",
       "    <tr>\n",
       "      <th>max</th>\n",
       "      <td>70.00</td>\n",
       "      <td>3462.00</td>\n",
       "      <td>31.00</td>\n",
       "      <td>643.00</td>\n",
       "      <td>6.00</td>\n",
       "    </tr>\n",
       "  </tbody>\n",
       "</table>\n",
       "</div>"
      ]
     },
     "execution_count": 410,
     "metadata": {},
     "output_type": "execute_result"
    }
   ],
   "execution_count": 410
  },
  {
   "metadata": {
    "ExecuteTime": {
     "end_time": "2024-09-08T20:17:31.159577Z",
     "start_time": "2024-09-08T20:17:31.155576Z"
    }
   },
   "cell_type": "code",
   "source": "(numeric_columns['balance'] < 0).sum()*100/len(data_no_dupes)",
   "outputs": [
    {
     "data": {
      "text/plain": [
       "np.float64(7.144279047134547)"
      ]
     },
     "execution_count": 411,
     "metadata": {},
     "output_type": "execute_result"
    }
   ],
   "execution_count": 411
  },
  {
   "metadata": {
    "ExecuteTime": {
     "end_time": "2024-09-08T20:17:31.289082Z",
     "start_time": "2024-09-08T20:17:31.279580Z"
    }
   },
   "cell_type": "code",
   "source": [
    "n = numeric_columns[(numeric_columns['balance']<0)].describe()\n",
    "n.balance"
   ],
   "outputs": [
    {
     "data": {
      "text/plain": [
       "count    3230.000000\n",
       "mean     -304.880805\n",
       "std       297.344600\n",
       "min     -1944.000000\n",
       "25%      -413.000000\n",
       "50%      -228.000000\n",
       "75%       -93.000000\n",
       "max        -1.000000\n",
       "Name: balance, dtype: float64"
      ]
     },
     "execution_count": 412,
     "metadata": {},
     "output_type": "execute_result"
    }
   ],
   "execution_count": 412
  },
  {
   "metadata": {
    "ExecuteTime": {
     "end_time": "2024-09-08T20:17:31.618174Z",
     "start_time": "2024-09-08T20:17:31.488652Z"
    }
   },
   "cell_type": "code",
   "source": "clean_data.to_csv('clean_data.csv')",
   "outputs": [],
   "execution_count": 413
  },
  {
   "cell_type": "markdown",
   "metadata": {},
   "source": [
    "#### Κανονικοποίηση"
   ]
  },
  {
   "cell_type": "code",
   "metadata": {
    "ExecuteTime": {
     "end_time": "2024-09-08T20:17:31.651179Z",
     "start_time": "2024-09-08T20:17:31.643178Z"
    }
   },
   "source": [
    "X = numeric_columns.to_numpy()\n",
    "transformer = RobustScaler().fit(X)\n",
    "normalized_X = transformer.transform(X)\n"
   ],
   "outputs": [],
   "execution_count": 414
  },
  {
   "cell_type": "code",
   "metadata": {
    "ExecuteTime": {
     "end_time": "2024-09-08T20:17:31.703690Z",
     "start_time": "2024-09-08T20:17:31.695189Z"
    }
   },
   "source": [
    "clean_numerical_columns = pd.DataFrame(normalized_X, columns= numeric_columns.columns)\n",
    "clean_numerical_columns"
   ],
   "outputs": [
    {
     "data": {
      "text/plain": [
       "          age   balance       day  duration  campaign\n",
       "0      1.1875  1.953312 -0.769231  0.505618      -0.5\n",
       "1      0.3125 -0.342020 -0.769231 -0.112360      -0.5\n",
       "2     -0.3750 -0.371336 -0.769231 -0.533708      -0.5\n",
       "3      0.5000  1.261672 -0.769231 -0.443820      -0.5\n",
       "4     -0.3750 -0.372421 -0.769231  0.151685      -0.5\n",
       "...       ...       ...       ...       ...       ...\n",
       "34713 -0.3125  0.231270  0.153846  0.297753      -0.5\n",
       "34714 -1.0000 -0.250814  0.153846  0.533708      -0.5\n",
       "34715 -0.8750  0.174810  0.153846  1.207865       0.0\n",
       "34716  1.1250  0.351792  0.153846  1.893258       1.0\n",
       "34717 -0.1250  2.852334  0.153846  1.067416       0.0\n",
       "\n",
       "[34718 rows x 5 columns]"
      ],
      "text/html": [
       "<div>\n",
       "<style scoped>\n",
       "    .dataframe tbody tr th:only-of-type {\n",
       "        vertical-align: middle;\n",
       "    }\n",
       "\n",
       "    .dataframe tbody tr th {\n",
       "        vertical-align: top;\n",
       "    }\n",
       "\n",
       "    .dataframe thead th {\n",
       "        text-align: right;\n",
       "    }\n",
       "</style>\n",
       "<table border=\"1\" class=\"dataframe\">\n",
       "  <thead>\n",
       "    <tr style=\"text-align: right;\">\n",
       "      <th></th>\n",
       "      <th>age</th>\n",
       "      <th>balance</th>\n",
       "      <th>day</th>\n",
       "      <th>duration</th>\n",
       "      <th>campaign</th>\n",
       "    </tr>\n",
       "  </thead>\n",
       "  <tbody>\n",
       "    <tr>\n",
       "      <th>0</th>\n",
       "      <td>1.1875</td>\n",
       "      <td>1.953312</td>\n",
       "      <td>-0.769231</td>\n",
       "      <td>0.505618</td>\n",
       "      <td>-0.5</td>\n",
       "    </tr>\n",
       "    <tr>\n",
       "      <th>1</th>\n",
       "      <td>0.3125</td>\n",
       "      <td>-0.342020</td>\n",
       "      <td>-0.769231</td>\n",
       "      <td>-0.112360</td>\n",
       "      <td>-0.5</td>\n",
       "    </tr>\n",
       "    <tr>\n",
       "      <th>2</th>\n",
       "      <td>-0.3750</td>\n",
       "      <td>-0.371336</td>\n",
       "      <td>-0.769231</td>\n",
       "      <td>-0.533708</td>\n",
       "      <td>-0.5</td>\n",
       "    </tr>\n",
       "    <tr>\n",
       "      <th>3</th>\n",
       "      <td>0.5000</td>\n",
       "      <td>1.261672</td>\n",
       "      <td>-0.769231</td>\n",
       "      <td>-0.443820</td>\n",
       "      <td>-0.5</td>\n",
       "    </tr>\n",
       "    <tr>\n",
       "      <th>4</th>\n",
       "      <td>-0.3750</td>\n",
       "      <td>-0.372421</td>\n",
       "      <td>-0.769231</td>\n",
       "      <td>0.151685</td>\n",
       "      <td>-0.5</td>\n",
       "    </tr>\n",
       "    <tr>\n",
       "      <th>...</th>\n",
       "      <td>...</td>\n",
       "      <td>...</td>\n",
       "      <td>...</td>\n",
       "      <td>...</td>\n",
       "      <td>...</td>\n",
       "    </tr>\n",
       "    <tr>\n",
       "      <th>34713</th>\n",
       "      <td>-0.3125</td>\n",
       "      <td>0.231270</td>\n",
       "      <td>0.153846</td>\n",
       "      <td>0.297753</td>\n",
       "      <td>-0.5</td>\n",
       "    </tr>\n",
       "    <tr>\n",
       "      <th>34714</th>\n",
       "      <td>-1.0000</td>\n",
       "      <td>-0.250814</td>\n",
       "      <td>0.153846</td>\n",
       "      <td>0.533708</td>\n",
       "      <td>-0.5</td>\n",
       "    </tr>\n",
       "    <tr>\n",
       "      <th>34715</th>\n",
       "      <td>-0.8750</td>\n",
       "      <td>0.174810</td>\n",
       "      <td>0.153846</td>\n",
       "      <td>1.207865</td>\n",
       "      <td>0.0</td>\n",
       "    </tr>\n",
       "    <tr>\n",
       "      <th>34716</th>\n",
       "      <td>1.1250</td>\n",
       "      <td>0.351792</td>\n",
       "      <td>0.153846</td>\n",
       "      <td>1.893258</td>\n",
       "      <td>1.0</td>\n",
       "    </tr>\n",
       "    <tr>\n",
       "      <th>34717</th>\n",
       "      <td>-0.1250</td>\n",
       "      <td>2.852334</td>\n",
       "      <td>0.153846</td>\n",
       "      <td>1.067416</td>\n",
       "      <td>0.0</td>\n",
       "    </tr>\n",
       "  </tbody>\n",
       "</table>\n",
       "<p>34718 rows × 5 columns</p>\n",
       "</div>"
      ]
     },
     "execution_count": 415,
     "metadata": {},
     "output_type": "execute_result"
    }
   ],
   "execution_count": 415
  },
  {
   "cell_type": "markdown",
   "metadata": {},
   "source": "#### Ποσοστό επιτυχίας σε αυτή τη Marketing Καμπάνια "
  },
  {
   "cell_type": "code",
   "metadata": {
    "ExecuteTime": {
     "end_time": "2024-09-08T20:17:31.767703Z",
     "start_time": "2024-09-08T20:17:31.762702Z"
    }
   },
   "source": "clean_data[['y']].sum()*100/len(clean_data)",
   "outputs": [
    {
     "data": {
      "text/plain": [
       "y    8.355896\n",
       "dtype: float64"
      ]
     },
     "execution_count": 416,
     "metadata": {},
     "output_type": "execute_result"
    }
   ],
   "execution_count": 416
  },
  {
   "cell_type": "markdown",
   "metadata": {},
   "source": [
    "---\n",
    "#### Μείωση Διαστάσεων"
   ]
  },
  {
   "cell_type": "markdown",
   "metadata": {},
   "source": "#### Correlation heatmap"
  },
  {
   "cell_type": "code",
   "metadata": {
    "ExecuteTime": {
     "end_time": "2024-09-08T20:17:32.003743Z",
     "start_time": "2024-09-08T20:17:31.826712Z"
    }
   },
   "source": [
    "correlation_matrix = numeric_columns.corr().round(2)\n",
    "correlation_matrix\n",
    "sns.heatmap(correlation_matrix, cmap='coolwarm', annot=True,  fmt='.2f')"
   ],
   "outputs": [
    {
     "data": {
      "text/plain": [
       "<Axes: >"
      ]
     },
     "execution_count": 417,
     "metadata": {},
     "output_type": "execute_result"
    },
    {
     "data": {
      "text/plain": [
       "<Figure size 640x480 with 2 Axes>"
      ],
      "image/png": "[encoded data removed]"
     },
     "metadata": {},
     "output_type": "display_data"
    }
   ],
   "execution_count": 417
  },
  {
   "metadata": {},
   "cell_type": "markdown",
   "source": "### Cell jail"
  },
  {
   "metadata": {
    "ExecuteTime": {
     "end_time": "2024-09-08T20:17:32.032248Z",
     "start_time": "2024-09-08T20:17:32.029248Z"
    }
   },
   "cell_type": "code",
   "source": [
    "\n",
    "# outliers = numeric_columns[~numeric_columns.index.isin(clean_numeric_columns.index)]\n",
    "# #outliers = clean_numeric_columns\n",
    "\n",
    "# fig, ax = plt.subplots(1,1)\n",
    "\n",
    "# numeric_columns.plot.scatter(x='age',y='balance',ax=ax)\n",
    "# # Overlay outliers as red dots on the x-axis\n",
    "# # plt.scatter(outliers['balance'], np.zeros_like(outliers['balance']), color='red', marker='o', label='Outliers', zorder=5)\n",
    "# outliers.plot.scatter(x='age', y='balance',color='red', marker='o', label='Outliers', zorder=5)\n",
    "\n",
    "# ax.set_xlabel('Age')\n",
    "# ax.set_ylabel('Balance ($)')\n",
    "\n",
    "# fig, ax = plt.subplots(1,1)\n",
    "\n",
    "# clean_numeric_columns.plot.box(ax=ax, rot=90, showmeans=True)\n",
    "\n",
    "# ax.set_ylim(0, 10000)\n",
    "# ax.set_yscale('symlog')"
   ],
   "outputs": [],
   "execution_count": 418
  }
 ],
 "metadata": {
  "kernelspec": {
   "display_name": "base",
   "language": "python",
   "name": "python3"
  },
  "language_info": {
   "codemirror_mode": {
    "name": "ipython",
    "version": 3
   },
   "file_extension": ".py",
   "mimetype": "text/x-python",
   "name": "python",
   "nbconvert_exporter": "python",
   "pygments_lexer": "ipython3",
   "version": "3.11.7"
  }
 },
 "nbformat": 4,
 "nbformat_minor": 2
}
