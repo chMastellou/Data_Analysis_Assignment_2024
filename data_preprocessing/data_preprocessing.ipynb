{
 "cells": [
  {
   "cell_type": "markdown",
   "metadata": {},
   "source": [
    "# Εργασία Αναλυτικής Δεδομένων 2024\n",
    "---\n",
    "### Βήμα 1: Προεπεξεργασία Δεδομένων"
   ]
  },
  {
   "cell_type": "code",
   "metadata": {
    "ExecuteTime": {
     "end_time": "2024-09-11T15:16:46.459358Z",
     "start_time": "2024-09-11T15:16:46.455550Z"
    }
   },
   "source": [
    "import numpy as np\n",
    "import pandas as pd\n",
    "import seaborn as sns\n",
    "from IPython.core.pylabtools import figsize\n",
    "from matplotlib import pyplot as plt\n",
    "from pandas.plotting import boxplot\n",
    "from sklearn.preprocessing import RobustScaler\n",
    "from sklearn.naive_bayes import GaussianNB\n",
    "from sklearn.impute import KNNImputer\n",
    "from sklearn.preprocessing import LabelEncoder\n",
    "from sklearn.model_selection import train_test_split\n",
    "from sklearn.preprocessing import StandardScaler"
   ],
   "outputs": [],
   "execution_count": 127
  },
  {
   "metadata": {},
   "cell_type": "markdown",
   "source": "#### Ρυθμίσεις"
  },
  {
   "metadata": {
    "ExecuteTime": {
     "end_time": "2024-09-11T15:16:46.490969Z",
     "start_time": "2024-09-11T15:16:46.488376Z"
    }
   },
   "cell_type": "code",
   "source": "pd.options.mode.copy_on_write = True",
   "outputs": [],
   "execution_count": 128
  },
  {
   "cell_type": "markdown",
   "metadata": {},
   "source": [
    "---\n",
    "\n",
    "### Ανάγνωση Βάσης Δεδομένων\n",
    "#### Όνομα: Bank Marketing Data Set (https://archive.ics.uci.edu/dataset/222/bank+marketing)"
   ]
  },
  {
   "cell_type": "code",
   "metadata": {
    "ExecuteTime": {
     "end_time": "2024-09-11T15:16:46.611683Z",
     "start_time": "2024-09-11T15:16:46.559977Z"
    }
   },
   "source": "data = pd.read_csv('bank-full.csv', sep=';')",
   "outputs": [],
   "execution_count": 129
  },
  {
   "metadata": {},
   "cell_type": "markdown",
   "source": "#### Πρώτη γνωριμία με τα Δεδομένα"
  },
  {
   "cell_type": "code",
   "metadata": {
    "ExecuteTime": {
     "end_time": "2024-09-11T15:16:46.675395Z",
     "start_time": "2024-09-11T15:16:46.673235Z"
    }
   },
   "source": "# data",
   "outputs": [],
   "execution_count": 130
  },
  {
   "cell_type": "markdown",
   "metadata": {},
   "source": "#### Μέγεθος και Δομή Δεδομένων"
  },
  {
   "cell_type": "code",
   "metadata": {
    "ExecuteTime": {
     "end_time": "2024-09-11T15:16:46.742285Z",
     "start_time": "2024-09-11T15:16:46.738579Z"
    }
   },
   "source": [
    "data.shape"
   ],
   "outputs": [
    {
     "data": {
      "text/plain": [
       "(45211, 17)"
      ]
     },
     "execution_count": 131,
     "metadata": {},
     "output_type": "execute_result"
    }
   ],
   "execution_count": 131
  },
  {
   "cell_type": "code",
   "metadata": {
    "ExecuteTime": {
     "end_time": "2024-09-11T15:16:46.816444Z",
     "start_time": "2024-09-11T15:16:46.812344Z"
    }
   },
   "source": [
    "data.columns"
   ],
   "outputs": [
    {
     "data": {
      "text/plain": [
       "Index(['age', 'job', 'marital', 'education', 'default', 'balance', 'housing',\n",
       "       'loan', 'contact', 'day', 'month', 'duration', 'campaign', 'pdays',\n",
       "       'previous', 'poutcome', 'y'],\n",
       "      dtype='object')"
      ]
     },
     "execution_count": 132,
     "metadata": {},
     "output_type": "execute_result"
    }
   ],
   "execution_count": 132
  },
  {
   "cell_type": "code",
   "metadata": {
    "ExecuteTime": {
     "end_time": "2024-09-11T15:16:46.895148Z",
     "start_time": "2024-09-11T15:16:46.886502Z"
    }
   },
   "source": [
    "data.head()"
   ],
   "outputs": [
    {
     "data": {
      "text/plain": [
       "   age           job  marital  education default  balance housing loan  \\\n",
       "0   58    management  married   tertiary      no     2143     yes   no   \n",
       "1   44    technician   single  secondary      no       29     yes   no   \n",
       "2   33  entrepreneur  married  secondary      no        2     yes  yes   \n",
       "3   47   blue-collar  married    unknown      no     1506     yes   no   \n",
       "4   33       unknown   single    unknown      no        1      no   no   \n",
       "\n",
       "   contact  day month  duration  campaign  pdays  previous poutcome   y  \n",
       "0  unknown    5   may       261         1     -1         0  unknown  no  \n",
       "1  unknown    5   may       151         1     -1         0  unknown  no  \n",
       "2  unknown    5   may        76         1     -1         0  unknown  no  \n",
       "3  unknown    5   may        92         1     -1         0  unknown  no  \n",
       "4  unknown    5   may       198         1     -1         0  unknown  no  "
      ],
      "text/html": [
       "<div>\n",
       "<style scoped>\n",
       "    .dataframe tbody tr th:only-of-type {\n",
       "        vertical-align: middle;\n",
       "    }\n",
       "\n",
       "    .dataframe tbody tr th {\n",
       "        vertical-align: top;\n",
       "    }\n",
       "\n",
       "    .dataframe thead th {\n",
       "        text-align: right;\n",
       "    }\n",
       "</style>\n",
       "<table border=\"1\" class=\"dataframe\">\n",
       "  <thead>\n",
       "    <tr style=\"text-align: right;\">\n",
       "      <th></th>\n",
       "      <th>age</th>\n",
       "      <th>job</th>\n",
       "      <th>marital</th>\n",
       "      <th>education</th>\n",
       "      <th>default</th>\n",
       "      <th>balance</th>\n",
       "      <th>housing</th>\n",
       "      <th>loan</th>\n",
       "      <th>contact</th>\n",
       "      <th>day</th>\n",
       "      <th>month</th>\n",
       "      <th>duration</th>\n",
       "      <th>campaign</th>\n",
       "      <th>pdays</th>\n",
       "      <th>previous</th>\n",
       "      <th>poutcome</th>\n",
       "      <th>y</th>\n",
       "    </tr>\n",
       "  </thead>\n",
       "  <tbody>\n",
       "    <tr>\n",
       "      <th>0</th>\n",
       "      <td>58</td>\n",
       "      <td>management</td>\n",
       "      <td>married</td>\n",
       "      <td>tertiary</td>\n",
       "      <td>no</td>\n",
       "      <td>2143</td>\n",
       "      <td>yes</td>\n",
       "      <td>no</td>\n",
       "      <td>unknown</td>\n",
       "      <td>5</td>\n",
       "      <td>may</td>\n",
       "      <td>261</td>\n",
       "      <td>1</td>\n",
       "      <td>-1</td>\n",
       "      <td>0</td>\n",
       "      <td>unknown</td>\n",
       "      <td>no</td>\n",
       "    </tr>\n",
       "    <tr>\n",
       "      <th>1</th>\n",
       "      <td>44</td>\n",
       "      <td>technician</td>\n",
       "      <td>single</td>\n",
       "      <td>secondary</td>\n",
       "      <td>no</td>\n",
       "      <td>29</td>\n",
       "      <td>yes</td>\n",
       "      <td>no</td>\n",
       "      <td>unknown</td>\n",
       "      <td>5</td>\n",
       "      <td>may</td>\n",
       "      <td>151</td>\n",
       "      <td>1</td>\n",
       "      <td>-1</td>\n",
       "      <td>0</td>\n",
       "      <td>unknown</td>\n",
       "      <td>no</td>\n",
       "    </tr>\n",
       "    <tr>\n",
       "      <th>2</th>\n",
       "      <td>33</td>\n",
       "      <td>entrepreneur</td>\n",
       "      <td>married</td>\n",
       "      <td>secondary</td>\n",
       "      <td>no</td>\n",
       "      <td>2</td>\n",
       "      <td>yes</td>\n",
       "      <td>yes</td>\n",
       "      <td>unknown</td>\n",
       "      <td>5</td>\n",
       "      <td>may</td>\n",
       "      <td>76</td>\n",
       "      <td>1</td>\n",
       "      <td>-1</td>\n",
       "      <td>0</td>\n",
       "      <td>unknown</td>\n",
       "      <td>no</td>\n",
       "    </tr>\n",
       "    <tr>\n",
       "      <th>3</th>\n",
       "      <td>47</td>\n",
       "      <td>blue-collar</td>\n",
       "      <td>married</td>\n",
       "      <td>unknown</td>\n",
       "      <td>no</td>\n",
       "      <td>1506</td>\n",
       "      <td>yes</td>\n",
       "      <td>no</td>\n",
       "      <td>unknown</td>\n",
       "      <td>5</td>\n",
       "      <td>may</td>\n",
       "      <td>92</td>\n",
       "      <td>1</td>\n",
       "      <td>-1</td>\n",
       "      <td>0</td>\n",
       "      <td>unknown</td>\n",
       "      <td>no</td>\n",
       "    </tr>\n",
       "    <tr>\n",
       "      <th>4</th>\n",
       "      <td>33</td>\n",
       "      <td>unknown</td>\n",
       "      <td>single</td>\n",
       "      <td>unknown</td>\n",
       "      <td>no</td>\n",
       "      <td>1</td>\n",
       "      <td>no</td>\n",
       "      <td>no</td>\n",
       "      <td>unknown</td>\n",
       "      <td>5</td>\n",
       "      <td>may</td>\n",
       "      <td>198</td>\n",
       "      <td>1</td>\n",
       "      <td>-1</td>\n",
       "      <td>0</td>\n",
       "      <td>unknown</td>\n",
       "      <td>no</td>\n",
       "    </tr>\n",
       "  </tbody>\n",
       "</table>\n",
       "</div>"
      ]
     },
     "execution_count": 133,
     "metadata": {},
     "output_type": "execute_result"
    }
   ],
   "execution_count": 133
  },
  {
   "cell_type": "code",
   "metadata": {
    "ExecuteTime": {
     "end_time": "2024-09-11T15:16:46.992105Z",
     "start_time": "2024-09-11T15:16:46.982729Z"
    }
   },
   "source": [
    "data.tail()"
   ],
   "outputs": [
    {
     "data": {
      "text/plain": [
       "       age           job   marital  education default  balance housing loan  \\\n",
       "45206   51    technician   married   tertiary      no      825      no   no   \n",
       "45207   71       retired  divorced    primary      no     1729      no   no   \n",
       "45208   72       retired   married  secondary      no     5715      no   no   \n",
       "45209   57   blue-collar   married  secondary      no      668      no   no   \n",
       "45210   37  entrepreneur   married  secondary      no     2971      no   no   \n",
       "\n",
       "         contact  day month  duration  campaign  pdays  previous poutcome    y  \n",
       "45206   cellular   17   nov       977         3     -1         0  unknown  yes  \n",
       "45207   cellular   17   nov       456         2     -1         0  unknown  yes  \n",
       "45208   cellular   17   nov      1127         5    184         3  success  yes  \n",
       "45209  telephone   17   nov       508         4     -1         0  unknown   no  \n",
       "45210   cellular   17   nov       361         2    188        11    other   no  "
      ],
      "text/html": [
       "<div>\n",
       "<style scoped>\n",
       "    .dataframe tbody tr th:only-of-type {\n",
       "        vertical-align: middle;\n",
       "    }\n",
       "\n",
       "    .dataframe tbody tr th {\n",
       "        vertical-align: top;\n",
       "    }\n",
       "\n",
       "    .dataframe thead th {\n",
       "        text-align: right;\n",
       "    }\n",
       "</style>\n",
       "<table border=\"1\" class=\"dataframe\">\n",
       "  <thead>\n",
       "    <tr style=\"text-align: right;\">\n",
       "      <th></th>\n",
       "      <th>age</th>\n",
       "      <th>job</th>\n",
       "      <th>marital</th>\n",
       "      <th>education</th>\n",
       "      <th>default</th>\n",
       "      <th>balance</th>\n",
       "      <th>housing</th>\n",
       "      <th>loan</th>\n",
       "      <th>contact</th>\n",
       "      <th>day</th>\n",
       "      <th>month</th>\n",
       "      <th>duration</th>\n",
       "      <th>campaign</th>\n",
       "      <th>pdays</th>\n",
       "      <th>previous</th>\n",
       "      <th>poutcome</th>\n",
       "      <th>y</th>\n",
       "    </tr>\n",
       "  </thead>\n",
       "  <tbody>\n",
       "    <tr>\n",
       "      <th>45206</th>\n",
       "      <td>51</td>\n",
       "      <td>technician</td>\n",
       "      <td>married</td>\n",
       "      <td>tertiary</td>\n",
       "      <td>no</td>\n",
       "      <td>825</td>\n",
       "      <td>no</td>\n",
       "      <td>no</td>\n",
       "      <td>cellular</td>\n",
       "      <td>17</td>\n",
       "      <td>nov</td>\n",
       "      <td>977</td>\n",
       "      <td>3</td>\n",
       "      <td>-1</td>\n",
       "      <td>0</td>\n",
       "      <td>unknown</td>\n",
       "      <td>yes</td>\n",
       "    </tr>\n",
       "    <tr>\n",
       "      <th>45207</th>\n",
       "      <td>71</td>\n",
       "      <td>retired</td>\n",
       "      <td>divorced</td>\n",
       "      <td>primary</td>\n",
       "      <td>no</td>\n",
       "      <td>1729</td>\n",
       "      <td>no</td>\n",
       "      <td>no</td>\n",
       "      <td>cellular</td>\n",
       "      <td>17</td>\n",
       "      <td>nov</td>\n",
       "      <td>456</td>\n",
       "      <td>2</td>\n",
       "      <td>-1</td>\n",
       "      <td>0</td>\n",
       "      <td>unknown</td>\n",
       "      <td>yes</td>\n",
       "    </tr>\n",
       "    <tr>\n",
       "      <th>45208</th>\n",
       "      <td>72</td>\n",
       "      <td>retired</td>\n",
       "      <td>married</td>\n",
       "      <td>secondary</td>\n",
       "      <td>no</td>\n",
       "      <td>5715</td>\n",
       "      <td>no</td>\n",
       "      <td>no</td>\n",
       "      <td>cellular</td>\n",
       "      <td>17</td>\n",
       "      <td>nov</td>\n",
       "      <td>1127</td>\n",
       "      <td>5</td>\n",
       "      <td>184</td>\n",
       "      <td>3</td>\n",
       "      <td>success</td>\n",
       "      <td>yes</td>\n",
       "    </tr>\n",
       "    <tr>\n",
       "      <th>45209</th>\n",
       "      <td>57</td>\n",
       "      <td>blue-collar</td>\n",
       "      <td>married</td>\n",
       "      <td>secondary</td>\n",
       "      <td>no</td>\n",
       "      <td>668</td>\n",
       "      <td>no</td>\n",
       "      <td>no</td>\n",
       "      <td>telephone</td>\n",
       "      <td>17</td>\n",
       "      <td>nov</td>\n",
       "      <td>508</td>\n",
       "      <td>4</td>\n",
       "      <td>-1</td>\n",
       "      <td>0</td>\n",
       "      <td>unknown</td>\n",
       "      <td>no</td>\n",
       "    </tr>\n",
       "    <tr>\n",
       "      <th>45210</th>\n",
       "      <td>37</td>\n",
       "      <td>entrepreneur</td>\n",
       "      <td>married</td>\n",
       "      <td>secondary</td>\n",
       "      <td>no</td>\n",
       "      <td>2971</td>\n",
       "      <td>no</td>\n",
       "      <td>no</td>\n",
       "      <td>cellular</td>\n",
       "      <td>17</td>\n",
       "      <td>nov</td>\n",
       "      <td>361</td>\n",
       "      <td>2</td>\n",
       "      <td>188</td>\n",
       "      <td>11</td>\n",
       "      <td>other</td>\n",
       "      <td>no</td>\n",
       "    </tr>\n",
       "  </tbody>\n",
       "</table>\n",
       "</div>"
      ]
     },
     "execution_count": 134,
     "metadata": {},
     "output_type": "execute_result"
    }
   ],
   "execution_count": 134
  },
  {
   "cell_type": "markdown",
   "metadata": {},
   "source": "#### Διαγραφή Διπλότυπων"
  },
  {
   "cell_type": "code",
   "metadata": {
    "ExecuteTime": {
     "end_time": "2024-09-11T15:16:47.286296Z",
     "start_time": "2024-09-11T15:16:47.257748Z"
    }
   },
   "source": [
    "data_no_dupes = data.drop_duplicates()\n",
    "data_no_dupes.shape"
   ],
   "outputs": [
    {
     "data": {
      "text/plain": [
       "(45211, 17)"
      ]
     },
     "execution_count": 135,
     "metadata": {},
     "output_type": "execute_result"
    }
   ],
   "execution_count": 135
  },
  {
   "metadata": {},
   "cell_type": "markdown",
   "source": "---"
  },
  {
   "metadata": {},
   "cell_type": "markdown",
   "source": [
    "### Εύρεση και Αντιμετώπιση Ακραίων τιμών\n",
    "#### Η αναζήτηση ακραίων τιμών έχει νόημα μόνο στα αριθμητικά χαρακτηριστικά ('age', 'balance', 'day', 'duration', 'campaign'). Οι στήλες pdays και previous λόγω των τιμών και της σημασίας τους, θα έχουν διαφορετική μεταχείριση στη συνέχεια, στη Μείωση Διαστάσεων. Χρησιμοποιείται η μέθοδος IQR."
   ]
  },
  {
   "metadata": {},
   "cell_type": "markdown",
   "source": "#### Διαχωρισμός των αριθμητικών χαρακτηριστικών σε δύο ομάδες (age, balance, day, duration, campaign) και (pdays,previous)\n"
  },
  {
   "metadata": {},
   "cell_type": "markdown",
   "source": "#### balance: οι περισσότερες τιμές του balance μας ενδιαφέρον ανεξάρτητα από το ύψος των καταθέσεων, όμως δεν θέλουμε το μοντέλο να επηρεαστεί από outstanding χρέη, οπότε θα εξετάσουμε τις αρνητικές καταθέσεις. Θα κρατήσουμε καταθέσεις μόνο πάνω από -3500€"
  },
  {
   "metadata": {
    "ExecuteTime": {
     "end_time": "2024-09-11T15:16:47.738678Z",
     "start_time": "2024-09-11T15:16:47.572547Z"
    }
   },
   "cell_type": "code",
   "source": [
    "scatter_test = data_no_dupes[data_no_dupes['balance'] < 0]\n",
    "scatter_test.plot.scatter(x='balance', y='age')"
   ],
   "outputs": [
    {
     "data": {
      "text/plain": [
       "<Axes: xlabel='balance', ylabel='age'>"
      ]
     },
     "execution_count": 136,
     "metadata": {},
     "output_type": "execute_result"
    },
    {
     "data": {
      "text/plain": [
       "<Figure size 640x480 with 1 Axes>"
      ],
      "image/png": "[encoded data removed]"
     },
     "metadata": {},
     "output_type": "display_data"
    }
   ],
   "execution_count": 136
  },
  {
   "metadata": {
    "ExecuteTime": {
     "end_time": "2024-09-11T15:16:47.962148Z",
     "start_time": "2024-09-11T15:16:47.951868Z"
    }
   },
   "cell_type": "code",
   "source": "data_outliers = data_no_dupes[data_no_dupes['balance'] > -3500]",
   "outputs": [],
   "execution_count": 137
  },
  {
   "metadata": {
    "ExecuteTime": {
     "end_time": "2024-09-11T15:16:48.290764Z",
     "start_time": "2024-09-11T15:16:48.089582Z"
    }
   },
   "cell_type": "code",
   "source": [
    "boxplot_data = data_no_dupes[[\"age\",\"day\", \"balance\", \"duration\", \"campaign\"]]\n",
    "fig, ax = plt.subplots(1, 1)\n",
    "\n",
    "boxplot_data.plot.box(ax=ax, rot=90, showmeans=True)\n",
    "\n",
    "ax.set_ylim(0, 10000)\n",
    "ax.set_yscale('symlog')"
   ],
   "outputs": [
    {
     "data": {
      "text/plain": [
       "<Figure size 640x480 with 1 Axes>"
      ],
      "image/png": "[encoded data removed]"
     },
     "metadata": {},
     "output_type": "display_data"
    }
   ],
   "execution_count": 138
  },
  {
   "metadata": {},
   "cell_type": "markdown",
   "source": "#### Εκκαθάριση ακραίων τιμών\n"
  },
  {
   "metadata": {
    "ExecuteTime": {
     "end_time": "2024-09-11T15:16:48.321214Z",
     "start_time": "2024-09-11T15:16:48.315788Z"
    }
   },
   "cell_type": "code",
   "source": [
    "numeric_columns_part = data_no_dupes[[\"age\",\"day\", \"duration\", \"campaign\"]]\n",
    "\n",
    "def clean_outliers(data, numeric_columns_part):\n",
    "\n",
    "        # Calculate Q1 (25th percentile) and Q3 (75th percentile)\n",
    "        Q1 = numeric_columns_part.quantile(0.25)\n",
    "        Q3 = numeric_columns_part.quantile(0.75)\n",
    "\n",
    "        # Calculate IQR (Inter-quantile Range)\n",
    "        IQR = Q3 - Q1\n",
    "\n",
    "        # Define the lower and upper bounds for outliers\n",
    "        lower_bound = Q1 - 1.5 * IQR\n",
    "        upper_bound = Q3 + 1.5 * IQR\n",
    "\n",
    "        # Remove rows where outliers exist for the current column\n",
    "        no_outliers_mask = ((numeric_columns_part >= lower_bound) & (numeric_columns_part <= upper_bound)).all(axis=1)\n",
    "        cleaned_df = data[no_outliers_mask]\n",
    "        \n",
    "        return cleaned_df"
   ],
   "outputs": [],
   "execution_count": 139
  },
  {
   "metadata": {
    "ExecuteTime": {
     "end_time": "2024-09-11T15:16:48.400276Z",
     "start_time": "2024-09-11T15:16:48.385281Z"
    }
   },
   "cell_type": "code",
   "source": [
    "data_no_outliers = clean_outliers(data_no_dupes, numeric_columns_part)\n",
    "numeric_columns_part = data_no_outliers[[\"age\", \"day\", \"duration\", \"campaign\"]]"
   ],
   "outputs": [],
   "execution_count": 140
  },
  {
   "metadata": {},
   "cell_type": "markdown",
   "source": "#### Έλεγχος αφαίρεσης ακραίων τιμών\n"
  },
  {
   "metadata": {
    "ExecuteTime": {
     "end_time": "2024-09-11T15:16:48.466351Z",
     "start_time": "2024-09-11T15:16:48.462336Z"
    }
   },
   "cell_type": "code",
   "source": "data_no_outliers.shape",
   "outputs": [
    {
     "data": {
      "text/plain": [
       "(38667, 17)"
      ]
     },
     "execution_count": 141,
     "metadata": {},
     "output_type": "execute_result"
    }
   ],
   "execution_count": 141
  },
  {
   "metadata": {
    "ExecuteTime": {
     "end_time": "2024-09-11T15:16:48.544698Z",
     "start_time": "2024-09-11T15:16:48.532687Z"
    }
   },
   "cell_type": "code",
   "source": "numeric_columns_part.describe()",
   "outputs": [
    {
     "data": {
      "text/plain": [
       "                age           day      duration      campaign\n",
       "count  38667.000000  38667.000000  38667.000000  38667.000000\n",
       "mean      40.526237     15.527970    207.662270      2.129309\n",
       "std       10.008415      8.270035    139.877358      1.319881\n",
       "min       18.000000      1.000000      0.000000      1.000000\n",
       "25%       32.000000      8.000000    103.000000      1.000000\n",
       "50%       39.000000     16.000000    171.000000      2.000000\n",
       "75%       48.000000     21.000000    281.000000      3.000000\n",
       "max       70.000000     31.000000    643.000000      6.000000"
      ],
      "text/html": [
       "<div>\n",
       "<style scoped>\n",
       "    .dataframe tbody tr th:only-of-type {\n",
       "        vertical-align: middle;\n",
       "    }\n",
       "\n",
       "    .dataframe tbody tr th {\n",
       "        vertical-align: top;\n",
       "    }\n",
       "\n",
       "    .dataframe thead th {\n",
       "        text-align: right;\n",
       "    }\n",
       "</style>\n",
       "<table border=\"1\" class=\"dataframe\">\n",
       "  <thead>\n",
       "    <tr style=\"text-align: right;\">\n",
       "      <th></th>\n",
       "      <th>age</th>\n",
       "      <th>day</th>\n",
       "      <th>duration</th>\n",
       "      <th>campaign</th>\n",
       "    </tr>\n",
       "  </thead>\n",
       "  <tbody>\n",
       "    <tr>\n",
       "      <th>count</th>\n",
       "      <td>38667.000000</td>\n",
       "      <td>38667.000000</td>\n",
       "      <td>38667.000000</td>\n",
       "      <td>38667.000000</td>\n",
       "    </tr>\n",
       "    <tr>\n",
       "      <th>mean</th>\n",
       "      <td>40.526237</td>\n",
       "      <td>15.527970</td>\n",
       "      <td>207.662270</td>\n",
       "      <td>2.129309</td>\n",
       "    </tr>\n",
       "    <tr>\n",
       "      <th>std</th>\n",
       "      <td>10.008415</td>\n",
       "      <td>8.270035</td>\n",
       "      <td>139.877358</td>\n",
       "      <td>1.319881</td>\n",
       "    </tr>\n",
       "    <tr>\n",
       "      <th>min</th>\n",
       "      <td>18.000000</td>\n",
       "      <td>1.000000</td>\n",
       "      <td>0.000000</td>\n",
       "      <td>1.000000</td>\n",
       "    </tr>\n",
       "    <tr>\n",
       "      <th>25%</th>\n",
       "      <td>32.000000</td>\n",
       "      <td>8.000000</td>\n",
       "      <td>103.000000</td>\n",
       "      <td>1.000000</td>\n",
       "    </tr>\n",
       "    <tr>\n",
       "      <th>50%</th>\n",
       "      <td>39.000000</td>\n",
       "      <td>16.000000</td>\n",
       "      <td>171.000000</td>\n",
       "      <td>2.000000</td>\n",
       "    </tr>\n",
       "    <tr>\n",
       "      <th>75%</th>\n",
       "      <td>48.000000</td>\n",
       "      <td>21.000000</td>\n",
       "      <td>281.000000</td>\n",
       "      <td>3.000000</td>\n",
       "    </tr>\n",
       "    <tr>\n",
       "      <th>max</th>\n",
       "      <td>70.000000</td>\n",
       "      <td>31.000000</td>\n",
       "      <td>643.000000</td>\n",
       "      <td>6.000000</td>\n",
       "    </tr>\n",
       "  </tbody>\n",
       "</table>\n",
       "</div>"
      ]
     },
     "execution_count": 142,
     "metadata": {},
     "output_type": "execute_result"
    }
   ],
   "execution_count": 142
  },
  {
   "metadata": {
    "ExecuteTime": {
     "end_time": "2024-09-11T15:16:48.780954Z",
     "start_time": "2024-09-11T15:16:48.629801Z"
    }
   },
   "cell_type": "code",
   "source": [
    "fig, ax = plt.subplots(1,1)\n",
    "\n",
    "numeric_columns_part.plot.box(ax=ax, rot=90, showmeans=True)\n",
    "\n",
    "ax.set_ylim(0, 10000)\n",
    "ax.set_yscale('symlog')"
   ],
   "outputs": [
    {
     "data": {
      "text/plain": [
       "<Figure size 640x480 with 1 Axes>"
      ],
      "image/png": "[encoded data removed]"
     },
     "metadata": {},
     "output_type": "display_data"
    }
   ],
   "execution_count": 143
  },
  {
   "metadata": {},
   "cell_type": "markdown",
   "source": [
    "#### previous\n",
    "#### Η τιμή 275 είναι ξεκάθαρα outlier και θα αφαιρεθεί η αντίστοιχη εγγραφή\n",
    "\n"
   ]
  },
  {
   "metadata": {
    "ExecuteTime": {
     "end_time": "2024-09-11T15:16:51.323828Z",
     "start_time": "2024-09-11T15:16:48.876605Z"
    }
   },
   "cell_type": "code",
   "source": [
    "sns.lmplot(x=\"pdays\", y=\"previous\", data=data_no_dupes )\n",
    "data_no_dupes.previous.max()"
   ],
   "outputs": [
    {
     "data": {
      "text/plain": [
       "np.int64(275)"
      ]
     },
     "execution_count": 144,
     "metadata": {},
     "output_type": "execute_result"
    },
    {
     "data": {
      "text/plain": [
       "<Figure size 500x500 with 1 Axes>"
      ],
      "image/png": "[encoded data removed]"
     },
     "metadata": {},
     "output_type": "display_data"
    }
   ],
   "execution_count": 144
  },
  {
   "metadata": {
    "ExecuteTime": {
     "end_time": "2024-09-11T15:16:51.367660Z",
     "start_time": "2024-09-11T15:16:51.358365Z"
    }
   },
   "cell_type": "code",
   "source": [
    "clean_data = data_no_outliers[data_no_outliers['previous'] != 275]\n",
    "clean_data.shape"
   ],
   "outputs": [
    {
     "data": {
      "text/plain": [
       "(38666, 17)"
      ]
     },
     "execution_count": 145,
     "metadata": {},
     "output_type": "execute_result"
    }
   ],
   "execution_count": 145
  },
  {
   "metadata": {},
   "cell_type": "markdown",
   "source": "#### Διόρθωση του index"
  },
  {
   "metadata": {
    "ExecuteTime": {
     "end_time": "2024-09-11T15:16:51.472814Z",
     "start_time": "2024-09-11T15:16:51.462794Z"
    }
   },
   "cell_type": "code",
   "source": [
    "clean_data = clean_data.reset_index(drop=True)\n",
    "clean_data.tail()"
   ],
   "outputs": [
    {
     "data": {
      "text/plain": [
       "       age           job  marital  education default  balance housing loan  \\\n",
       "38661   34        admin.   single  secondary      no      557      no   no   \n",
       "38662   23       student   single   tertiary      no      113      no   no   \n",
       "38663   25    technician   single  secondary      no      505      no  yes   \n",
       "38664   57   blue-collar  married  secondary      no      668      no   no   \n",
       "38665   37  entrepreneur  married  secondary      no     2971      no   no   \n",
       "\n",
       "         contact  day month  duration  campaign  pdays  previous poutcome    y  \n",
       "38661   cellular   17   nov       224         1     -1         0  unknown  yes  \n",
       "38662   cellular   17   nov       266         1     -1         0  unknown  yes  \n",
       "38663   cellular   17   nov       386         2     -1         0  unknown  yes  \n",
       "38664  telephone   17   nov       508         4     -1         0  unknown   no  \n",
       "38665   cellular   17   nov       361         2    188        11    other   no  "
      ],
      "text/html": [
       "<div>\n",
       "<style scoped>\n",
       "    .dataframe tbody tr th:only-of-type {\n",
       "        vertical-align: middle;\n",
       "    }\n",
       "\n",
       "    .dataframe tbody tr th {\n",
       "        vertical-align: top;\n",
       "    }\n",
       "\n",
       "    .dataframe thead th {\n",
       "        text-align: right;\n",
       "    }\n",
       "</style>\n",
       "<table border=\"1\" class=\"dataframe\">\n",
       "  <thead>\n",
       "    <tr style=\"text-align: right;\">\n",
       "      <th></th>\n",
       "      <th>age</th>\n",
       "      <th>job</th>\n",
       "      <th>marital</th>\n",
       "      <th>education</th>\n",
       "      <th>default</th>\n",
       "      <th>balance</th>\n",
       "      <th>housing</th>\n",
       "      <th>loan</th>\n",
       "      <th>contact</th>\n",
       "      <th>day</th>\n",
       "      <th>month</th>\n",
       "      <th>duration</th>\n",
       "      <th>campaign</th>\n",
       "      <th>pdays</th>\n",
       "      <th>previous</th>\n",
       "      <th>poutcome</th>\n",
       "      <th>y</th>\n",
       "    </tr>\n",
       "  </thead>\n",
       "  <tbody>\n",
       "    <tr>\n",
       "      <th>38661</th>\n",
       "      <td>34</td>\n",
       "      <td>admin.</td>\n",
       "      <td>single</td>\n",
       "      <td>secondary</td>\n",
       "      <td>no</td>\n",
       "      <td>557</td>\n",
       "      <td>no</td>\n",
       "      <td>no</td>\n",
       "      <td>cellular</td>\n",
       "      <td>17</td>\n",
       "      <td>nov</td>\n",
       "      <td>224</td>\n",
       "      <td>1</td>\n",
       "      <td>-1</td>\n",
       "      <td>0</td>\n",
       "      <td>unknown</td>\n",
       "      <td>yes</td>\n",
       "    </tr>\n",
       "    <tr>\n",
       "      <th>38662</th>\n",
       "      <td>23</td>\n",
       "      <td>student</td>\n",
       "      <td>single</td>\n",
       "      <td>tertiary</td>\n",
       "      <td>no</td>\n",
       "      <td>113</td>\n",
       "      <td>no</td>\n",
       "      <td>no</td>\n",
       "      <td>cellular</td>\n",
       "      <td>17</td>\n",
       "      <td>nov</td>\n",
       "      <td>266</td>\n",
       "      <td>1</td>\n",
       "      <td>-1</td>\n",
       "      <td>0</td>\n",
       "      <td>unknown</td>\n",
       "      <td>yes</td>\n",
       "    </tr>\n",
       "    <tr>\n",
       "      <th>38663</th>\n",
       "      <td>25</td>\n",
       "      <td>technician</td>\n",
       "      <td>single</td>\n",
       "      <td>secondary</td>\n",
       "      <td>no</td>\n",
       "      <td>505</td>\n",
       "      <td>no</td>\n",
       "      <td>yes</td>\n",
       "      <td>cellular</td>\n",
       "      <td>17</td>\n",
       "      <td>nov</td>\n",
       "      <td>386</td>\n",
       "      <td>2</td>\n",
       "      <td>-1</td>\n",
       "      <td>0</td>\n",
       "      <td>unknown</td>\n",
       "      <td>yes</td>\n",
       "    </tr>\n",
       "    <tr>\n",
       "      <th>38664</th>\n",
       "      <td>57</td>\n",
       "      <td>blue-collar</td>\n",
       "      <td>married</td>\n",
       "      <td>secondary</td>\n",
       "      <td>no</td>\n",
       "      <td>668</td>\n",
       "      <td>no</td>\n",
       "      <td>no</td>\n",
       "      <td>telephone</td>\n",
       "      <td>17</td>\n",
       "      <td>nov</td>\n",
       "      <td>508</td>\n",
       "      <td>4</td>\n",
       "      <td>-1</td>\n",
       "      <td>0</td>\n",
       "      <td>unknown</td>\n",
       "      <td>no</td>\n",
       "    </tr>\n",
       "    <tr>\n",
       "      <th>38665</th>\n",
       "      <td>37</td>\n",
       "      <td>entrepreneur</td>\n",
       "      <td>married</td>\n",
       "      <td>secondary</td>\n",
       "      <td>no</td>\n",
       "      <td>2971</td>\n",
       "      <td>no</td>\n",
       "      <td>no</td>\n",
       "      <td>cellular</td>\n",
       "      <td>17</td>\n",
       "      <td>nov</td>\n",
       "      <td>361</td>\n",
       "      <td>2</td>\n",
       "      <td>188</td>\n",
       "      <td>11</td>\n",
       "      <td>other</td>\n",
       "      <td>no</td>\n",
       "    </tr>\n",
       "  </tbody>\n",
       "</table>\n",
       "</div>"
      ]
     },
     "execution_count": 146,
     "metadata": {},
     "output_type": "execute_result"
    }
   ],
   "execution_count": 146
  },
  {
   "metadata": {},
   "cell_type": "markdown",
   "source": "#### Διαμόρφωση boolean χαρακτηριστικών"
  },
  {
   "metadata": {
    "ExecuteTime": {
     "end_time": "2024-09-11T15:16:51.579790Z",
     "start_time": "2024-09-11T15:16:51.572270Z"
    }
   },
   "cell_type": "code",
   "source": [
    "boolean_columns = clean_data[['default', 'housing', 'loan', 'y']]\n",
    "boolean_columns.head()"
   ],
   "outputs": [
    {
     "data": {
      "text/plain": [
       "  default housing loan   y\n",
       "0      no     yes   no  no\n",
       "1      no     yes   no  no\n",
       "2      no     yes  yes  no\n",
       "3      no     yes   no  no\n",
       "4      no      no   no  no"
      ],
      "text/html": [
       "<div>\n",
       "<style scoped>\n",
       "    .dataframe tbody tr th:only-of-type {\n",
       "        vertical-align: middle;\n",
       "    }\n",
       "\n",
       "    .dataframe tbody tr th {\n",
       "        vertical-align: top;\n",
       "    }\n",
       "\n",
       "    .dataframe thead th {\n",
       "        text-align: right;\n",
       "    }\n",
       "</style>\n",
       "<table border=\"1\" class=\"dataframe\">\n",
       "  <thead>\n",
       "    <tr style=\"text-align: right;\">\n",
       "      <th></th>\n",
       "      <th>default</th>\n",
       "      <th>housing</th>\n",
       "      <th>loan</th>\n",
       "      <th>y</th>\n",
       "    </tr>\n",
       "  </thead>\n",
       "  <tbody>\n",
       "    <tr>\n",
       "      <th>0</th>\n",
       "      <td>no</td>\n",
       "      <td>yes</td>\n",
       "      <td>no</td>\n",
       "      <td>no</td>\n",
       "    </tr>\n",
       "    <tr>\n",
       "      <th>1</th>\n",
       "      <td>no</td>\n",
       "      <td>yes</td>\n",
       "      <td>no</td>\n",
       "      <td>no</td>\n",
       "    </tr>\n",
       "    <tr>\n",
       "      <th>2</th>\n",
       "      <td>no</td>\n",
       "      <td>yes</td>\n",
       "      <td>yes</td>\n",
       "      <td>no</td>\n",
       "    </tr>\n",
       "    <tr>\n",
       "      <th>3</th>\n",
       "      <td>no</td>\n",
       "      <td>yes</td>\n",
       "      <td>no</td>\n",
       "      <td>no</td>\n",
       "    </tr>\n",
       "    <tr>\n",
       "      <th>4</th>\n",
       "      <td>no</td>\n",
       "      <td>no</td>\n",
       "      <td>no</td>\n",
       "      <td>no</td>\n",
       "    </tr>\n",
       "  </tbody>\n",
       "</table>\n",
       "</div>"
      ]
     },
     "execution_count": 147,
     "metadata": {},
     "output_type": "execute_result"
    }
   ],
   "execution_count": 147
  },
  {
   "metadata": {
    "ExecuteTime": {
     "end_time": "2024-09-11T15:16:51.731531Z",
     "start_time": "2024-09-11T15:16:51.727094Z"
    }
   },
   "cell_type": "code",
   "source": "boolean_columns.dtypes",
   "outputs": [
    {
     "data": {
      "text/plain": [
       "default    object\n",
       "housing    object\n",
       "loan       object\n",
       "y          object\n",
       "dtype: object"
      ]
     },
     "execution_count": 148,
     "metadata": {},
     "output_type": "execute_result"
    }
   ],
   "execution_count": 148
  },
  {
   "metadata": {
    "ExecuteTime": {
     "end_time": "2024-09-11T15:16:52.149467Z",
     "start_time": "2024-09-11T15:16:52.142955Z"
    }
   },
   "cell_type": "code",
   "source": "boolean_columns.default.unique()",
   "outputs": [
    {
     "data": {
      "text/plain": [
       "array(['no', 'yes'], dtype=object)"
      ]
     },
     "execution_count": 149,
     "metadata": {},
     "output_type": "execute_result"
    }
   ],
   "execution_count": 149
  },
  {
   "metadata": {},
   "cell_type": "markdown",
   "source": "#### Τα χαρακτηριστικά boolean δεν είναι ακόμα τύπου boolean, οπότε πιο κάτω θα μετασχηματιστούν."
  },
  {
   "metadata": {
    "ExecuteTime": {
     "end_time": "2024-09-11T15:16:52.404281Z",
     "start_time": "2024-09-11T15:16:52.390754Z"
    }
   },
   "cell_type": "code",
   "source": [
    "clean_data['default'] = clean_data['default'].map({'yes': 1, 'no': 0})\n",
    "clean_data['housing'] = clean_data['housing'].map({'yes': 1, 'no': 0})\n",
    "clean_data['loan'] = clean_data['loan'].map({'yes': 1, 'no': 0})\n",
    "clean_data['y'] = clean_data['y'].map({'yes': 1, 'no': 0})\n",
    "clean_data.default = clean_data.default.astype('bool')\n",
    "clean_data.housing = clean_data.housing.astype('bool')\n",
    "clean_data.loan = clean_data.loan.astype('bool')\n",
    "clean_data.y = clean_data.y.astype('bool')"
   ],
   "outputs": [],
   "execution_count": 150
  },
  {
   "metadata": {
    "ExecuteTime": {
     "end_time": "2024-09-11T15:16:52.571727Z",
     "start_time": "2024-09-11T15:16:52.560925Z"
    }
   },
   "cell_type": "code",
   "source": "clean_data[['default', 'housing', 'loan', 'y']].describe()",
   "outputs": [
    {
     "data": {
      "text/plain": [
       "       default housing   loan      y\n",
       "count    38666   38666  38666  38666\n",
       "unique       2       2      2      2\n",
       "top      False    True  False  False\n",
       "freq     37979   21788  32395  35283"
      ],
      "text/html": [
       "<div>\n",
       "<style scoped>\n",
       "    .dataframe tbody tr th:only-of-type {\n",
       "        vertical-align: middle;\n",
       "    }\n",
       "\n",
       "    .dataframe tbody tr th {\n",
       "        vertical-align: top;\n",
       "    }\n",
       "\n",
       "    .dataframe thead th {\n",
       "        text-align: right;\n",
       "    }\n",
       "</style>\n",
       "<table border=\"1\" class=\"dataframe\">\n",
       "  <thead>\n",
       "    <tr style=\"text-align: right;\">\n",
       "      <th></th>\n",
       "      <th>default</th>\n",
       "      <th>housing</th>\n",
       "      <th>loan</th>\n",
       "      <th>y</th>\n",
       "    </tr>\n",
       "  </thead>\n",
       "  <tbody>\n",
       "    <tr>\n",
       "      <th>count</th>\n",
       "      <td>38666</td>\n",
       "      <td>38666</td>\n",
       "      <td>38666</td>\n",
       "      <td>38666</td>\n",
       "    </tr>\n",
       "    <tr>\n",
       "      <th>unique</th>\n",
       "      <td>2</td>\n",
       "      <td>2</td>\n",
       "      <td>2</td>\n",
       "      <td>2</td>\n",
       "    </tr>\n",
       "    <tr>\n",
       "      <th>top</th>\n",
       "      <td>False</td>\n",
       "      <td>True</td>\n",
       "      <td>False</td>\n",
       "      <td>False</td>\n",
       "    </tr>\n",
       "    <tr>\n",
       "      <th>freq</th>\n",
       "      <td>37979</td>\n",
       "      <td>21788</td>\n",
       "      <td>32395</td>\n",
       "      <td>35283</td>\n",
       "    </tr>\n",
       "  </tbody>\n",
       "</table>\n",
       "</div>"
      ]
     },
     "execution_count": 151,
     "metadata": {},
     "output_type": "execute_result"
    }
   ],
   "execution_count": 151
  },
  {
   "metadata": {},
   "cell_type": "markdown",
   "source": "#### Διαχείριση Κατηγορικών Χαρακτηριστικών"
  },
  {
   "metadata": {
    "ExecuteTime": {
     "end_time": "2024-09-11T15:16:52.701085Z",
     "start_time": "2024-09-11T15:16:52.692105Z"
    }
   },
   "cell_type": "code",
   "source": [
    "categorical_columns = clean_data[['job', 'education', 'contact','poutcome']]\n",
    "categorical_columns.head()"
   ],
   "outputs": [
    {
     "data": {
      "text/plain": [
       "            job  education  contact poutcome\n",
       "0    management   tertiary  unknown  unknown\n",
       "1    technician  secondary  unknown  unknown\n",
       "2  entrepreneur  secondary  unknown  unknown\n",
       "3   blue-collar    unknown  unknown  unknown\n",
       "4       unknown    unknown  unknown  unknown"
      ],
      "text/html": [
       "<div>\n",
       "<style scoped>\n",
       "    .dataframe tbody tr th:only-of-type {\n",
       "        vertical-align: middle;\n",
       "    }\n",
       "\n",
       "    .dataframe tbody tr th {\n",
       "        vertical-align: top;\n",
       "    }\n",
       "\n",
       "    .dataframe thead th {\n",
       "        text-align: right;\n",
       "    }\n",
       "</style>\n",
       "<table border=\"1\" class=\"dataframe\">\n",
       "  <thead>\n",
       "    <tr style=\"text-align: right;\">\n",
       "      <th></th>\n",
       "      <th>job</th>\n",
       "      <th>education</th>\n",
       "      <th>contact</th>\n",
       "      <th>poutcome</th>\n",
       "    </tr>\n",
       "  </thead>\n",
       "  <tbody>\n",
       "    <tr>\n",
       "      <th>0</th>\n",
       "      <td>management</td>\n",
       "      <td>tertiary</td>\n",
       "      <td>unknown</td>\n",
       "      <td>unknown</td>\n",
       "    </tr>\n",
       "    <tr>\n",
       "      <th>1</th>\n",
       "      <td>technician</td>\n",
       "      <td>secondary</td>\n",
       "      <td>unknown</td>\n",
       "      <td>unknown</td>\n",
       "    </tr>\n",
       "    <tr>\n",
       "      <th>2</th>\n",
       "      <td>entrepreneur</td>\n",
       "      <td>secondary</td>\n",
       "      <td>unknown</td>\n",
       "      <td>unknown</td>\n",
       "    </tr>\n",
       "    <tr>\n",
       "      <th>3</th>\n",
       "      <td>blue-collar</td>\n",
       "      <td>unknown</td>\n",
       "      <td>unknown</td>\n",
       "      <td>unknown</td>\n",
       "    </tr>\n",
       "    <tr>\n",
       "      <th>4</th>\n",
       "      <td>unknown</td>\n",
       "      <td>unknown</td>\n",
       "      <td>unknown</td>\n",
       "      <td>unknown</td>\n",
       "    </tr>\n",
       "  </tbody>\n",
       "</table>\n",
       "</div>"
      ]
     },
     "execution_count": 152,
     "metadata": {},
     "output_type": "execute_result"
    }
   ],
   "execution_count": 152
  },
  {
   "metadata": {
    "ExecuteTime": {
     "end_time": "2024-09-11T15:16:52.846159Z",
     "start_time": "2024-09-11T15:16:52.826631Z"
    }
   },
   "cell_type": "code",
   "source": "categorical_columns.describe()",
   "outputs": [
    {
     "data": {
      "text/plain": [
       "                job  education   contact poutcome\n",
       "count         38666      38666     38666    38666\n",
       "unique           12          4         3        4\n",
       "top     blue-collar  secondary  cellular  unknown\n",
       "freq           8358      20065     25175    31298"
      ],
      "text/html": [
       "<div>\n",
       "<style scoped>\n",
       "    .dataframe tbody tr th:only-of-type {\n",
       "        vertical-align: middle;\n",
       "    }\n",
       "\n",
       "    .dataframe tbody tr th {\n",
       "        vertical-align: top;\n",
       "    }\n",
       "\n",
       "    .dataframe thead th {\n",
       "        text-align: right;\n",
       "    }\n",
       "</style>\n",
       "<table border=\"1\" class=\"dataframe\">\n",
       "  <thead>\n",
       "    <tr style=\"text-align: right;\">\n",
       "      <th></th>\n",
       "      <th>job</th>\n",
       "      <th>education</th>\n",
       "      <th>contact</th>\n",
       "      <th>poutcome</th>\n",
       "    </tr>\n",
       "  </thead>\n",
       "  <tbody>\n",
       "    <tr>\n",
       "      <th>count</th>\n",
       "      <td>38666</td>\n",
       "      <td>38666</td>\n",
       "      <td>38666</td>\n",
       "      <td>38666</td>\n",
       "    </tr>\n",
       "    <tr>\n",
       "      <th>unique</th>\n",
       "      <td>12</td>\n",
       "      <td>4</td>\n",
       "      <td>3</td>\n",
       "      <td>4</td>\n",
       "    </tr>\n",
       "    <tr>\n",
       "      <th>top</th>\n",
       "      <td>blue-collar</td>\n",
       "      <td>secondary</td>\n",
       "      <td>cellular</td>\n",
       "      <td>unknown</td>\n",
       "    </tr>\n",
       "    <tr>\n",
       "      <th>freq</th>\n",
       "      <td>8358</td>\n",
       "      <td>20065</td>\n",
       "      <td>25175</td>\n",
       "      <td>31298</td>\n",
       "    </tr>\n",
       "  </tbody>\n",
       "</table>\n",
       "</div>"
      ]
     },
     "execution_count": 153,
     "metadata": {},
     "output_type": "execute_result"
    }
   ],
   "execution_count": 153
  },
  {
   "cell_type": "markdown",
   "metadata": {},
   "source": "#### Βάση των πληροφοριών που παρέχονται από την πηγή τα δεδομένα δεν περιέχουν τιμές NaN (null). Ωστόσο υπάρχουν τιμές σε κατηγορικά χαρακτηριστικά ('unknown' ή 'other') που δηλώνουν την έλλειψη πληροφορίας. Ποιο κάτω θα υπολογιστεί το πλήθος των τιμών αυτών για κάθε κατηγορικό χαρακτηριστικό και θα γίνει μία γραφική απεικόνιση, ώστε να προσδιοριστεί η κατάλληλη προσέγγιση στη συμπλήρωση τους"
  },
  {
   "metadata": {
    "ExecuteTime": {
     "end_time": "2024-09-11T15:16:53.115925Z",
     "start_time": "2024-09-11T15:16:53.097893Z"
    }
   },
   "cell_type": "code",
   "source": "data.isnull().sum()",
   "outputs": [
    {
     "data": {
      "text/plain": [
       "age          0\n",
       "job          0\n",
       "marital      0\n",
       "education    0\n",
       "default      0\n",
       "balance      0\n",
       "housing      0\n",
       "loan         0\n",
       "contact      0\n",
       "day          0\n",
       "month        0\n",
       "duration     0\n",
       "campaign     0\n",
       "pdays        0\n",
       "previous     0\n",
       "poutcome     0\n",
       "y            0\n",
       "dtype: int64"
      ]
     },
     "execution_count": 154,
     "metadata": {},
     "output_type": "execute_result"
    }
   ],
   "execution_count": 154
  },
  {
   "cell_type": "markdown",
   "metadata": {},
   "source": "#### Αριθμός τιμών \"unknown\""
  },
  {
   "metadata": {
    "ExecuteTime": {
     "end_time": "2024-09-11T15:16:53.413911Z",
     "start_time": "2024-09-11T15:16:53.391379Z"
    }
   },
   "cell_type": "code",
   "source": "categorical_columns[(categorical_columns=='unknown')].count()",
   "outputs": [
    {
     "data": {
      "text/plain": [
       "job            233\n",
       "education     1536\n",
       "contact      11274\n",
       "poutcome     31298\n",
       "dtype: int64"
      ]
     },
     "execution_count": 155,
     "metadata": {},
     "output_type": "execute_result"
    }
   ],
   "execution_count": 155
  },
  {
   "metadata": {},
   "cell_type": "markdown",
   "source": "#### Γραφική Αναπαράσταση Ελλιπών τιμών ανά Χαρακτηριστικό"
  },
  {
   "metadata": {
    "ExecuteTime": {
     "end_time": "2024-09-11T15:16:53.839304Z",
     "start_time": "2024-09-11T15:16:53.667151Z"
    }
   },
   "cell_type": "code",
   "source": [
    "fig, ax = plt.subplots(1,1)\n",
    "categorical_columns[(categorical_columns=='unknown')].count().plot.barh(ax=ax)\n",
    "\n",
    "ax.set_xscale('symlog')"
   ],
   "outputs": [
    {
     "data": {
      "text/plain": [
       "<Figure size 640x480 with 1 Axes>"
      ],
      "image/png": "[encoded data removed]"
     },
     "metadata": {},
     "output_type": "display_data"
    }
   ],
   "execution_count": 156
  },
  {
   "metadata": {},
   "cell_type": "markdown",
   "source": "#### Ποσοστό εμφάνισης τιμών \"unknown\" για κάθε κατηγορικό χαρακτηριστικό"
  },
  {
   "metadata": {
    "ExecuteTime": {
     "end_time": "2024-09-11T15:16:54.048935Z",
     "start_time": "2024-09-11T15:16:54.027911Z"
    }
   },
   "cell_type": "code",
   "source": "categorical_columns[(categorical_columns=='unknown')].count()*100/len(data_no_dupes)",
   "outputs": [
    {
     "data": {
      "text/plain": [
       "job           0.515361\n",
       "education     3.397403\n",
       "contact      24.936409\n",
       "poutcome     69.226516\n",
       "dtype: float64"
      ]
     },
     "execution_count": 157,
     "metadata": {},
     "output_type": "execute_result"
    }
   ],
   "execution_count": 157
  },
  {
   "cell_type": "markdown",
   "metadata": {},
   "source": "Η στήλη **poutcome** έχει υπερβολικά πολλές τιμές `unknown` (81.7%). Επειδή λείπει υπερβολικά μεγάλο ποσοστό πληροφορίας, αυτή η στήλη θα αφαιρεθεί."
  },
  {
   "cell_type": "code",
   "metadata": {
    "ExecuteTime": {
     "end_time": "2024-09-11T15:16:54.236920Z",
     "start_time": "2024-09-11T15:16:54.152146Z"
    }
   },
   "source": [
    "out = clean_data.poutcome.value_counts(sort=True, normalize=True)\n",
    "\n",
    "fig, ax = plt.subplots(1,1, figsize=(6,6))\n",
    "out.plot.pie(legend=True, ax=ax)\n",
    "plt.show()"
   ],
   "outputs": [
    {
     "data": {
      "text/plain": [
       "<Figure size 600x600 with 1 Axes>"
      ],
      "image/png": "[encoded data removed]"
     },
     "metadata": {},
     "output_type": "display_data"
    }
   ],
   "execution_count": 158
  },
  {
   "metadata": {
    "ExecuteTime": {
     "end_time": "2024-09-11T15:16:54.405756Z",
     "start_time": "2024-09-11T15:16:54.401585Z"
    }
   },
   "cell_type": "code",
   "source": [
    "clean_data = clean_data.drop(columns=['poutcome'], axis=1)\n",
    "clean_data.columns "
   ],
   "outputs": [
    {
     "data": {
      "text/plain": [
       "Index(['age', 'job', 'marital', 'education', 'default', 'balance', 'housing',\n",
       "       'loan', 'contact', 'day', 'month', 'duration', 'campaign', 'pdays',\n",
       "       'previous', 'y'],\n",
       "      dtype='object')"
      ]
     },
     "execution_count": 159,
     "metadata": {},
     "output_type": "execute_result"
    }
   ],
   "execution_count": 159
  },
  {
   "cell_type": "markdown",
   "metadata": {},
   "source": [
    "#### Συμπλήρωση ελλιπών τιμών (job, education)\n",
    "Στα χαρακτηριστικά **'job'** και **'education'** επειδή το ποσοστό των ελλιπών τιμών είναι μικρό (0.63% και 4.1% αντίστοιχα) και άρα δε θα είχε ισχυρή επιρροή στη μέση τιμή οι ελλιπείς τιμές θα συμπληρωθούν με τη μέση τιμή (most frequent value) του αντίστοιχου χαρακτηριστικού."
   ]
  },
  {
   "cell_type": "code",
   "metadata": {
    "ExecuteTime": {
     "end_time": "2024-09-11T15:16:54.549104Z",
     "start_time": "2024-09-11T15:16:54.538376Z"
    }
   },
   "source": [
    "# Calculate the mode of the 'job' column\n",
    "job_mode = clean_data['job'].mode()[0]\n",
    "\n",
    "# Replace 'unknown' values in the 'job' column with the mode\n",
    "# filled_categorical_columns = categorical_columns.copy()\n",
    "clean_data['job'] = clean_data['job'].replace('unknown',job_mode)\n",
    "\n",
    "# Check\n",
    "clean_data[clean_data['job']=='unknown']['job'].count()"
   ],
   "outputs": [
    {
     "data": {
      "text/plain": [
       "np.int64(0)"
      ]
     },
     "execution_count": 160,
     "metadata": {},
     "output_type": "execute_result"
    }
   ],
   "execution_count": 160
  },
  {
   "cell_type": "code",
   "metadata": {
    "ExecuteTime": {
     "end_time": "2024-09-11T15:16:54.638993Z",
     "start_time": "2024-09-11T15:16:54.626174Z"
    }
   },
   "source": [
    "# Calculate the mod of the 'education' column\n",
    "education_mode = clean_data['education'].mode()[0]\n",
    "\n",
    "# Replace 'unknown' values in the 'education' column with the mode\n",
    "clean_data['education'] = clean_data['education'].replace('unknown',education_mode)\n",
    "\n",
    "# Check\n",
    "clean_data[clean_data['education']=='unknown']['education'].count()"
   ],
   "outputs": [
    {
     "data": {
      "text/plain": [
       "np.int64(0)"
      ]
     },
     "execution_count": 161,
     "metadata": {},
     "output_type": "execute_result"
    }
   ],
   "execution_count": 161
  },
  {
   "cell_type": "markdown",
   "metadata": {},
   "source": [
    "#### contact\n",
    "Το χαρακτηριστικό **'contact'** έχει ένα σημαντικό ποσοστό (28.79%) ελλιπών τιμών τα οποία αν συμπληρωθούν με την ποιο συχνή τιμή μπορεί τελικά το χαρακτηριστικό να μην αντιπροσωπεύει την πραγματικότητα. Για αυτό το λόγο θα χρησιμοποιηθούν οι πληροφορίες που παρέχουν τα υπόλοιπα χαρακτηριστικά μέσω ενός Bayesian Ταξινομητή, που θα εκπαιδευτεί στις πλήρεις γραμμές της βάσης δεδομένων για να συμπληρώσει αυτές με τις ελλειπείς τιμές."
   ]
  },
  {
   "cell_type": "code",
   "metadata": {
    "ExecuteTime": {
     "end_time": "2024-09-11T15:16:54.719464Z",
     "start_time": "2024-09-11T15:16:54.712457Z"
    }
   },
   "source": "clean_data.contact.value_counts(sort=False)",
   "outputs": [
    {
     "data": {
      "text/plain": [
       "contact\n",
       "unknown      11274\n",
       "cellular     25175\n",
       "telephone     2217\n",
       "Name: count, dtype: int64"
      ]
     },
     "execution_count": 162,
     "metadata": {},
     "output_type": "execute_result"
    }
   ],
   "execution_count": 162
  },
  {
   "metadata": {
    "ExecuteTime": {
     "end_time": "2024-09-11T15:16:54.815769Z",
     "start_time": "2024-09-11T15:16:54.810401Z"
    }
   },
   "cell_type": "code",
   "source": [
    "# Replace 'unknown' with NaN for simplicity\n",
    "clean_data['contact'] = clean_data['contact'].replace('unknown',np.nan)"
   ],
   "outputs": [],
   "execution_count": 163
  },
  {
   "metadata": {
    "ExecuteTime": {
     "end_time": "2024-09-11T15:16:54.925460Z",
     "start_time": "2024-09-11T15:16:54.907430Z"
    }
   },
   "cell_type": "code",
   "source": [
    "df_copy = clean_data[['age','balance','contact']].dropna()\n",
    "df_copy['contact']=df_copy['contact'].map({'cellular':1, 'telephone':2})\n",
    "\n",
    "X = df_copy[['age','balance']].to_numpy()\n",
    "Y = df_copy['contact'].to_numpy()\n",
    "\n",
    "clf = GaussianNB()\n",
    "clf.fit(X,Y)\n",
    "\n",
    "nan_rows = clean_data[clean_data['contact'].isna()]\n",
    "X_nan = nan_rows[['age','balance']].to_numpy()\n",
    "\n",
    "# Find missing values\n",
    "predicted_values = clf.predict(X_nan)\n",
    "predicted_values = pd.DataFrame(predicted_values, columns=['contact'])\n",
    "\n",
    "predicted_values['contact'] = predicted_values['contact'].map({1: 'cellular', 2: 'telephone'})\n",
    "\n",
    "clean_data.loc[clean_data['contact'].isna(), 'contact'] = predicted_values"
   ],
   "outputs": [],
   "execution_count": 164
  },
  {
   "metadata": {},
   "cell_type": "markdown",
   "source": "#### Βασικά Στατιστικά Στοιχεία"
  },
  {
   "metadata": {
    "ExecuteTime": {
     "end_time": "2024-09-11T15:16:55.019344Z",
     "start_time": "2024-09-11T15:16:54.998516Z"
    }
   },
   "cell_type": "code",
   "source": [
    "numeric_columns = clean_data.select_dtypes(include='number')\n",
    "numeric_columns.describe().round(2)"
   ],
   "outputs": [
    {
     "data": {
      "text/plain": [
       "            age    balance       day  duration  campaign     pdays  previous\n",
       "count  38666.00   38666.00  38666.00  38666.00  38666.00  38666.00  38666.00\n",
       "mean      40.53    1336.97     15.53    207.66      2.13     42.21      0.59\n",
       "std       10.01    2994.41      8.27    139.88      1.32    102.46      1.91\n",
       "min       18.00   -8019.00      1.00      0.00      1.00     -1.00      0.00\n",
       "25%       32.00      71.00      8.00    103.00      1.00     -1.00      0.00\n",
       "50%       39.00     439.00     16.00    171.00      2.00     -1.00      0.00\n",
       "75%       48.00    1400.00     21.00    281.00      3.00     -1.00      0.00\n",
       "max       70.00  102127.00     31.00    643.00      6.00    871.00     58.00"
      ],
      "text/html": [
       "<div>\n",
       "<style scoped>\n",
       "    .dataframe tbody tr th:only-of-type {\n",
       "        vertical-align: middle;\n",
       "    }\n",
       "\n",
       "    .dataframe tbody tr th {\n",
       "        vertical-align: top;\n",
       "    }\n",
       "\n",
       "    .dataframe thead th {\n",
       "        text-align: right;\n",
       "    }\n",
       "</style>\n",
       "<table border=\"1\" class=\"dataframe\">\n",
       "  <thead>\n",
       "    <tr style=\"text-align: right;\">\n",
       "      <th></th>\n",
       "      <th>age</th>\n",
       "      <th>balance</th>\n",
       "      <th>day</th>\n",
       "      <th>duration</th>\n",
       "      <th>campaign</th>\n",
       "      <th>pdays</th>\n",
       "      <th>previous</th>\n",
       "    </tr>\n",
       "  </thead>\n",
       "  <tbody>\n",
       "    <tr>\n",
       "      <th>count</th>\n",
       "      <td>38666.00</td>\n",
       "      <td>38666.00</td>\n",
       "      <td>38666.00</td>\n",
       "      <td>38666.00</td>\n",
       "      <td>38666.00</td>\n",
       "      <td>38666.00</td>\n",
       "      <td>38666.00</td>\n",
       "    </tr>\n",
       "    <tr>\n",
       "      <th>mean</th>\n",
       "      <td>40.53</td>\n",
       "      <td>1336.97</td>\n",
       "      <td>15.53</td>\n",
       "      <td>207.66</td>\n",
       "      <td>2.13</td>\n",
       "      <td>42.21</td>\n",
       "      <td>0.59</td>\n",
       "    </tr>\n",
       "    <tr>\n",
       "      <th>std</th>\n",
       "      <td>10.01</td>\n",
       "      <td>2994.41</td>\n",
       "      <td>8.27</td>\n",
       "      <td>139.88</td>\n",
       "      <td>1.32</td>\n",
       "      <td>102.46</td>\n",
       "      <td>1.91</td>\n",
       "    </tr>\n",
       "    <tr>\n",
       "      <th>min</th>\n",
       "      <td>18.00</td>\n",
       "      <td>-8019.00</td>\n",
       "      <td>1.00</td>\n",
       "      <td>0.00</td>\n",
       "      <td>1.00</td>\n",
       "      <td>-1.00</td>\n",
       "      <td>0.00</td>\n",
       "    </tr>\n",
       "    <tr>\n",
       "      <th>25%</th>\n",
       "      <td>32.00</td>\n",
       "      <td>71.00</td>\n",
       "      <td>8.00</td>\n",
       "      <td>103.00</td>\n",
       "      <td>1.00</td>\n",
       "      <td>-1.00</td>\n",
       "      <td>0.00</td>\n",
       "    </tr>\n",
       "    <tr>\n",
       "      <th>50%</th>\n",
       "      <td>39.00</td>\n",
       "      <td>439.00</td>\n",
       "      <td>16.00</td>\n",
       "      <td>171.00</td>\n",
       "      <td>2.00</td>\n",
       "      <td>-1.00</td>\n",
       "      <td>0.00</td>\n",
       "    </tr>\n",
       "    <tr>\n",
       "      <th>75%</th>\n",
       "      <td>48.00</td>\n",
       "      <td>1400.00</td>\n",
       "      <td>21.00</td>\n",
       "      <td>281.00</td>\n",
       "      <td>3.00</td>\n",
       "      <td>-1.00</td>\n",
       "      <td>0.00</td>\n",
       "    </tr>\n",
       "    <tr>\n",
       "      <th>max</th>\n",
       "      <td>70.00</td>\n",
       "      <td>102127.00</td>\n",
       "      <td>31.00</td>\n",
       "      <td>643.00</td>\n",
       "      <td>6.00</td>\n",
       "      <td>871.00</td>\n",
       "      <td>58.00</td>\n",
       "    </tr>\n",
       "  </tbody>\n",
       "</table>\n",
       "</div>"
      ]
     },
     "execution_count": 165,
     "metadata": {},
     "output_type": "execute_result"
    }
   ],
   "execution_count": 165
  },
  {
   "metadata": {},
   "cell_type": "markdown",
   "source": "#### Balance histogram"
  },
  {
   "metadata": {
    "ExecuteTime": {
     "end_time": "2024-09-11T15:16:55.247290Z",
     "start_time": "2024-09-11T15:16:55.109014Z"
    }
   },
   "cell_type": "code",
   "source": [
    "fig, ax = plt.subplots(1,1)\n",
    "\n",
    "clean_data.balance.plot.hist(alpha=.8, ax=ax)\n",
    "ax.set_xlabel('Yearly Balance (€)')\n",
    "ax.set_ylabel('Customers')"
   ],
   "outputs": [
    {
     "data": {
      "text/plain": [
       "Text(0, 0.5, 'Customers')"
      ]
     },
     "execution_count": 166,
     "metadata": {},
     "output_type": "execute_result"
    },
    {
     "data": {
      "text/plain": [
       "<Figure size 640x480 with 1 Axes>"
      ],
      "image/png": "[encoded data removed]"
     },
     "metadata": {},
     "output_type": "display_data"
    }
   ],
   "execution_count": 166
  },
  {
   "metadata": {},
   "cell_type": "markdown",
   "source": "#### Jobs & Education"
  },
  {
   "metadata": {
    "ExecuteTime": {
     "end_time": "2024-09-11T15:16:55.461678Z",
     "start_time": "2024-09-11T15:16:55.339048Z"
    }
   },
   "cell_type": "code",
   "source": [
    "fig, (ax1, ax2) = plt.subplots(1, 2, figsize=(10,10))\n",
    "\n",
    "count = clean_data.job.value_counts(sort=True, normalize=True)\n",
    "ax1.pie(count, labels=count.index)\n",
    "ax1.set_title('Jobs')\n",
    "\n",
    "count = clean_data.education.value_counts(sort=True, normalize=True)\n",
    "ax2.pie(count, labels=count.index)\n",
    "ax2.set_title('Education')"
   ],
   "outputs": [
    {
     "data": {
      "text/plain": [
       "Text(0.5, 1.0, 'Education')"
      ]
     },
     "execution_count": 167,
     "metadata": {},
     "output_type": "execute_result"
    },
    {
     "data": {
      "text/plain": [
       "<Figure size 1000x1000 with 2 Axes>"
      ],
      "image/png": "[encoded data removed]"
     },
     "metadata": {},
     "output_type": "display_data"
    }
   ],
   "execution_count": 167
  },
  {
   "metadata": {},
   "cell_type": "markdown",
   "source": "#### Personal & Housing Loans"
  },
  {
   "metadata": {
    "ExecuteTime": {
     "end_time": "2024-09-11T15:16:55.636344Z",
     "start_time": "2024-09-11T15:16:55.549750Z"
    }
   },
   "cell_type": "code",
   "source": [
    "fig, (ax1, ax2) = plt.subplots(1, 2, figsize=(10,10))\n",
    "\n",
    "count = clean_data.loan.value_counts(sort=True, normalize=True)\n",
    "ax1.pie(count, labels=count.index)\n",
    "ax1.set_title('Personal Loan')\n",
    "\n",
    "count = clean_data.housing.value_counts(sort=True, normalize=True)\n",
    "ax2.pie(count, labels=count.index)\n",
    "ax2.set_title('Housing Loan')"
   ],
   "outputs": [
    {
     "data": {
      "text/plain": [
       "Text(0.5, 1.0, 'Housing Loan')"
      ]
     },
     "execution_count": 168,
     "metadata": {},
     "output_type": "execute_result"
    },
    {
     "data": {
      "text/plain": [
       "<Figure size 1000x1000 with 2 Axes>"
      ],
      "image/png": "[encoded data removed]"
     },
     "metadata": {},
     "output_type": "display_data"
    }
   ],
   "execution_count": 168
  },
  {
   "metadata": {
    "ExecuteTime": {
     "end_time": "2024-09-11T15:16:55.997812Z",
     "start_time": "2024-09-11T15:16:55.708542Z"
    }
   },
   "cell_type": "code",
   "source": "clean_data.plot.scatter(x='balance', y='age')",
   "outputs": [
    {
     "data": {
      "text/plain": [
       "<Axes: xlabel='balance', ylabel='age'>"
      ]
     },
     "execution_count": 169,
     "metadata": {},
     "output_type": "execute_result"
    },
    {
     "data": {
      "text/plain": [
       "<Figure size 640x480 with 1 Axes>"
      ],
      "image/png": "[encoded data removed]"
     },
     "metadata": {},
     "output_type": "display_data"
    }
   ],
   "execution_count": 169
  },
  {
   "metadata": {
    "ExecuteTime": {
     "end_time": "2024-09-11T15:16:56.073691Z",
     "start_time": "2024-09-11T15:16:56.059661Z"
    }
   },
   "cell_type": "code",
   "source": "clean_data[[\"job\", \"education\"]].describe()",
   "outputs": [
    {
     "data": {
      "text/plain": [
       "                job  education\n",
       "count         38666      38666\n",
       "unique           11          3\n",
       "top     blue-collar  secondary\n",
       "freq           8591      21601"
      ],
      "text/html": [
       "<div>\n",
       "<style scoped>\n",
       "    .dataframe tbody tr th:only-of-type {\n",
       "        vertical-align: middle;\n",
       "    }\n",
       "\n",
       "    .dataframe tbody tr th {\n",
       "        vertical-align: top;\n",
       "    }\n",
       "\n",
       "    .dataframe thead th {\n",
       "        text-align: right;\n",
       "    }\n",
       "</style>\n",
       "<table border=\"1\" class=\"dataframe\">\n",
       "  <thead>\n",
       "    <tr style=\"text-align: right;\">\n",
       "      <th></th>\n",
       "      <th>job</th>\n",
       "      <th>education</th>\n",
       "    </tr>\n",
       "  </thead>\n",
       "  <tbody>\n",
       "    <tr>\n",
       "      <th>count</th>\n",
       "      <td>38666</td>\n",
       "      <td>38666</td>\n",
       "    </tr>\n",
       "    <tr>\n",
       "      <th>unique</th>\n",
       "      <td>11</td>\n",
       "      <td>3</td>\n",
       "    </tr>\n",
       "    <tr>\n",
       "      <th>top</th>\n",
       "      <td>blue-collar</td>\n",
       "      <td>secondary</td>\n",
       "    </tr>\n",
       "    <tr>\n",
       "      <th>freq</th>\n",
       "      <td>8591</td>\n",
       "      <td>21601</td>\n",
       "    </tr>\n",
       "  </tbody>\n",
       "</table>\n",
       "</div>"
      ]
     },
     "execution_count": 170,
     "metadata": {},
     "output_type": "execute_result"
    }
   ],
   "execution_count": 170
  },
  {
   "metadata": {},
   "cell_type": "markdown",
   "source": "#### Ποσοστό πελατών με πιθανό χρέος/αρνητικές καταθέσεις"
  },
  {
   "metadata": {
    "ExecuteTime": {
     "end_time": "2024-09-11T15:16:56.161738Z",
     "start_time": "2024-09-11T15:16:56.157020Z"
    }
   },
   "cell_type": "code",
   "source": "(numeric_columns['balance'] < 0).sum()*100/len(clean_data)",
   "outputs": [
    {
     "data": {
      "text/plain": [
       "np.float64(8.392386075621994)"
      ]
     },
     "execution_count": 171,
     "metadata": {},
     "output_type": "execute_result"
    }
   ],
   "execution_count": 171
  },
  {
   "metadata": {
    "ExecuteTime": {
     "end_time": "2024-09-11T15:16:56.221803Z",
     "start_time": "2024-09-11T15:16:56.209773Z"
    }
   },
   "cell_type": "code",
   "source": [
    "n = numeric_columns[(numeric_columns['balance']<0)].describe()\n",
    "n.balance"
   ],
   "outputs": [
    {
     "data": {
      "text/plain": [
       "count    3245.000000\n",
       "mean     -318.098613\n",
       "std       374.832134\n",
       "min     -8019.000000\n",
       "25%      -417.000000\n",
       "50%      -229.000000\n",
       "75%       -94.000000\n",
       "max        -1.000000\n",
       "Name: balance, dtype: float64"
      ]
     },
     "execution_count": 172,
     "metadata": {},
     "output_type": "execute_result"
    }
   ],
   "execution_count": 172
  },
  {
   "metadata": {
    "ExecuteTime": {
     "end_time": "2024-09-11T15:16:56.485879Z",
     "start_time": "2024-09-11T15:16:56.339233Z"
    }
   },
   "cell_type": "code",
   "source": "clean_data.to_csv('clean_data.csv')",
   "outputs": [],
   "execution_count": 173
  },
  {
   "metadata": {},
   "cell_type": "markdown",
   "source": "### Κανονικοποίηση (με RobustScaler)"
  },
  {
   "metadata": {
    "ExecuteTime": {
     "end_time": "2024-09-11T15:16:56.526899Z",
     "start_time": "2024-09-11T15:16:56.524177Z"
    }
   },
   "cell_type": "code",
   "source": [
    "# X = numeric_columns.to_numpy()\n",
    "# transformer = RobustScaler().fit(X)\n",
    "# normalized_X = transformer.transform(X)\n"
   ],
   "outputs": [],
   "execution_count": 174
  },
  {
   "cell_type": "code",
   "metadata": {
    "ExecuteTime": {
     "end_time": "2024-09-11T15:16:56.556629Z",
     "start_time": "2024-09-11T15:16:56.553916Z"
    }
   },
   "source": [
    "# clean_numerical_columns = pd.DataFrame(normalized_X, columns= numeric_columns.columns)\n",
    "# clean_numerical_columns"
   ],
   "outputs": [],
   "execution_count": 175
  },
  {
   "cell_type": "markdown",
   "metadata": {},
   "source": "#### Ποσοστό επιτυχίας σε αυτή τη Marketing Καμπάνια "
  },
  {
   "cell_type": "code",
   "metadata": {
    "ExecuteTime": {
     "end_time": "2024-09-11T15:16:56.635803Z",
     "start_time": "2024-09-11T15:16:56.627780Z"
    }
   },
   "source": "clean_data[['y']].sum()*100/len(clean_data)",
   "outputs": [
    {
     "data": {
      "text/plain": [
       "y    8.749289\n",
       "dtype: float64"
      ]
     },
     "execution_count": 176,
     "metadata": {},
     "output_type": "execute_result"
    }
   ],
   "execution_count": 176
  },
  {
   "cell_type": "markdown",
   "metadata": {},
   "source": [
    "---\n",
    "### Μείωση Διαστάσεων"
   ]
  },
  {
   "cell_type": "markdown",
   "metadata": {},
   "source": "#### Correlation heatmap"
  },
  {
   "cell_type": "code",
   "metadata": {
    "ExecuteTime": {
     "end_time": "2024-09-11T15:16:56.972755Z",
     "start_time": "2024-09-11T15:16:56.732171Z"
    }
   },
   "source": [
    "correlation_matrix = numeric_columns.corr().round(2)\n",
    "correlation_matrix\n",
    "sns.heatmap(correlation_matrix, cmap='coolwarm', annot=True,  fmt='.2f')"
   ],
   "outputs": [
    {
     "data": {
      "text/plain": [
       "<Axes: >"
      ]
     },
     "execution_count": 177,
     "metadata": {},
     "output_type": "execute_result"
    },
    {
     "data": {
      "text/plain": [
       "<Figure size 640x480 with 2 Axes>"
      ],
      "image/png": "[encoded data removed]"
     },
     "metadata": {},
     "output_type": "display_data"
    }
   ],
   "execution_count": 177
  },
  {
   "metadata": {},
   "cell_type": "markdown",
   "source": "#### Από το heatmap φαίνεται πως τα χαρακτηριστικά pdays και previous δίνουν σχετικά παρόμοιες πληροφορίες. Για τις ανάγκες της μελέτης μας, από το χαρακτηριστικό previous δεν μας ενδιαφέρει τόσο το πόσες φορές έχει υπάρξει προηγούμενη επικοινωνία, όσο το *αν* έχει υπάρξει. Το pdays μας δίνει τις μέρες που έχουν περάσει από την τελευταία επικοινωνία, με το `-1` επίσης να δηλώνει πως δεν έχει υπάρξει επικοινωνία. Επομένως, από τα δύο χαρακτηριστικά θα κρατηθεί το pdays, το οποίο στη συνέχεια θα γίνει κατηγορικό. Το previous θα γίνει boolean."
  },
  {
   "metadata": {
    "ExecuteTime": {
     "end_time": "2024-09-11T15:16:57.019968Z",
     "start_time": "2024-09-11T15:16:57.014041Z"
    }
   },
   "cell_type": "code",
   "source": "clean_data.pdays.describe()",
   "outputs": [
    {
     "data": {
      "text/plain": [
       "count    38666.000000\n",
       "mean        42.214866\n",
       "std        102.455582\n",
       "min         -1.000000\n",
       "25%         -1.000000\n",
       "50%         -1.000000\n",
       "75%         -1.000000\n",
       "max        871.000000\n",
       "Name: pdays, dtype: float64"
      ]
     },
     "execution_count": 178,
     "metadata": {},
     "output_type": "execute_result"
    }
   ],
   "execution_count": 178
  },
  {
   "metadata": {},
   "cell_type": "markdown",
   "source": "#### Θα γίνει μια διακριτοποίση σχετικά με το πόσος χρόνος έχει περάσει από την προηγούμενη επικοινωνία. Για να αντλήσουμε πληροφορία σχετικά με τα νέα categorical values, θα εξετάσουμε τα στατιστικά στοιχεία του pdays εξαιρώντας τις -1 περιπτώσεις."
  },
  {
   "metadata": {
    "ExecuteTime": {
     "end_time": "2024-09-11T15:16:57.234016Z",
     "start_time": "2024-09-11T15:16:57.227496Z"
    }
   },
   "cell_type": "code",
   "source": "clean_data.loc[clean_data.pdays > -1, 'pdays'].describe()",
   "outputs": [
    {
     "data": {
      "text/plain": [
       "count    7372.000000\n",
       "mean      225.661150\n",
       "std       116.093031\n",
       "min         1.000000\n",
       "25%       133.000000\n",
       "50%       196.000000\n",
       "75%       328.000000\n",
       "max       871.000000\n",
       "Name: pdays, dtype: float64"
      ]
     },
     "execution_count": 179,
     "metadata": {},
     "output_type": "execute_result"
    }
   ],
   "execution_count": 179
  },
  {
   "metadata": {},
   "cell_type": "markdown",
   "source": [
    "#### Οι νέες κατηγορικές τιμές θα διαμορφωθούν ως εξής: `never, u4m, u7m, u1y, o1y`\n",
    "|value|meaning|\n",
    "|-|-|\n",
    "|never|Ποτέ|\n",
    "|u4m|Λιγότερο από 4 μήνες|\n",
    "|u7m|Λιγότερο από 7 μήνες|\n",
    "|u1y|Λιγότερο από 1 χρόνο|\n",
    "|o1y|Πάνω από 1 χρόνο|\n"
   ]
  },
  {
   "metadata": {
    "ExecuteTime": {
     "end_time": "2024-09-11T15:16:57.312116Z",
     "start_time": "2024-09-11T15:16:57.308631Z"
    }
   },
   "cell_type": "code",
   "source": [
    "# def pdays_to_categorical(days):\n",
    "#     if days == -1:\n",
    "#         return 'never'\n",
    "#     elif days < 120:\n",
    "#         return 'u4m'\n",
    "#     elif days < 210:\n",
    "#         return 'u7m'\n",
    "#     elif days < 365:\n",
    "#         return 'u1y'\n",
    "#     elif days >= 365:\n",
    "#         return 'o1y'"
   ],
   "outputs": [],
   "execution_count": 180
  },
  {
   "metadata": {
    "ExecuteTime": {
     "end_time": "2024-09-11T15:16:57.415089Z",
     "start_time": "2024-09-11T15:16:57.412095Z"
    }
   },
   "cell_type": "code",
   "source": "# clean_data['pdays'] = clean_data['pdays'].apply(pdays_to_categorical)",
   "outputs": [],
   "execution_count": 181
  },
  {
   "metadata": {
    "ExecuteTime": {
     "end_time": "2024-09-11T15:16:57.512098Z",
     "start_time": "2024-09-11T15:16:57.509165Z"
    }
   },
   "cell_type": "code",
   "source": [
    "# out = clean_data.pdays.value_counts(sort=True, normalize=True)\n",
    "# \n",
    "# fig, ax = plt.subplots(1, 1, figsize=(6, 6))\n",
    "# out.plot.pie(legend=True, ax=ax)\n",
    "# plt.show()"
   ],
   "outputs": [],
   "execution_count": 182
  },
  {
   "metadata": {},
   "cell_type": "markdown",
   "source": [
    "#### Μετατροπή του previous σε boolean τιμή\n",
    "Αρχικά όλες οι τιμές από >1 θα γίνουν 1, έτσι ώστε η στήλη να περιέχει μόνο 1 και 0. Μετά θα μετασχηματιστεί σε boolean.\n"
   ]
  },
  {
   "metadata": {
    "ExecuteTime": {
     "end_time": "2024-09-11T15:16:57.581934Z",
     "start_time": "2024-09-11T15:16:57.574415Z"
    }
   },
   "cell_type": "code",
   "source": [
    "clean_data.loc[clean_data.previous > 1, 'previous'] = 1\n",
    "clean_data.previous.describe()"
   ],
   "outputs": [
    {
     "data": {
      "text/plain": [
       "count    38666.000000\n",
       "mean         0.190658\n",
       "std          0.392825\n",
       "min          0.000000\n",
       "25%          0.000000\n",
       "50%          0.000000\n",
       "75%          0.000000\n",
       "max          1.000000\n",
       "Name: previous, dtype: float64"
      ]
     },
     "execution_count": 183,
     "metadata": {},
     "output_type": "execute_result"
    }
   ],
   "execution_count": 183
  },
  {
   "metadata": {
    "ExecuteTime": {
     "end_time": "2024-09-11T15:16:57.687639Z",
     "start_time": "2024-09-11T15:16:57.681982Z"
    }
   },
   "cell_type": "code",
   "source": [
    "clean_data.previous = clean_data.previous.astype('bool')\n",
    "clean_data.previous.describe()"
   ],
   "outputs": [
    {
     "data": {
      "text/plain": [
       "count     38666\n",
       "unique        2\n",
       "top       False\n",
       "freq      31294\n",
       "Name: previous, dtype: object"
      ]
     },
     "execution_count": 184,
     "metadata": {},
     "output_type": "execute_result"
    }
   ],
   "execution_count": 184
  },
  {
   "metadata": {
    "ExecuteTime": {
     "end_time": "2024-09-11T15:16:57.836656Z",
     "start_time": "2024-09-11T15:16:57.776556Z"
    }
   },
   "cell_type": "code",
   "source": [
    "out = clean_data.previous.value_counts(sort=True, normalize=True)\n",
    "\n",
    "fig, ax = plt.subplots(1, 1, figsize=(6, 6))\n",
    "out.plot.pie(legend=True, ax=ax)\n",
    "plt.show()"
   ],
   "outputs": [
    {
     "data": {
      "text/plain": [
       "<Figure size 600x600 with 1 Axes>"
      ],
      "image/png": "[encoded data removed]"
     },
     "metadata": {},
     "output_type": "display_data"
    }
   ],
   "execution_count": 185
  },
  {
   "metadata": {},
   "cell_type": "markdown",
   "source": [
    "#### duration\n",
    "#### Με βάση την καθοδήγηση του dataset, για ένα predictive μοντέλο το χαρακτηριστικό duration δεν είναι πολύ χρήσιμο καθώς η διάρκεια της κλήσης δεν είναι γνωστή πριν αυτή ξεκινήσει και το αποτέλεσμα y γίνεται αυτόματα γνωστό στο τέλος της. Οπότε θα αφαιρεθεί."
   ]
  },
  {
   "metadata": {
    "ExecuteTime": {
     "end_time": "2024-09-11T15:16:57.932207Z",
     "start_time": "2024-09-11T15:16:57.928730Z"
    }
   },
   "cell_type": "code",
   "source": [
    "# clean_data = clean_data.drop(columns=['duration'], axis=1)\n",
    "# clean_data.columns"
   ],
   "outputs": [],
   "execution_count": 186
  },
  {
   "metadata": {},
   "cell_type": "markdown",
   "source": [
    "#### day & month\n",
    "#### Καθώς η ακριβής ημερομηνία της τελευταίας επικοινωνίας δεν μας ενδιαφέρει απαραίτητα για αυτή τη μελέτη, θα αντλήσουμε τη γενικότερη εκτίμηση για το πότε αυτή συνέβη από τη μετασχηματισμένη κατηγορική στήλη pdays, και θα αφαιρέσουμε τα day, month χαρακτηριστικά."
   ]
  },
  {
   "metadata": {
    "ExecuteTime": {
     "end_time": "2024-09-11T15:16:58.016831Z",
     "start_time": "2024-09-11T15:16:58.014271Z"
    }
   },
   "cell_type": "code",
   "source": [
    "# clean_data = clean_data.drop(columns=['day','month'], axis=1)\n",
    "# clean_data = clean_data.reset_index(drop=True)\n",
    "# clean_data.columns"
   ],
   "outputs": [],
   "execution_count": 187
  },
  {
   "metadata": {},
   "cell_type": "markdown",
   "source": "#### Split"
  },
  {
   "metadata": {
    "ExecuteTime": {
     "end_time": "2024-09-11T15:16:58.148802Z",
     "start_time": "2024-09-11T15:16:58.083872Z"
    }
   },
   "cell_type": "code",
   "source": [
    "#One Hot encoding\n",
    "df_clean, df_clean_label = pd.get_dummies(clean_data.drop('y', axis=1)), clean_data.y\n",
    "# Split Dataset to Train/Validation/Test Sets \n",
    "size = len(clean_data)\n",
    "indices = list(range(size))\n",
    "\n",
    "val_split = (val_size := 0.2) + (test_size := 0.2)\n",
    "test_split = test_size / val_split\n",
    "\n",
    "seed = 42\n",
    "\n",
    "train_indices, val_indices = train_test_split(indices, test_size=val_split, random_state=seed, stratify=df_clean_label)\n",
    "val_indices, test_indices = train_test_split(val_indices, test_size=test_split, random_state=seed, stratify=df_clean_label.iloc[val_indices])\n",
    "\n",
    "df_clean_train = df_clean.iloc[train_indices].copy()\n",
    "df_clean_val = df_clean.iloc[val_indices].copy()\n",
    "df_clean_test = df_clean.iloc[test_indices].copy()\n",
    "\n",
    "df_clean_y_train = df_clean_label.iloc[train_indices].copy()\n",
    "df_clean_y_val = df_clean_label.iloc[val_indices].copy()\n",
    "df_clean_y_test = df_clean_label.iloc[test_indices].copy()"
   ],
   "outputs": [],
   "execution_count": 188
  },
  {
   "metadata": {},
   "cell_type": "markdown",
   "source": "#### Normalization"
  },
  {
   "metadata": {
    "ExecuteTime": {
     "end_time": "2024-09-11T15:16:58.232156Z",
     "start_time": "2024-09-11T15:16:58.213826Z"
    }
   },
   "cell_type": "code",
   "source": [
    "scaler = StandardScaler()\n",
    "df_clean_train[\n",
    "    ['age', 'balance', 'day', 'duration', 'campaign', 'pdays', 'previous']\n",
    "] = scaler.fit_transform(df_clean_train[\n",
    "    ['age', 'balance', 'day', 'duration', 'campaign', 'pdays', 'previous']\n",
    "])\n",
    "\n",
    "df_clean_val[\n",
    "    ['age', 'balance', 'day', 'duration', 'campaign', 'pdays', 'previous']\n",
    "] = scaler.transform(df_clean_val[\n",
    "    ['age', 'balance', 'day', 'duration', 'campaign', 'pdays', 'previous']\n",
    "])\n",
    "df_clean_test[\n",
    "    ['age', 'balance', 'day', 'duration', 'campaign', 'pdays', 'previous']\n",
    "] = scaler.transform(df_clean_test[\n",
    "    ['age', 'balance', 'day', 'duration', 'campaign', 'pdays', 'previous']\n",
    "])"
   ],
   "outputs": [],
   "execution_count": 189
  },
  {
   "metadata": {},
   "cell_type": "markdown",
   "source": "#### Pickle"
  },
  {
   "metadata": {
    "ExecuteTime": {
     "end_time": "2024-09-11T15:16:58.327746Z",
     "start_time": "2024-09-11T15:16:58.296210Z"
    }
   },
   "cell_type": "code",
   "source": [
    "# Saving Results\n",
    "\n",
    "pd.Series({\n",
    "    'X_train': df_clean_train,\n",
    "    'y_train': df_clean_y_train,\n",
    "    'X_val': df_clean_val,\n",
    "    'y_val': df_clean_y_val,\n",
    "    'X_test': df_clean_test,\n",
    "    'y_test': df_clean_y_val,\n",
    "    'scaler':scaler,\n",
    "}).to_pickle(\n",
    "    'clean-bank-data.pickle'\n",
    ")"
   ],
   "outputs": [],
   "execution_count": 190
  },
  {
   "metadata": {},
   "cell_type": "markdown",
   "source": "### Cell jail"
  },
  {
   "metadata": {
    "ExecuteTime": {
     "end_time": "2024-09-11T15:16:58.392665Z",
     "start_time": "2024-09-11T15:16:58.389530Z"
    }
   },
   "cell_type": "code",
   "source": [
    "\n",
    "# outliers = numeric_columns[~numeric_columns.index.isin(clean_numeric_columns.index)]\n",
    "# #outliers = clean_numeric_columns\n",
    "\n",
    "# fig, ax = plt.subplots(1,1)\n",
    "\n",
    "# numeric_columns.plot.scatter(x='age',y='balance',ax=ax)\n",
    "# # Overlay outliers as red dots on the x-axis\n",
    "# # plt.scatter(outliers['balance'], np.zeros_like(outliers['balance']), color='red', marker='o', label='Outliers', zorder=5)\n",
    "# outliers.plot.scatter(x='age', y='balance',color='red', marker='o', label='Outliers', zorder=5)\n",
    "\n",
    "# ax.set_xlabel('Age')\n",
    "# ax.set_ylabel('Balance ($)')\n",
    "\n",
    "# fig, ax = plt.subplots(1,1)\n",
    "\n",
    "# clean_numeric_columns.plot.box(ax=ax, rot=90, showmeans=True)\n",
    "\n",
    "# ax.set_ylim(0, 10000)\n",
    "# ax.set_yscale('symlog')"
   ],
   "outputs": [],
   "execution_count": 191
  },
  {
   "metadata": {
    "ExecuteTime": {
     "end_time": "2024-09-11T15:16:58.458623Z",
     "start_time": "2024-09-11T15:16:58.455713Z"
    }
   },
   "cell_type": "code",
   "source": [
    "# # Initialize imputer\n",
    "# imputer = KNNImputer(n_neighbors=2, weights='uniform')\n",
    "# \n",
    "# # Marking 'unknown' values as NaN\n",
    "# nan = np.nan\n",
    "# missing_data = clean_data.replace('unknown', nan)\n",
    "# \n",
    "# # Encoding    \n",
    "# label_encoders = {}\n",
    "# for column in missing_data.select_dtypes(include=['object']).columns:\n",
    "#     le = LabelEncoder()\n",
    "#     missing_data[column] = missing_data[column].astype(str)\n",
    "#     missing_data[column] = le.fit_transform(missing_data[column])\n",
    "#     label_encoders[column] = le\n",
    "# \n",
    "# # Separating the columns to be imputed\n",
    "# not_to_impute = missing_data.drop(columns=['job', 'education', 'contact'])\n",
    "# columns_to_impute = missing_data[['job', 'education', 'contact']]\n",
    "# \n",
    "# # Imputation\n",
    "# filled_data_arr = imputer.fit_transform(columns_to_impute)\n",
    "# filled_data = pd.DataFrame(filled_data_arr, columns=columns_to_impute.columns)\n",
    "# \n",
    "# # Concatenation\n",
    "# imputed_df = pd.concat([filled_data, not_to_impute], axis=1)\n",
    "# \n",
    "# # Decode\n",
    "# for column in label_encoders.keys():\n",
    "#     le = label_encoders[column]\n",
    "#     imputed_df[column] = le.inverse_transform(imputed_df[column].round().astype(int))\n",
    "# \n",
    "# imputed_df['job', 'education', 'contact'].describe()\n"
   ],
   "outputs": [],
   "execution_count": 192
  }
 ],
 "metadata": {
  "kernelspec": {
   "display_name": "base",
   "language": "python",
   "name": "python3"
  },
  "language_info": {
   "codemirror_mode": {
    "name": "ipython",
    "version": 3
   },
   "file_extension": ".py",
   "mimetype": "text/x-python",
   "name": "python",
   "nbconvert_exporter": "python",
   "pygments_lexer": "ipython3",
   "version": "3.11.7"
  }
 },
 "nbformat": 4,
 "nbformat_minor": 2
}
